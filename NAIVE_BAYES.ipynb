{
 "cells": [
  {
   "cell_type": "code",
   "execution_count": 170,
   "metadata": {},
   "outputs": [],
   "source": [
    "import pandas\n",
    "import csv\n",
    "import matplotlib.pyplot as plt\n",
    "import numpy as np"
   ]
  },
  {
   "cell_type": "markdown",
   "metadata": {},
   "source": [
    "## Reading Data"
   ]
  },
  {
   "cell_type": "code",
   "execution_count": 243,
   "metadata": {},
   "outputs": [],
   "source": [
    "data = pandas.read_csv(\"data/training_v2.csv\", decimal=\".\")"
   ]
  },
  {
   "cell_type": "code",
   "execution_count": 203,
   "metadata": {},
   "outputs": [
    {
     "name": "stdout",
     "output_type": "stream",
     "text": [
      "(91713, 186)\n",
      "(25, 186)\n"
     ]
    },
    {
     "data": {
      "text/html": [
       "<div>\n",
       "<style scoped>\n",
       "    .dataframe tbody tr th:only-of-type {\n",
       "        vertical-align: middle;\n",
       "    }\n",
       "\n",
       "    .dataframe tbody tr th {\n",
       "        vertical-align: top;\n",
       "    }\n",
       "\n",
       "    .dataframe thead th {\n",
       "        text-align: right;\n",
       "    }\n",
       "</style>\n",
       "<table border=\"1\" class=\"dataframe\">\n",
       "  <thead>\n",
       "    <tr style=\"text-align: right;\">\n",
       "      <th></th>\n",
       "      <th>encounter_id</th>\n",
       "      <th>patient_id</th>\n",
       "      <th>hospital_id</th>\n",
       "      <th>hospital_death</th>\n",
       "      <th>age</th>\n",
       "      <th>bmi</th>\n",
       "      <th>elective_surgery</th>\n",
       "      <th>ethnicity</th>\n",
       "      <th>gender</th>\n",
       "      <th>height</th>\n",
       "      <th>...</th>\n",
       "      <th>aids</th>\n",
       "      <th>cirrhosis</th>\n",
       "      <th>diabetes_mellitus</th>\n",
       "      <th>hepatic_failure</th>\n",
       "      <th>immunosuppression</th>\n",
       "      <th>leukemia</th>\n",
       "      <th>lymphoma</th>\n",
       "      <th>solid_tumor_with_metastasis</th>\n",
       "      <th>apache_3j_bodysystem</th>\n",
       "      <th>apache_2_bodysystem</th>\n",
       "    </tr>\n",
       "  </thead>\n",
       "  <tbody>\n",
       "    <tr>\n",
       "      <th>0</th>\n",
       "      <td>66154</td>\n",
       "      <td>25312</td>\n",
       "      <td>118</td>\n",
       "      <td>0</td>\n",
       "      <td>68.0</td>\n",
       "      <td>22.73</td>\n",
       "      <td>0</td>\n",
       "      <td>Caucasian</td>\n",
       "      <td>M</td>\n",
       "      <td>180.3</td>\n",
       "      <td>...</td>\n",
       "      <td>0.0</td>\n",
       "      <td>0.0</td>\n",
       "      <td>1.0</td>\n",
       "      <td>0.0</td>\n",
       "      <td>0.0</td>\n",
       "      <td>0.0</td>\n",
       "      <td>0.0</td>\n",
       "      <td>0.0</td>\n",
       "      <td>Sepsis</td>\n",
       "      <td>Cardiovascular</td>\n",
       "    </tr>\n",
       "    <tr>\n",
       "      <th>1</th>\n",
       "      <td>114252</td>\n",
       "      <td>59342</td>\n",
       "      <td>81</td>\n",
       "      <td>0</td>\n",
       "      <td>77.0</td>\n",
       "      <td>27.42</td>\n",
       "      <td>0</td>\n",
       "      <td>Caucasian</td>\n",
       "      <td>F</td>\n",
       "      <td>160.0</td>\n",
       "      <td>...</td>\n",
       "      <td>0.0</td>\n",
       "      <td>0.0</td>\n",
       "      <td>1.0</td>\n",
       "      <td>0.0</td>\n",
       "      <td>0.0</td>\n",
       "      <td>0.0</td>\n",
       "      <td>0.0</td>\n",
       "      <td>0.0</td>\n",
       "      <td>Respiratory</td>\n",
       "      <td>Respiratory</td>\n",
       "    </tr>\n",
       "    <tr>\n",
       "      <th>2</th>\n",
       "      <td>119783</td>\n",
       "      <td>50777</td>\n",
       "      <td>118</td>\n",
       "      <td>0</td>\n",
       "      <td>25.0</td>\n",
       "      <td>31.95</td>\n",
       "      <td>0</td>\n",
       "      <td>Caucasian</td>\n",
       "      <td>F</td>\n",
       "      <td>172.7</td>\n",
       "      <td>...</td>\n",
       "      <td>0.0</td>\n",
       "      <td>0.0</td>\n",
       "      <td>0.0</td>\n",
       "      <td>0.0</td>\n",
       "      <td>0.0</td>\n",
       "      <td>0.0</td>\n",
       "      <td>0.0</td>\n",
       "      <td>0.0</td>\n",
       "      <td>Metabolic</td>\n",
       "      <td>Metabolic</td>\n",
       "    </tr>\n",
       "    <tr>\n",
       "      <th>3</th>\n",
       "      <td>79267</td>\n",
       "      <td>46918</td>\n",
       "      <td>118</td>\n",
       "      <td>0</td>\n",
       "      <td>81.0</td>\n",
       "      <td>22.64</td>\n",
       "      <td>1</td>\n",
       "      <td>Caucasian</td>\n",
       "      <td>F</td>\n",
       "      <td>165.1</td>\n",
       "      <td>...</td>\n",
       "      <td>0.0</td>\n",
       "      <td>0.0</td>\n",
       "      <td>0.0</td>\n",
       "      <td>0.0</td>\n",
       "      <td>0.0</td>\n",
       "      <td>0.0</td>\n",
       "      <td>0.0</td>\n",
       "      <td>0.0</td>\n",
       "      <td>Cardiovascular</td>\n",
       "      <td>Cardiovascular</td>\n",
       "    </tr>\n",
       "    <tr>\n",
       "      <th>4</th>\n",
       "      <td>92056</td>\n",
       "      <td>34377</td>\n",
       "      <td>33</td>\n",
       "      <td>0</td>\n",
       "      <td>19.0</td>\n",
       "      <td>NaN</td>\n",
       "      <td>0</td>\n",
       "      <td>Caucasian</td>\n",
       "      <td>M</td>\n",
       "      <td>188.0</td>\n",
       "      <td>...</td>\n",
       "      <td>0.0</td>\n",
       "      <td>0.0</td>\n",
       "      <td>0.0</td>\n",
       "      <td>0.0</td>\n",
       "      <td>0.0</td>\n",
       "      <td>0.0</td>\n",
       "      <td>0.0</td>\n",
       "      <td>0.0</td>\n",
       "      <td>Trauma</td>\n",
       "      <td>Trauma</td>\n",
       "    </tr>\n",
       "  </tbody>\n",
       "</table>\n",
       "<p>5 rows × 186 columns</p>\n",
       "</div>"
      ],
      "text/plain": [
       "   encounter_id  patient_id  hospital_id  hospital_death   age    bmi  \\\n",
       "0         66154       25312          118               0  68.0  22.73   \n",
       "1        114252       59342           81               0  77.0  27.42   \n",
       "2        119783       50777          118               0  25.0  31.95   \n",
       "3         79267       46918          118               0  81.0  22.64   \n",
       "4         92056       34377           33               0  19.0    NaN   \n",
       "\n",
       "   elective_surgery  ethnicity gender  height  ... aids cirrhosis  \\\n",
       "0                 0  Caucasian      M   180.3  ...  0.0       0.0   \n",
       "1                 0  Caucasian      F   160.0  ...  0.0       0.0   \n",
       "2                 0  Caucasian      F   172.7  ...  0.0       0.0   \n",
       "3                 1  Caucasian      F   165.1  ...  0.0       0.0   \n",
       "4                 0  Caucasian      M   188.0  ...  0.0       0.0   \n",
       "\n",
       "   diabetes_mellitus hepatic_failure immunosuppression  leukemia  lymphoma  \\\n",
       "0                1.0             0.0               0.0       0.0       0.0   \n",
       "1                1.0             0.0               0.0       0.0       0.0   \n",
       "2                0.0             0.0               0.0       0.0       0.0   \n",
       "3                0.0             0.0               0.0       0.0       0.0   \n",
       "4                0.0             0.0               0.0       0.0       0.0   \n",
       "\n",
       "   solid_tumor_with_metastasis  apache_3j_bodysystem  apache_2_bodysystem  \n",
       "0                          0.0                Sepsis       Cardiovascular  \n",
       "1                          0.0           Respiratory          Respiratory  \n",
       "2                          0.0             Metabolic            Metabolic  \n",
       "3                          0.0        Cardiovascular       Cardiovascular  \n",
       "4                          0.0                Trauma               Trauma  \n",
       "\n",
       "[5 rows x 186 columns]"
      ]
     },
     "execution_count": 203,
     "metadata": {},
     "output_type": "execute_result"
    }
   ],
   "source": [
    "print(data.shape)\n",
    "print(data.dropna().shape)\n",
    "data.head()"
   ]
  },
  {
   "cell_type": "code",
   "execution_count": 204,
   "metadata": {},
   "outputs": [
    {
     "data": {
      "text/plain": [
       "['age',\n",
       " 'creatinine_apache',\n",
       " 'heart_rate_apache',\n",
       " 'hematocrit_apache',\n",
       " 'map_apache',\n",
       " 'pao2_apache',\n",
       " 'ph_apache',\n",
       " 'sodium_apache',\n",
       " 'temp_apache',\n",
       " 'wbc_apache',\n",
       " 'aids',\n",
       " 'cirrhosis',\n",
       " 'diabetes_mellitus',\n",
       " 'hepatic_failure',\n",
       " 'immunosuppression',\n",
       " 'leukemia',\n",
       " 'lymphoma',\n",
       " 'solid_tumor_with_metastasis']"
      ]
     },
     "execution_count": 204,
     "metadata": {},
     "output_type": "execute_result"
    }
   ],
   "source": [
    "variables = \"age, creatinine_apache, heart_rate_apache, hematocrit_apache, map_apache, pao2_apache, ph_apache, sodium_apache, temp_apache, wbc_apache, aids, cirrhosis, diabetes_mellitus, hepatic_failure, immunosuppression, leukemia, lymphoma, solid_tumor_with_metastasis\"\n",
    "variablesL = variables.split(\", \")\n",
    "variablesL"
   ]
  },
  {
   "cell_type": "code",
   "execution_count": 205,
   "metadata": {},
   "outputs": [],
   "source": [
    "datam = data[variablesL]"
   ]
  },
  {
   "cell_type": "code",
   "execution_count": 206,
   "metadata": {},
   "outputs": [],
   "source": [
    "## Imputacion con mediana cuando la districucion de las variables no se asemeja a la normal, sesgada"
   ]
  },
  {
   "cell_type": "code",
   "execution_count": 207,
   "metadata": {},
   "outputs": [],
   "source": [
    "from sklearn.impute import SimpleImputer"
   ]
  },
  {
   "cell_type": "code",
   "execution_count": 208,
   "metadata": {},
   "outputs": [
    {
     "name": "stdout",
     "output_type": "stream",
     "text": [
      "(68, 91713)\n"
     ]
    }
   ],
   "source": [
    "imp = SimpleImputer(missing_values=np.nan, strategy='median')\n",
    "variables_mediana =['gcs_motor_apache', 'gcs_eyes_apache', 'gcs_verbal_apache', 'weight', \"bmi\"\n",
    ", 'bun_apache', 'creatinine_apache', 'sodium_apache', 'temp_apache', 'wbc_apache', 'd1_diasbp_max', 'd1_diasbp_min', 'd1_diasbp_min', \"d1_diasbp_noninvasive_min\", \"d1_heartrate_max\", \"d1_heartrate_min\", \"d1_mbp_max\", \"d1_mbp_noninvasive_max\",  \"d1_mbp_noninvasive_min\", \"d1_resprate_max\", \"d1_resprate_min\", \"d1_spo2_max\", \"d1_spo2_min\", \"d1_sysbp_max\", \"d1_sysbp_min\", \"d1_sysbp_noninvasive_max\", \"d1_sysbp_noninvasive_min\", \"d1_temp_max\", \"d1_temp_min\", \"h1_diasbp_max\", \"h1_diasbp_min\", \"h1_diasbp_noninvasive_max\", \"h1_diasbp_noninvasive_min\", \"h1_heartrate_max\", \"h1_heartrate_min\", \"h1_mbp_max\", \"h1_mbp_min\", \"h1_mbp_noninvasive_max\", \"h1_mbp_noninvasive_min\", \"h1_resprate_max\", \"h1_spo2_max\", \"h1_spo2_min\", \"h1_sysbp_max\", \"h1_sysbp_min\", \"h1_sysbp_noninvasive_max\", \"h1_sysbp_noninvasive_min\", \"h1_temp_max\", \"h1_temp_min\", \"d1_bun_max\", \"d1_bun_min\", \"d1_calcium_max\", \"d1_calcium_min\", \"d1_creatinine_max\", \"d1_creatinine_min\", \"d1_glucose_max\", \"d1_glucose_min\", \"d1_hco3_max\", \"d1_hco3_min\", \"d1_hemaglobin_min\", \"d1_platelets_max\", \"d1_platelets_min\", \"d1_potassium_max\", \"d1_potassium_min\", \"d1_sodium_min\", \"d1_wbc_max\", \"d1_wbc_min\", \"apache_4a_hospital_death_prob\", \"apache_4a_icu_death_prob\"]\n",
    "data_nueva = imp.fit_transform(data[variables_mediana]).T\n",
    "print(data_nueva.shape)\n",
    "contador = 0\n",
    "for i in variables_mediana:\n",
    "    \n",
    "    data[i] = data_nueva[contador]\n",
    "    contador\n",
    "    contador=contador+1"
   ]
  },
  {
   "cell_type": "code",
   "execution_count": 209,
   "metadata": {},
   "outputs": [
    {
     "data": {
      "text/plain": [
       "{'age',\n",
       " 'aids',\n",
       " 'cirrhosis',\n",
       " 'diabetes_mellitus',\n",
       " 'heart_rate_apache',\n",
       " 'hematocrit_apache',\n",
       " 'hepatic_failure',\n",
       " 'immunosuppression',\n",
       " 'leukemia',\n",
       " 'lymphoma',\n",
       " 'map_apache',\n",
       " 'pao2_apache',\n",
       " 'ph_apache',\n",
       " 'solid_tumor_with_metastasis'}"
      ]
     },
     "execution_count": 209,
     "metadata": {},
     "output_type": "execute_result"
    }
   ],
   "source": [
    "diferencia_mediana = set(variablesL) - set(variables_mediana)\n",
    "diferencia_mediana"
   ]
  },
  {
   "cell_type": "markdown",
   "metadata": {},
   "source": [
    "# datam"
   ]
  },
  {
   "cell_type": "code",
   "execution_count": 210,
   "metadata": {},
   "outputs": [
    {
     "name": "stdout",
     "output_type": "stream",
     "text": [
      "(14, 91713)\n"
     ]
    },
    {
     "name": "stderr",
     "output_type": "stream",
     "text": [
      "/home/eagalvez/.local/lib/python3.6/site-packages/ipykernel_launcher.py:7: SettingWithCopyWarning: \n",
      "A value is trying to be set on a copy of a slice from a DataFrame.\n",
      "Try using .loc[row_indexer,col_indexer] = value instead\n",
      "\n",
      "See the caveats in the documentation: http://pandas.pydata.org/pandas-docs/stable/user_guide/indexing.html#returning-a-view-versus-a-copy\n",
      "  import sys\n"
     ]
    }
   ],
   "source": [
    "imp = SimpleImputer(missing_values=np.nan, strategy='median')\n",
    "data_nueva = imp.fit_transform(datam[diferencia_mediana]).T\n",
    "print(data_nueva.shape)\n",
    "contador = 0\n",
    "for i in diferencia_mediana:\n",
    "    if i in variablesL:\n",
    "        datam[i] = data_nueva[contador]\n",
    "        contador\n",
    "        contador=contador+1"
   ]
  },
  {
   "cell_type": "code",
   "execution_count": 181,
   "metadata": {},
   "outputs": [],
   "source": [
    "## Imputacion con media cuando la districucion de las variables se asemeja a la normal"
   ]
  },
  {
   "cell_type": "code",
   "execution_count": 212,
   "metadata": {},
   "outputs": [
    {
     "name": "stdout",
     "output_type": "stream",
     "text": [
      "(9, 91713)\n"
     ]
    }
   ],
   "source": [
    "imp = SimpleImputer(strategy='mean')\n",
    "variables_mean =['age', 'height',  'hematocrit_apache','map_apache', \"d1_mbp_min\", \"d1_hemaglobin_max\", \"d1_hematocrit_max\", \"d1_hematocrit_min\", \"d1_sodium_max\"]\n",
    "data_nueva = imp.fit_transform(data[variables_mean]).T\n",
    "print(data_nueva.shape)\n",
    "contador = 0\n",
    "for i in variables_mean:\n",
    "    data[i] = data_nueva[contador]\n",
    "    contador=contador+1"
   ]
  },
  {
   "cell_type": "markdown",
   "metadata": {},
   "source": [
    "## datam"
   ]
  },
  {
   "cell_type": "code",
   "execution_count": 211,
   "metadata": {},
   "outputs": [
    {
     "data": {
      "text/plain": [
       "{'aids',\n",
       " 'cirrhosis',\n",
       " 'creatinine_apache',\n",
       " 'diabetes_mellitus',\n",
       " 'heart_rate_apache',\n",
       " 'hepatic_failure',\n",
       " 'immunosuppression',\n",
       " 'leukemia',\n",
       " 'lymphoma',\n",
       " 'pao2_apache',\n",
       " 'ph_apache',\n",
       " 'sodium_apache',\n",
       " 'solid_tumor_with_metastasis',\n",
       " 'temp_apache',\n",
       " 'wbc_apache'}"
      ]
     },
     "execution_count": 211,
     "metadata": {},
     "output_type": "execute_result"
    }
   ],
   "source": [
    "diferencia_promedio = set(variablesL) - set(variables_mean)\n",
    "diferencia_promedio"
   ]
  },
  {
   "cell_type": "code",
   "execution_count": null,
   "metadata": {},
   "outputs": [],
   "source": []
  },
  {
   "cell_type": "code",
   "execution_count": 213,
   "metadata": {},
   "outputs": [
    {
     "name": "stdout",
     "output_type": "stream",
     "text": [
      "(15, 91713)\n"
     ]
    },
    {
     "name": "stderr",
     "output_type": "stream",
     "text": [
      "/home/eagalvez/.local/lib/python3.6/site-packages/ipykernel_launcher.py:6: SettingWithCopyWarning: \n",
      "A value is trying to be set on a copy of a slice from a DataFrame.\n",
      "Try using .loc[row_indexer,col_indexer] = value instead\n",
      "\n",
      "See the caveats in the documentation: http://pandas.pydata.org/pandas-docs/stable/user_guide/indexing.html#returning-a-view-versus-a-copy\n",
      "  \n"
     ]
    }
   ],
   "source": [
    "imp = SimpleImputer(strategy='mean')\n",
    "data_nueva = imp.fit_transform(datam[diferencia_promedio]).T\n",
    "print(data_nueva.shape)\n",
    "contador = 0\n",
    "for i in diferencia_promedio:\n",
    "    datam[i] = data_nueva[contador]\n",
    "    contador=contador+1"
   ]
  },
  {
   "cell_type": "code",
   "execution_count": 183,
   "metadata": {},
   "outputs": [],
   "source": [
    "## Imputacion en variables categoricas con el mas frecuente"
   ]
  },
  {
   "cell_type": "code",
   "execution_count": 214,
   "metadata": {},
   "outputs": [
    {
     "name": "stdout",
     "output_type": "stream",
     "text": [
      "(26, 91713)\n"
     ]
    }
   ],
   "source": [
    "imp = SimpleImputer(strategy=\"most_frequent\")\n",
    "variables_categoricas =[ 'elective_surgery',\"ethnicity\",'readmission_status', 'apache_post_operative',\n",
    " 'arf_apache',\n",
    " 'gcs_unable_apache',\n",
    " 'intubated_apache',\n",
    " 'ventilated_apache',\n",
    " 'aids',\n",
    " 'cirrhosis',\n",
    " 'diabetes_mellitus',\n",
    " 'hepatic_failure',\n",
    " 'immunosuppression',\n",
    " 'leukemia',\n",
    " 'lymphoma',\n",
    " 'solid_tumor_with_metastasis',\n",
    " 'ethnicity',\n",
    " 'gender',\n",
    " 'hospital_admit_source',\n",
    " 'icu_admit_source',\n",
    " 'icu_stay_type',\n",
    " 'icu_type',\n",
    " 'apache_3j_bodysystem',\n",
    " 'apache_2_bodysystem',\n",
    " 'apache_2_diagnosis', 'apache_3j_diagnosis']\n",
    "categorias = ['ethnicity','gender',\"hospital_admit_source\", \"icu_admit_source\", \"solid_tumor_with_metastasis\", \"icu_stay_type\",\"icu_type\", \"apache_3j_bodysystem\", \"apache_2_bodysystem\"]\n",
    "data_nueva = imp.fit_transform(data[variables_categoricas]).T \n",
    "print(data_nueva.shape)\n",
    "contador = 0\n",
    "for i in variables_categoricas:\n",
    "    data[i] = data_nueva[contador]\n",
    "    contador\n",
    "    contador=contador+1"
   ]
  },
  {
   "cell_type": "code",
   "execution_count": 215,
   "metadata": {},
   "outputs": [
    {
     "data": {
      "text/plain": [
       "{'age',\n",
       " 'creatinine_apache',\n",
       " 'heart_rate_apache',\n",
       " 'hematocrit_apache',\n",
       " 'map_apache',\n",
       " 'pao2_apache',\n",
       " 'ph_apache',\n",
       " 'sodium_apache',\n",
       " 'temp_apache',\n",
       " 'wbc_apache'}"
      ]
     },
     "execution_count": 215,
     "metadata": {},
     "output_type": "execute_result"
    }
   ],
   "source": [
    "diferencia_categoricas = set(variablesL) - set(variables_categoricas)\n",
    "diferencia_categoricas"
   ]
  },
  {
   "cell_type": "code",
   "execution_count": 216,
   "metadata": {},
   "outputs": [
    {
     "name": "stdout",
     "output_type": "stream",
     "text": [
      "(10, 91713)\n"
     ]
    },
    {
     "name": "stderr",
     "output_type": "stream",
     "text": [
      "/home/eagalvez/.local/lib/python3.6/site-packages/ipykernel_launcher.py:8: SettingWithCopyWarning: \n",
      "A value is trying to be set on a copy of a slice from a DataFrame.\n",
      "Try using .loc[row_indexer,col_indexer] = value instead\n",
      "\n",
      "See the caveats in the documentation: http://pandas.pydata.org/pandas-docs/stable/user_guide/indexing.html#returning-a-view-versus-a-copy\n",
      "  \n"
     ]
    }
   ],
   "source": [
    "imp = SimpleImputer(strategy=\"most_frequent\")\n",
    "\n",
    "categorias = ['ethnicity','gender',\"hospital_admit_source\", \"icu_admit_source\", \"solid_tumor_with_metastasis\", \"icu_stay_type\",\"icu_type\", \"apache_3j_bodysystem\", \"apache_2_bodysystem\"]\n",
    "data_nueva = imp.fit_transform(datam[diferencia_categoricas]).T \n",
    "print(data_nueva.shape)\n",
    "contador = 0\n",
    "for i in diferencia_categoricas:\n",
    "    datam[i] = data_nueva[contador]\n",
    "    contador\n",
    "    contador=contador+1"
   ]
  },
  {
   "cell_type": "code",
   "execution_count": 218,
   "metadata": {},
   "outputs": [],
   "source": [
    "result = datam.isnull().sum() / n_samples \n",
    "#el porcentaje de las variables nulas con respecto a toda mi data por columna\n",
    "r = result.sort_values(ascending=True) "
   ]
  },
  {
   "cell_type": "code",
   "execution_count": 221,
   "metadata": {},
   "outputs": [
    {
     "data": {
      "text/plain": [
       "Index(['age', 'creatinine_apache', 'heart_rate_apache', 'hematocrit_apache',\n",
       "       'map_apache', 'pao2_apache', 'ph_apache', 'sodium_apache',\n",
       "       'temp_apache', 'wbc_apache', 'aids', 'cirrhosis', 'diabetes_mellitus',\n",
       "       'hepatic_failure', 'immunosuppression', 'leukemia', 'lymphoma',\n",
       "       'solid_tumor_with_metastasis'],\n",
       "      dtype='object')"
      ]
     },
     "execution_count": 221,
     "metadata": {},
     "output_type": "execute_result"
    }
   ],
   "source": [
    "datam.columns"
   ]
  },
  {
   "cell_type": "code",
   "execution_count": 228,
   "metadata": {},
   "outputs": [
    {
     "data": {
      "text/plain": [
       "['ethnicity',\n",
       " 'gender',\n",
       " 'hospital_admit_source',\n",
       " 'icu_admit_source',\n",
       " 'solid_tumor_with_metastasis',\n",
       " 'icu_stay_type',\n",
       " 'icu_type',\n",
       " 'apache_3j_bodysystem',\n",
       " 'apache_2_bodysystem']"
      ]
     },
     "execution_count": 228,
     "metadata": {},
     "output_type": "execute_result"
    }
   ],
   "source": [
    "categorias"
   ]
  },
  {
   "cell_type": "code",
   "execution_count": 229,
   "metadata": {},
   "outputs": [
    {
     "data": {
      "text/plain": [
       "Index(['age', 'leukemia', 'immunosuppression', 'hepatic_failure',\n",
       "       'diabetes_mellitus', 'cirrhosis', 'aids', 'wbc_apache', 'temp_apache',\n",
       "       'sodium_apache', 'ph_apache', 'pao2_apache', 'map_apache',\n",
       "       'hematocrit_apache', 'heart_rate_apache', 'creatinine_apache',\n",
       "       'lymphoma', 'solid_tumor_with_metastasis',\n",
       "       'solid_tumor_with_metastasis_encoded'],\n",
       "      dtype='object')"
      ]
     },
     "execution_count": 229,
     "metadata": {},
     "output_type": "execute_result"
    }
   ],
   "source": [
    "data2m.columns"
   ]
  },
  {
   "cell_type": "code",
   "execution_count": 227,
   "metadata": {},
   "outputs": [
    {
     "data": {
      "text/plain": [
       "{'solid_tumor_with_metastasis'}"
      ]
     },
     "execution_count": 227,
     "metadata": {},
     "output_type": "execute_result"
    }
   ],
   "source": [
    "intersection_cats = set(categorias) & set(data2m.columns)\n",
    "intersection_cats"
   ]
  },
  {
   "cell_type": "code",
   "execution_count": 222,
   "metadata": {},
   "outputs": [],
   "source": [
    "## Se quitan algunas columnas y se deja solo aquellas columnas que no tienen missing value \n",
    "#df.dropna(axis='columns') elimina las columnas que tienen mas de un elementofaltante\n",
    "data2m = datam[r[r<=0.00].reset_index()[\"index\"]]\n",
    "data2m"
   ]
  },
  {
   "cell_type": "code",
   "execution_count": 234,
   "metadata": {},
   "outputs": [
    {
     "data": {
      "text/plain": [
       "0        0.0\n",
       "1        0.0\n",
       "2        0.0\n",
       "3        0.0\n",
       "4        0.0\n",
       "        ... \n",
       "91708    1.0\n",
       "91709    0.0\n",
       "91710    0.0\n",
       "91711    0.0\n",
       "91712    0.0\n",
       "Name: solid_tumor_with_metastasis, Length: 91713, dtype: float64"
      ]
     },
     "execution_count": 234,
     "metadata": {},
     "output_type": "execute_result"
    }
   ],
   "source": [
    "data2m['solid_tumor_with_metastasis']"
   ]
  },
  {
   "cell_type": "code",
   "execution_count": 237,
   "metadata": {},
   "outputs": [
    {
     "name": "stderr",
     "output_type": "stream",
     "text": [
      "/usr/local/lib/python3.6/dist-packages/sklearn/preprocessing/_encoders.py:415: FutureWarning: The handling of integer data will change in version 0.22. Currently, the categories are determined based on the range [0, max(values)], while in the future they will be determined based on the unique values.\n",
      "If you want the future behaviour and silence this warning, you can specify \"categories='auto'\".\n",
      "In case you used a LabelEncoder before this OneHotEncoder to convert the categories to integers, then you can now use the OneHotEncoder directly.\n",
      "  warnings.warn(msg, FutureWarning)\n"
     ]
    }
   ],
   "source": [
    "#categorias = ['gender']\n",
    "from sklearn.preprocessing import LabelEncoder\n",
    "from sklearn.preprocessing import OneHotEncoder\n",
    "data = data2m\n",
    "for i in intersection_cats:\n",
    "    categoria = LabelEncoder()\n",
    "    data[i + \"_encoded\"] = categoria.fit_transform(data[i])\n",
    "    ohe = OneHotEncoder()\n",
    "    X = ohe.fit_transform(data[i+\"_encoded\"].values.reshape(-1,1)).toarray()\n",
    "    dfOneHot = pandas.DataFrame(X, columns = [ i + \"_\"+str(int(j)) for j in range(X.shape[1])])\n",
    "    data2 = pandas.concat([data, dfOneHot], axis=1)\n",
    "data2 = data.drop(columns=list(intersection_cats))    # luego sacar icu_type, icu_stay_type"
   ]
  },
  {
   "cell_type": "code",
   "execution_count": 242,
   "metadata": {},
   "outputs": [],
   "source": [
    "data2m =data"
   ]
  },
  {
   "cell_type": "code",
   "execution_count": 244,
   "metadata": {},
   "outputs": [],
   "source": [
    "from sklearn.model_selection import train_test_split\n",
    "train_x, test_x, train_y, test_y = train_test_split( data2m,  data[\"hospital_death\"], test_size=0.3, random_state=0)"
   ]
  },
  {
   "cell_type": "code",
   "execution_count": 245,
   "metadata": {},
   "outputs": [
    {
     "data": {
      "text/plain": [
       "GaussianNB(priors=None, var_smoothing=1e-09)"
      ]
     },
     "execution_count": 245,
     "metadata": {},
     "output_type": "execute_result"
    }
   ],
   "source": [
    "from sklearn import datasets\n",
    "\n",
    "from sklearn import metrics\n",
    "\n",
    "from sklearn.naive_bayes import GaussianNB\n",
    "\n",
    "model = GaussianNB()\n",
    "\n",
    "model.fit(train_x, train_y)"
   ]
  },
  {
   "cell_type": "code",
   "execution_count": 249,
   "metadata": {},
   "outputs": [
    {
     "data": {
      "text/html": [
       "<div>\n",
       "<style scoped>\n",
       "    .dataframe tbody tr th:only-of-type {\n",
       "        vertical-align: middle;\n",
       "    }\n",
       "\n",
       "    .dataframe tbody tr th {\n",
       "        vertical-align: top;\n",
       "    }\n",
       "\n",
       "    .dataframe thead th {\n",
       "        text-align: right;\n",
       "    }\n",
       "</style>\n",
       "<table border=\"1\" class=\"dataframe\">\n",
       "  <thead>\n",
       "    <tr style=\"text-align: right;\">\n",
       "      <th></th>\n",
       "      <th>encounter_id</th>\n",
       "      <th>patient_id</th>\n",
       "      <th>hospital_id</th>\n",
       "      <th>age</th>\n",
       "      <th>bmi</th>\n",
       "      <th>elective_surgery</th>\n",
       "      <th>ethnicity</th>\n",
       "      <th>gender</th>\n",
       "      <th>height</th>\n",
       "      <th>hospital_admit_source</th>\n",
       "      <th>...</th>\n",
       "      <th>aids</th>\n",
       "      <th>cirrhosis</th>\n",
       "      <th>diabetes_mellitus</th>\n",
       "      <th>hepatic_failure</th>\n",
       "      <th>immunosuppression</th>\n",
       "      <th>leukemia</th>\n",
       "      <th>lymphoma</th>\n",
       "      <th>solid_tumor_with_metastasis</th>\n",
       "      <th>apache_3j_bodysystem</th>\n",
       "      <th>apache_2_bodysystem</th>\n",
       "    </tr>\n",
       "    <tr>\n",
       "      <th>hospital_death</th>\n",
       "      <th></th>\n",
       "      <th></th>\n",
       "      <th></th>\n",
       "      <th></th>\n",
       "      <th></th>\n",
       "      <th></th>\n",
       "      <th></th>\n",
       "      <th></th>\n",
       "      <th></th>\n",
       "      <th></th>\n",
       "      <th></th>\n",
       "      <th></th>\n",
       "      <th></th>\n",
       "      <th></th>\n",
       "      <th></th>\n",
       "      <th></th>\n",
       "      <th></th>\n",
       "      <th></th>\n",
       "      <th></th>\n",
       "      <th></th>\n",
       "      <th></th>\n",
       "    </tr>\n",
       "  </thead>\n",
       "  <tbody>\n",
       "    <tr>\n",
       "      <th>0</th>\n",
       "      <td>83798</td>\n",
       "      <td>83798</td>\n",
       "      <td>83798</td>\n",
       "      <td>80212</td>\n",
       "      <td>80732</td>\n",
       "      <td>83798</td>\n",
       "      <td>82508</td>\n",
       "      <td>83781</td>\n",
       "      <td>82654</td>\n",
       "      <td>64133</td>\n",
       "      <td>...</td>\n",
       "      <td>83168</td>\n",
       "      <td>83168</td>\n",
       "      <td>83168</td>\n",
       "      <td>83168</td>\n",
       "      <td>83168</td>\n",
       "      <td>83168</td>\n",
       "      <td>83168</td>\n",
       "      <td>83168</td>\n",
       "      <td>82272</td>\n",
       "      <td>82272</td>\n",
       "    </tr>\n",
       "    <tr>\n",
       "      <th>1</th>\n",
       "      <td>7915</td>\n",
       "      <td>7915</td>\n",
       "      <td>7915</td>\n",
       "      <td>7273</td>\n",
       "      <td>7552</td>\n",
       "      <td>7915</td>\n",
       "      <td>7810</td>\n",
       "      <td>7907</td>\n",
       "      <td>7725</td>\n",
       "      <td>6171</td>\n",
       "      <td>...</td>\n",
       "      <td>7830</td>\n",
       "      <td>7830</td>\n",
       "      <td>7830</td>\n",
       "      <td>7830</td>\n",
       "      <td>7830</td>\n",
       "      <td>7830</td>\n",
       "      <td>7830</td>\n",
       "      <td>7830</td>\n",
       "      <td>7779</td>\n",
       "      <td>7779</td>\n",
       "    </tr>\n",
       "  </tbody>\n",
       "</table>\n",
       "<p>2 rows × 185 columns</p>\n",
       "</div>"
      ],
      "text/plain": [
       "                encounter_id  patient_id  hospital_id    age    bmi  \\\n",
       "hospital_death                                                        \n",
       "0                      83798       83798        83798  80212  80732   \n",
       "1                       7915        7915         7915   7273   7552   \n",
       "\n",
       "                elective_surgery  ethnicity  gender  height  \\\n",
       "hospital_death                                                \n",
       "0                          83798      82508   83781   82654   \n",
       "1                           7915       7810    7907    7725   \n",
       "\n",
       "                hospital_admit_source  ...   aids  cirrhosis  \\\n",
       "hospital_death                         ...                     \n",
       "0                               64133  ...  83168      83168   \n",
       "1                                6171  ...   7830       7830   \n",
       "\n",
       "                diabetes_mellitus  hepatic_failure  immunosuppression  \\\n",
       "hospital_death                                                          \n",
       "0                           83168            83168              83168   \n",
       "1                            7830             7830               7830   \n",
       "\n",
       "                leukemia  lymphoma  solid_tumor_with_metastasis  \\\n",
       "hospital_death                                                    \n",
       "0                  83168     83168                        83168   \n",
       "1                   7830      7830                         7830   \n",
       "\n",
       "                apache_3j_bodysystem  apache_2_bodysystem  \n",
       "hospital_death                                             \n",
       "0                              82272                82272  \n",
       "1                               7779                 7779  \n",
       "\n",
       "[2 rows x 185 columns]"
      ]
     },
     "execution_count": 249,
     "metadata": {},
     "output_type": "execute_result"
    }
   ],
   "source": [
    "data.groupby(\"hospital_death\").count()"
   ]
  },
  {
   "cell_type": "code",
   "execution_count": 246,
   "metadata": {},
   "outputs": [],
   "source": [
    "expected = test_y\n",
    "\n",
    "predicted = model.predict(test_x)"
   ]
  },
  {
   "cell_type": "code",
   "execution_count": 247,
   "metadata": {},
   "outputs": [
    {
     "name": "stdout",
     "output_type": "stream",
     "text": [
      "              precision    recall  f1-score   support\n",
      "\n",
      "           0       0.93      0.91      0.92     25082\n",
      "           1       0.27      0.33      0.30      2432\n",
      "\n",
      "    accuracy                           0.86     27514\n",
      "   macro avg       0.60      0.62      0.61     27514\n",
      "weighted avg       0.87      0.86      0.87     27514\n",
      "\n",
      "[[22913  2169]\n",
      " [ 1634   798]]\n"
     ]
    }
   ],
   "source": [
    "print(metrics.classification_report(expected, predicted))\n",
    "\n",
    "print(metrics.confusion_matrix(expected, predicted))"
   ]
  },
  {
   "cell_type": "code",
   "execution_count": null,
   "metadata": {},
   "outputs": [],
   "source": []
  },
  {
   "cell_type": "code",
   "execution_count": null,
   "metadata": {},
   "outputs": [],
   "source": []
  },
  {
   "cell_type": "code",
   "execution_count": null,
   "metadata": {},
   "outputs": [],
   "source": []
  },
  {
   "cell_type": "code",
   "execution_count": null,
   "metadata": {},
   "outputs": [],
   "source": []
  },
  {
   "cell_type": "code",
   "execution_count": null,
   "metadata": {},
   "outputs": [],
   "source": []
  },
  {
   "cell_type": "code",
   "execution_count": null,
   "metadata": {},
   "outputs": [],
   "source": []
  },
  {
   "cell_type": "code",
   "execution_count": null,
   "metadata": {},
   "outputs": [],
   "source": []
  },
  {
   "cell_type": "code",
   "execution_count": null,
   "metadata": {},
   "outputs": [],
   "source": []
  },
  {
   "cell_type": "code",
   "execution_count": 185,
   "metadata": {},
   "outputs": [
    {
     "name": "stdout",
     "output_type": "stream",
     "text": [
      "91713\n"
     ]
    },
    {
     "data": {
      "text/plain": [
       "(26, 91713)"
      ]
     },
     "execution_count": 185,
     "metadata": {},
     "output_type": "execute_result"
    }
   ],
   "source": [
    "#Hasta este punto la variable data ya tiene la imputacion de datos correcta\n",
    "n_samples = data_nueva.shape[1]\n",
    "print(n_samples)\n",
    "data_nueva.shape"
   ]
  },
  {
   "cell_type": "code",
   "execution_count": 186,
   "metadata": {},
   "outputs": [
    {
     "data": {
      "text/plain": [
       "array([0, 'Caucasian', 0, 0, 0.0, 0.0, 0.0, 0.0, 0.0, 0.0, 1.0, 0.0, 0.0,\n",
       "       0.0, 0.0, 0.0, 'Caucasian', 'M', 'Floor', 'Floor', 'admit', 'CTICU',\n",
       "       'Sepsis', 'Cardiovascular', 113.0, 502.01], dtype=object)"
      ]
     },
     "execution_count": 186,
     "metadata": {},
     "output_type": "execute_result"
    }
   ],
   "source": [
    "data_nueva[:,0]"
   ]
  },
  {
   "cell_type": "code",
   "execution_count": 187,
   "metadata": {},
   "outputs": [
    {
     "data": {
      "text/plain": [
       "107"
      ]
     },
     "execution_count": 187,
     "metadata": {},
     "output_type": "execute_result"
    }
   ],
   "source": [
    "result = data.isnull().sum() / n_samples \n",
    "#el porcentaje de las variables nulas con respecto a toda mi data por columna\n",
    "r = result.sort_values(ascending=True) \n",
    "# r contiene el porcentaje de missing values de cada columna en orden ascendente\n",
    "data[r[r<=0.3].reset_index()[\"index\"]].to_csv(\"menor30sinmissing.csv\",sep=\",\", header=True, index=False)\n",
    "len(set(r[r<=0.00].reset_index()[\"index\"]))"
   ]
  },
  {
   "cell_type": "code",
   "execution_count": null,
   "metadata": {},
   "outputs": [],
   "source": [
    "##Imputacion solo variables nuevas"
   ]
  },
  {
   "cell_type": "code",
   "execution_count": 188,
   "metadata": {},
   "outputs": [
    {
     "data": {
      "text/plain": [
       "Index(['age', 'creatinine_apache', 'heart_rate_apache', 'hematocrit_apache',\n",
       "       'map_apache', 'pao2_apache', 'ph_apache', 'sodium_apache',\n",
       "       'temp_apache', 'wbc_apache', 'aids', 'cirrhosis', 'diabetes_mellitus',\n",
       "       'hepatic_failure', 'immunosuppression', 'leukemia', 'lymphoma',\n",
       "       'solid_tumor_with_metastasis'],\n",
       "      dtype='object')"
      ]
     },
     "execution_count": 188,
     "metadata": {},
     "output_type": "execute_result"
    }
   ],
   "source": [
    "datam.columns"
   ]
  },
  {
   "cell_type": "code",
   "execution_count": null,
   "metadata": {},
   "outputs": [],
   "source": []
  },
  {
   "cell_type": "code",
   "execution_count": 168,
   "metadata": {},
   "outputs": [
    {
     "data": {
      "text/plain": [
       "(44, 186)"
      ]
     },
     "execution_count": 168,
     "metadata": {},
     "output_type": "execute_result"
    }
   ],
   "source": [
    "data.dropna().shape"
   ]
  },
  {
   "cell_type": "code",
   "execution_count": 144,
   "metadata": {},
   "outputs": [
    {
     "data": {
      "text/plain": [
       "encounter_id                0.000000\n",
       "d1_bun_max                  0.000000\n",
       "h1_temp_min                 0.000000\n",
       "h1_temp_max                 0.000000\n",
       "h1_sysbp_noninvasive_min    0.000000\n",
       "                              ...   \n",
       "h1_albumin_min              0.913982\n",
       "h1_lactate_min              0.919924\n",
       "h1_lactate_max              0.919924\n",
       "h1_bilirubin_min            0.922650\n",
       "h1_bilirubin_max            0.922650\n",
       "Length: 186, dtype: float64"
      ]
     },
     "execution_count": 144,
     "metadata": {},
     "output_type": "execute_result"
    }
   ],
   "source": [
    "r"
   ]
  },
  {
   "cell_type": "code",
   "execution_count": 145,
   "metadata": {},
   "outputs": [
    {
     "data": {
      "text/plain": [
       "(91713, 186)"
      ]
     },
     "execution_count": 145,
     "metadata": {},
     "output_type": "execute_result"
    }
   ],
   "source": [
    "data.shape"
   ]
  },
  {
   "cell_type": "code",
   "execution_count": 146,
   "metadata": {},
   "outputs": [
    {
     "name": "stdout",
     "output_type": "stream",
     "text": [
      "(79,)\n"
     ]
    },
    {
     "data": {
      "text/plain": [
       "albumin_apache          0.592926\n",
       "bilirubin_apache        0.633869\n",
       "fio2_apache             0.772715\n",
       "glucose_apache          0.120332\n",
       "heart_rate_apache       0.009573\n",
       "                          ...   \n",
       "h1_arterial_ph_min      0.833295\n",
       "h1_arterial_po2_max     0.828072\n",
       "h1_arterial_po2_min     0.828072\n",
       "h1_pao2fio2ratio_max    0.874413\n",
       "h1_pao2fio2ratio_min    0.874413\n",
       "Length: 79, dtype: float64"
      ]
     },
     "execution_count": 146,
     "metadata": {},
     "output_type": "execute_result"
    }
   ],
   "source": [
    "print(result[result != data.isnull().sum()].shape)\n",
    "result[result != data.isnull().sum()]"
   ]
  },
  {
   "cell_type": "code",
   "execution_count": 147,
   "metadata": {},
   "outputs": [
    {
     "name": "stdout",
     "output_type": "stream",
     "text": [
      "(186,)\n"
     ]
    },
    {
     "data": {
      "text/plain": [
       "(91713, 186)"
      ]
     },
     "execution_count": 147,
     "metadata": {},
     "output_type": "execute_result"
    }
   ],
   "source": [
    "print(r.shape)\n",
    "data.shape"
   ]
  },
  {
   "cell_type": "code",
   "execution_count": 148,
   "metadata": {},
   "outputs": [
    {
     "data": {
      "text/plain": [
       "Index(['encounter_id', 'd1_bun_max', 'h1_temp_min', 'h1_temp_max',\n",
       "       'h1_sysbp_noninvasive_min', 'h1_sysbp_noninvasive_max', 'h1_sysbp_min',\n",
       "       'apache_3j_bodysystem', 'h1_spo2_min', 'h1_spo2_max',\n",
       "       ...\n",
       "       'h1_arterial_ph_max', 'h1_arterial_ph_min', 'h1_pao2fio2ratio_min',\n",
       "       'h1_pao2fio2ratio_max', 'h1_albumin_max', 'h1_albumin_min',\n",
       "       'h1_lactate_min', 'h1_lactate_max', 'h1_bilirubin_min',\n",
       "       'h1_bilirubin_max'],\n",
       "      dtype='object', length=186)"
      ]
     },
     "execution_count": 148,
     "metadata": {},
     "output_type": "execute_result"
    }
   ],
   "source": [
    "r.index"
   ]
  },
  {
   "cell_type": "code",
   "execution_count": 149,
   "metadata": {},
   "outputs": [
    {
     "data": {
      "text/html": [
       "<div>\n",
       "<style scoped>\n",
       "    .dataframe tbody tr th:only-of-type {\n",
       "        vertical-align: middle;\n",
       "    }\n",
       "\n",
       "    .dataframe tbody tr th {\n",
       "        vertical-align: top;\n",
       "    }\n",
       "\n",
       "    .dataframe thead th {\n",
       "        text-align: right;\n",
       "    }\n",
       "</style>\n",
       "<table border=\"1\" class=\"dataframe\">\n",
       "  <thead>\n",
       "    <tr style=\"text-align: right;\">\n",
       "      <th></th>\n",
       "      <th>index</th>\n",
       "      <th>0</th>\n",
       "    </tr>\n",
       "  </thead>\n",
       "  <tbody>\n",
       "    <tr>\n",
       "      <th>0</th>\n",
       "      <td>encounter_id</td>\n",
       "      <td>0.000000</td>\n",
       "    </tr>\n",
       "    <tr>\n",
       "      <th>1</th>\n",
       "      <td>d1_bun_max</td>\n",
       "      <td>0.000000</td>\n",
       "    </tr>\n",
       "    <tr>\n",
       "      <th>2</th>\n",
       "      <td>h1_temp_min</td>\n",
       "      <td>0.000000</td>\n",
       "    </tr>\n",
       "    <tr>\n",
       "      <th>3</th>\n",
       "      <td>h1_temp_max</td>\n",
       "      <td>0.000000</td>\n",
       "    </tr>\n",
       "    <tr>\n",
       "      <th>4</th>\n",
       "      <td>h1_sysbp_noninvasive_min</td>\n",
       "      <td>0.000000</td>\n",
       "    </tr>\n",
       "    <tr>\n",
       "      <th>...</th>\n",
       "      <td>...</td>\n",
       "      <td>...</td>\n",
       "    </tr>\n",
       "    <tr>\n",
       "      <th>181</th>\n",
       "      <td>h1_albumin_min</td>\n",
       "      <td>0.913982</td>\n",
       "    </tr>\n",
       "    <tr>\n",
       "      <th>182</th>\n",
       "      <td>h1_lactate_min</td>\n",
       "      <td>0.919924</td>\n",
       "    </tr>\n",
       "    <tr>\n",
       "      <th>183</th>\n",
       "      <td>h1_lactate_max</td>\n",
       "      <td>0.919924</td>\n",
       "    </tr>\n",
       "    <tr>\n",
       "      <th>184</th>\n",
       "      <td>h1_bilirubin_min</td>\n",
       "      <td>0.922650</td>\n",
       "    </tr>\n",
       "    <tr>\n",
       "      <th>185</th>\n",
       "      <td>h1_bilirubin_max</td>\n",
       "      <td>0.922650</td>\n",
       "    </tr>\n",
       "  </tbody>\n",
       "</table>\n",
       "<p>186 rows × 2 columns</p>\n",
       "</div>"
      ],
      "text/plain": [
       "                        index         0\n",
       "0                encounter_id  0.000000\n",
       "1                  d1_bun_max  0.000000\n",
       "2                 h1_temp_min  0.000000\n",
       "3                 h1_temp_max  0.000000\n",
       "4    h1_sysbp_noninvasive_min  0.000000\n",
       "..                        ...       ...\n",
       "181            h1_albumin_min  0.913982\n",
       "182            h1_lactate_min  0.919924\n",
       "183            h1_lactate_max  0.919924\n",
       "184          h1_bilirubin_min  0.922650\n",
       "185          h1_bilirubin_max  0.922650\n",
       "\n",
       "[186 rows x 2 columns]"
      ]
     },
     "execution_count": 149,
     "metadata": {},
     "output_type": "execute_result"
    }
   ],
   "source": [
    "r.reset_index()"
   ]
  },
  {
   "cell_type": "code",
   "execution_count": 150,
   "metadata": {},
   "outputs": [
    {
     "data": {
      "text/plain": [
       "0                  encounter_id\n",
       "1                    d1_bun_max\n",
       "2                   h1_temp_min\n",
       "3                   h1_temp_max\n",
       "4      h1_sysbp_noninvasive_min\n",
       "                 ...           \n",
       "181              h1_albumin_min\n",
       "182              h1_lactate_min\n",
       "183              h1_lactate_max\n",
       "184            h1_bilirubin_min\n",
       "185            h1_bilirubin_max\n",
       "Name: index, Length: 186, dtype: object"
      ]
     },
     "execution_count": 150,
     "metadata": {},
     "output_type": "execute_result"
    }
   ],
   "source": [
    "r.reset_index()[\"index\"]"
   ]
  },
  {
   "cell_type": "code",
   "execution_count": 151,
   "metadata": {},
   "outputs": [
    {
     "data": {
      "text/plain": [
       "(91713, 186)"
      ]
     },
     "execution_count": 151,
     "metadata": {},
     "output_type": "execute_result"
    }
   ],
   "source": [
    "data.shape"
   ]
  },
  {
   "cell_type": "code",
   "execution_count": 152,
   "metadata": {},
   "outputs": [
    {
     "data": {
      "text/html": [
       "<div>\n",
       "<style scoped>\n",
       "    .dataframe tbody tr th:only-of-type {\n",
       "        vertical-align: middle;\n",
       "    }\n",
       "\n",
       "    .dataframe tbody tr th {\n",
       "        vertical-align: top;\n",
       "    }\n",
       "\n",
       "    .dataframe thead th {\n",
       "        text-align: right;\n",
       "    }\n",
       "</style>\n",
       "<table border=\"1\" class=\"dataframe\">\n",
       "  <thead>\n",
       "    <tr style=\"text-align: right;\">\n",
       "      <th></th>\n",
       "      <th>encounter_id</th>\n",
       "      <th>d1_bun_max</th>\n",
       "      <th>h1_temp_min</th>\n",
       "      <th>h1_temp_max</th>\n",
       "      <th>h1_sysbp_noninvasive_min</th>\n",
       "    </tr>\n",
       "  </thead>\n",
       "  <tbody>\n",
       "    <tr>\n",
       "      <th>0</th>\n",
       "      <td>66154</td>\n",
       "      <td>31.0</td>\n",
       "      <td>37.5</td>\n",
       "      <td>39.5</td>\n",
       "      <td>115.0</td>\n",
       "    </tr>\n",
       "    <tr>\n",
       "      <th>1</th>\n",
       "      <td>114252</td>\n",
       "      <td>11.0</td>\n",
       "      <td>36.3</td>\n",
       "      <td>36.3</td>\n",
       "      <td>71.0</td>\n",
       "    </tr>\n",
       "    <tr>\n",
       "      <th>2</th>\n",
       "      <td>119783</td>\n",
       "      <td>19.0</td>\n",
       "      <td>36.7</td>\n",
       "      <td>36.7</td>\n",
       "      <td>124.0</td>\n",
       "    </tr>\n",
       "    <tr>\n",
       "      <th>3</th>\n",
       "      <td>79267</td>\n",
       "      <td>19.0</td>\n",
       "      <td>34.8</td>\n",
       "      <td>35.6</td>\n",
       "      <td>115.0</td>\n",
       "    </tr>\n",
       "    <tr>\n",
       "      <th>4</th>\n",
       "      <td>92056</td>\n",
       "      <td>19.0</td>\n",
       "      <td>36.6</td>\n",
       "      <td>36.7</td>\n",
       "      <td>120.0</td>\n",
       "    </tr>\n",
       "    <tr>\n",
       "      <th>...</th>\n",
       "      <td>...</td>\n",
       "      <td>...</td>\n",
       "      <td>...</td>\n",
       "      <td>...</td>\n",
       "      <td>...</td>\n",
       "    </tr>\n",
       "    <tr>\n",
       "      <th>91708</th>\n",
       "      <td>91592</td>\n",
       "      <td>27.0</td>\n",
       "      <td>38.2</td>\n",
       "      <td>38.2</td>\n",
       "      <td>87.0</td>\n",
       "    </tr>\n",
       "    <tr>\n",
       "      <th>91709</th>\n",
       "      <td>66119</td>\n",
       "      <td>34.0</td>\n",
       "      <td>36.1</td>\n",
       "      <td>36.1</td>\n",
       "      <td>107.0</td>\n",
       "    </tr>\n",
       "    <tr>\n",
       "      <th>91710</th>\n",
       "      <td>8981</td>\n",
       "      <td>33.0</td>\n",
       "      <td>36.6</td>\n",
       "      <td>36.6</td>\n",
       "      <td>115.0</td>\n",
       "    </tr>\n",
       "    <tr>\n",
       "      <th>91711</th>\n",
       "      <td>33776</td>\n",
       "      <td>19.0</td>\n",
       "      <td>36.6</td>\n",
       "      <td>36.7</td>\n",
       "      <td>115.0</td>\n",
       "    </tr>\n",
       "    <tr>\n",
       "      <th>91712</th>\n",
       "      <td>1671</td>\n",
       "      <td>27.0</td>\n",
       "      <td>36.7</td>\n",
       "      <td>36.7</td>\n",
       "      <td>89.0</td>\n",
       "    </tr>\n",
       "  </tbody>\n",
       "</table>\n",
       "<p>91713 rows × 5 columns</p>\n",
       "</div>"
      ],
      "text/plain": [
       "       encounter_id  d1_bun_max  h1_temp_min  h1_temp_max  \\\n",
       "0             66154        31.0         37.5         39.5   \n",
       "1            114252        11.0         36.3         36.3   \n",
       "2            119783        19.0         36.7         36.7   \n",
       "3             79267        19.0         34.8         35.6   \n",
       "4             92056        19.0         36.6         36.7   \n",
       "...             ...         ...          ...          ...   \n",
       "91708         91592        27.0         38.2         38.2   \n",
       "91709         66119        34.0         36.1         36.1   \n",
       "91710          8981        33.0         36.6         36.6   \n",
       "91711         33776        19.0         36.6         36.7   \n",
       "91712          1671        27.0         36.7         36.7   \n",
       "\n",
       "       h1_sysbp_noninvasive_min  \n",
       "0                         115.0  \n",
       "1                          71.0  \n",
       "2                         124.0  \n",
       "3                         115.0  \n",
       "4                         120.0  \n",
       "...                         ...  \n",
       "91708                      87.0  \n",
       "91709                     107.0  \n",
       "91710                     115.0  \n",
       "91711                     115.0  \n",
       "91712                      89.0  \n",
       "\n",
       "[91713 rows x 5 columns]"
      ]
     },
     "execution_count": 152,
     "metadata": {},
     "output_type": "execute_result"
    }
   ],
   "source": [
    "data[r.reset_index()[\"index\"][:5]]"
   ]
  },
  {
   "cell_type": "code",
   "execution_count": 153,
   "metadata": {},
   "outputs": [],
   "source": [
    "## Se quitan algunas columnas y se deja solo aquellas columnas que no tienen missing value \n",
    "#df.dropna(axis='columns') elimina las columnas que tienen mas de un elementofaltante\n",
    "data2 = data[r[r<=0.00].reset_index()[\"index\"]].drop(columns=[\"patient_id\",\"encounter_id\", \"readmission_status\"])    # luego sacar icu_type, icu_stay_type"
   ]
  },
  {
   "cell_type": "raw",
   "metadata": {},
   "source": [
    "The Naive Bayes classifier assumes that the presence of a feature in a class is unrelated to any other feature.\n",
    "describes the probability of an event, based on prior knowledge of conditions that might be related to the event\n",
    "https://dzone.com/articles/naive-bayes-tutorial-naive-bayes-classifier-in-pyt"
   ]
  },
  {
   "cell_type": "code",
   "execution_count": 154,
   "metadata": {},
   "outputs": [
    {
     "data": {
      "text/plain": [
       "['ethnicity',\n",
       " 'gender',\n",
       " 'hospital_admit_source',\n",
       " 'icu_admit_source',\n",
       " 'solid_tumor_with_metastasis',\n",
       " 'icu_stay_type',\n",
       " 'icu_type',\n",
       " 'apache_3j_bodysystem',\n",
       " 'apache_2_bodysystem']"
      ]
     },
     "execution_count": 154,
     "metadata": {},
     "output_type": "execute_result"
    }
   ],
   "source": [
    "categorias"
   ]
  },
  {
   "cell_type": "code",
   "execution_count": 103,
   "metadata": {},
   "outputs": [
    {
     "name": "stderr",
     "output_type": "stream",
     "text": [
      "/usr/local/lib/python3.6/dist-packages/sklearn/preprocessing/_encoders.py:415: FutureWarning: The handling of integer data will change in version 0.22. Currently, the categories are determined based on the range [0, max(values)], while in the future they will be determined based on the unique values.\n",
      "If you want the future behaviour and silence this warning, you can specify \"categories='auto'\".\n",
      "In case you used a LabelEncoder before this OneHotEncoder to convert the categories to integers, then you can now use the OneHotEncoder directly.\n",
      "  warnings.warn(msg, FutureWarning)\n",
      "/usr/local/lib/python3.6/dist-packages/sklearn/preprocessing/_encoders.py:415: FutureWarning: The handling of integer data will change in version 0.22. Currently, the categories are determined based on the range [0, max(values)], while in the future they will be determined based on the unique values.\n",
      "If you want the future behaviour and silence this warning, you can specify \"categories='auto'\".\n",
      "In case you used a LabelEncoder before this OneHotEncoder to convert the categories to integers, then you can now use the OneHotEncoder directly.\n",
      "  warnings.warn(msg, FutureWarning)\n",
      "/usr/local/lib/python3.6/dist-packages/sklearn/preprocessing/_encoders.py:415: FutureWarning: The handling of integer data will change in version 0.22. Currently, the categories are determined based on the range [0, max(values)], while in the future they will be determined based on the unique values.\n",
      "If you want the future behaviour and silence this warning, you can specify \"categories='auto'\".\n",
      "In case you used a LabelEncoder before this OneHotEncoder to convert the categories to integers, then you can now use the OneHotEncoder directly.\n",
      "  warnings.warn(msg, FutureWarning)\n",
      "/usr/local/lib/python3.6/dist-packages/sklearn/preprocessing/_encoders.py:415: FutureWarning: The handling of integer data will change in version 0.22. Currently, the categories are determined based on the range [0, max(values)], while in the future they will be determined based on the unique values.\n",
      "If you want the future behaviour and silence this warning, you can specify \"categories='auto'\".\n",
      "In case you used a LabelEncoder before this OneHotEncoder to convert the categories to integers, then you can now use the OneHotEncoder directly.\n",
      "  warnings.warn(msg, FutureWarning)\n",
      "/usr/local/lib/python3.6/dist-packages/sklearn/preprocessing/_encoders.py:415: FutureWarning: The handling of integer data will change in version 0.22. Currently, the categories are determined based on the range [0, max(values)], while in the future they will be determined based on the unique values.\n",
      "If you want the future behaviour and silence this warning, you can specify \"categories='auto'\".\n",
      "In case you used a LabelEncoder before this OneHotEncoder to convert the categories to integers, then you can now use the OneHotEncoder directly.\n",
      "  warnings.warn(msg, FutureWarning)\n",
      "/usr/local/lib/python3.6/dist-packages/sklearn/preprocessing/_encoders.py:415: FutureWarning: The handling of integer data will change in version 0.22. Currently, the categories are determined based on the range [0, max(values)], while in the future they will be determined based on the unique values.\n",
      "If you want the future behaviour and silence this warning, you can specify \"categories='auto'\".\n",
      "In case you used a LabelEncoder before this OneHotEncoder to convert the categories to integers, then you can now use the OneHotEncoder directly.\n",
      "  warnings.warn(msg, FutureWarning)\n",
      "/usr/local/lib/python3.6/dist-packages/sklearn/preprocessing/_encoders.py:415: FutureWarning: The handling of integer data will change in version 0.22. Currently, the categories are determined based on the range [0, max(values)], while in the future they will be determined based on the unique values.\n",
      "If you want the future behaviour and silence this warning, you can specify \"categories='auto'\".\n",
      "In case you used a LabelEncoder before this OneHotEncoder to convert the categories to integers, then you can now use the OneHotEncoder directly.\n",
      "  warnings.warn(msg, FutureWarning)\n",
      "/usr/local/lib/python3.6/dist-packages/sklearn/preprocessing/_encoders.py:415: FutureWarning: The handling of integer data will change in version 0.22. Currently, the categories are determined based on the range [0, max(values)], while in the future they will be determined based on the unique values.\n",
      "If you want the future behaviour and silence this warning, you can specify \"categories='auto'\".\n",
      "In case you used a LabelEncoder before this OneHotEncoder to convert the categories to integers, then you can now use the OneHotEncoder directly.\n",
      "  warnings.warn(msg, FutureWarning)\n",
      "/usr/local/lib/python3.6/dist-packages/sklearn/preprocessing/_encoders.py:415: FutureWarning: The handling of integer data will change in version 0.22. Currently, the categories are determined based on the range [0, max(values)], while in the future they will be determined based on the unique values.\n",
      "If you want the future behaviour and silence this warning, you can specify \"categories='auto'\".\n",
      "In case you used a LabelEncoder before this OneHotEncoder to convert the categories to integers, then you can now use the OneHotEncoder directly.\n",
      "  warnings.warn(msg, FutureWarning)\n"
     ]
    }
   ],
   "source": [
    "#categorias = ['gender']\n",
    "from sklearn.preprocessing import LabelEncoder\n",
    "from sklearn.preprocessing import OneHotEncoder\n",
    "for i in categorias:\n",
    "    categoria = LabelEncoder()\n",
    "    data[i + \"_encoded\"] = categoria.fit_transform(data[i])\n",
    "    ohe = OneHotEncoder()\n",
    "    X = ohe.fit_transform(data[i+\"_encoded\"].values.reshape(-1,1)).toarray()\n",
    "    dfOneHot = pandas.DataFrame(X, columns = [ i + \"_\"+str(int(j)) for j in range(X.shape[1])])\n",
    "    data2 = pandas.concat([data, dfOneHot], axis=1)\n",
    "data2 = data.drop(columns=categorias)    # luego sacar icu_type, icu_stay_type"
   ]
  },
  {
   "cell_type": "code",
   "execution_count": 104,
   "metadata": {},
   "outputs": [],
   "source": [
    "from sklearn.model_selection import train_test_split\n",
    "train_x, test_x, train_y, test_y = train_test_split( data2.drop(columns=[\"hospital_death\"]),  data2[\"hospital_death\"], test_size=0.3, random_state=0)"
   ]
  },
  {
   "cell_type": "code",
   "execution_count": 115,
   "metadata": {},
   "outputs": [
    {
     "data": {
      "text/plain": [
       "(44, 195)"
      ]
     },
     "execution_count": 115,
     "metadata": {},
     "output_type": "execute_result"
    }
   ],
   "source": [
    "data.dropna().shape"
   ]
  },
  {
   "cell_type": "code",
   "execution_count": 113,
   "metadata": {},
   "outputs": [
    {
     "data": {
      "text/plain": [
       "(91713, 195)"
      ]
     },
     "execution_count": 113,
     "metadata": {},
     "output_type": "execute_result"
    }
   ],
   "source": [
    "data.shape"
   ]
  },
  {
   "cell_type": "code",
   "execution_count": null,
   "metadata": {},
   "outputs": [],
   "source": [
    "dat"
   ]
  }
 ],
 "metadata": {
  "kernelspec": {
   "display_name": "Python 3",
   "language": "python",
   "name": "python3"
  },
  "language_info": {
   "codemirror_mode": {
    "name": "ipython",
    "version": 3
   },
   "file_extension": ".py",
   "mimetype": "text/x-python",
   "name": "python",
   "nbconvert_exporter": "python",
   "pygments_lexer": "ipython3",
   "version": "3.6.9"
  }
 },
 "nbformat": 4,
 "nbformat_minor": 2
}
