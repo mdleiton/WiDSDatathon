{
 "cells": [
  {
   "cell_type": "code",
   "execution_count": 1,
   "metadata": {},
   "outputs": [],
   "source": [
    "import pandas\n",
    "import csv\n",
    "import matplotlib.pyplot as plt\n",
    "import numpy as np"
   ]
  },
  {
   "cell_type": "markdown",
   "metadata": {},
   "source": [
    "## Reading Data"
   ]
  },
  {
   "cell_type": "code",
   "execution_count": 2,
   "metadata": {},
   "outputs": [],
   "source": [
    "data = pandas.read_csv(\"data/training_v2.csv\", decimal=\".\")"
   ]
  },
  {
   "cell_type": "code",
   "execution_count": 3,
   "metadata": {},
   "outputs": [
    {
     "name": "stdout",
     "output_type": "stream",
     "text": [
      "(91713, 186)\n",
      "(25, 186)\n"
     ]
    },
    {
     "data": {
      "text/html": [
       "<div>\n",
       "<style scoped>\n",
       "    .dataframe tbody tr th:only-of-type {\n",
       "        vertical-align: middle;\n",
       "    }\n",
       "\n",
       "    .dataframe tbody tr th {\n",
       "        vertical-align: top;\n",
       "    }\n",
       "\n",
       "    .dataframe thead th {\n",
       "        text-align: right;\n",
       "    }\n",
       "</style>\n",
       "<table border=\"1\" class=\"dataframe\">\n",
       "  <thead>\n",
       "    <tr style=\"text-align: right;\">\n",
       "      <th></th>\n",
       "      <th>encounter_id</th>\n",
       "      <th>patient_id</th>\n",
       "      <th>hospital_id</th>\n",
       "      <th>hospital_death</th>\n",
       "      <th>age</th>\n",
       "      <th>bmi</th>\n",
       "      <th>elective_surgery</th>\n",
       "      <th>ethnicity</th>\n",
       "      <th>gender</th>\n",
       "      <th>height</th>\n",
       "      <th>...</th>\n",
       "      <th>aids</th>\n",
       "      <th>cirrhosis</th>\n",
       "      <th>diabetes_mellitus</th>\n",
       "      <th>hepatic_failure</th>\n",
       "      <th>immunosuppression</th>\n",
       "      <th>leukemia</th>\n",
       "      <th>lymphoma</th>\n",
       "      <th>solid_tumor_with_metastasis</th>\n",
       "      <th>apache_3j_bodysystem</th>\n",
       "      <th>apache_2_bodysystem</th>\n",
       "    </tr>\n",
       "  </thead>\n",
       "  <tbody>\n",
       "    <tr>\n",
       "      <th>0</th>\n",
       "      <td>66154</td>\n",
       "      <td>25312</td>\n",
       "      <td>118</td>\n",
       "      <td>0</td>\n",
       "      <td>68.0</td>\n",
       "      <td>22.73</td>\n",
       "      <td>0</td>\n",
       "      <td>Caucasian</td>\n",
       "      <td>M</td>\n",
       "      <td>180.3</td>\n",
       "      <td>...</td>\n",
       "      <td>0.0</td>\n",
       "      <td>0.0</td>\n",
       "      <td>1.0</td>\n",
       "      <td>0.0</td>\n",
       "      <td>0.0</td>\n",
       "      <td>0.0</td>\n",
       "      <td>0.0</td>\n",
       "      <td>0.0</td>\n",
       "      <td>Sepsis</td>\n",
       "      <td>Cardiovascular</td>\n",
       "    </tr>\n",
       "    <tr>\n",
       "      <th>1</th>\n",
       "      <td>114252</td>\n",
       "      <td>59342</td>\n",
       "      <td>81</td>\n",
       "      <td>0</td>\n",
       "      <td>77.0</td>\n",
       "      <td>27.42</td>\n",
       "      <td>0</td>\n",
       "      <td>Caucasian</td>\n",
       "      <td>F</td>\n",
       "      <td>160.0</td>\n",
       "      <td>...</td>\n",
       "      <td>0.0</td>\n",
       "      <td>0.0</td>\n",
       "      <td>1.0</td>\n",
       "      <td>0.0</td>\n",
       "      <td>0.0</td>\n",
       "      <td>0.0</td>\n",
       "      <td>0.0</td>\n",
       "      <td>0.0</td>\n",
       "      <td>Respiratory</td>\n",
       "      <td>Respiratory</td>\n",
       "    </tr>\n",
       "    <tr>\n",
       "      <th>2</th>\n",
       "      <td>119783</td>\n",
       "      <td>50777</td>\n",
       "      <td>118</td>\n",
       "      <td>0</td>\n",
       "      <td>25.0</td>\n",
       "      <td>31.95</td>\n",
       "      <td>0</td>\n",
       "      <td>Caucasian</td>\n",
       "      <td>F</td>\n",
       "      <td>172.7</td>\n",
       "      <td>...</td>\n",
       "      <td>0.0</td>\n",
       "      <td>0.0</td>\n",
       "      <td>0.0</td>\n",
       "      <td>0.0</td>\n",
       "      <td>0.0</td>\n",
       "      <td>0.0</td>\n",
       "      <td>0.0</td>\n",
       "      <td>0.0</td>\n",
       "      <td>Metabolic</td>\n",
       "      <td>Metabolic</td>\n",
       "    </tr>\n",
       "    <tr>\n",
       "      <th>3</th>\n",
       "      <td>79267</td>\n",
       "      <td>46918</td>\n",
       "      <td>118</td>\n",
       "      <td>0</td>\n",
       "      <td>81.0</td>\n",
       "      <td>22.64</td>\n",
       "      <td>1</td>\n",
       "      <td>Caucasian</td>\n",
       "      <td>F</td>\n",
       "      <td>165.1</td>\n",
       "      <td>...</td>\n",
       "      <td>0.0</td>\n",
       "      <td>0.0</td>\n",
       "      <td>0.0</td>\n",
       "      <td>0.0</td>\n",
       "      <td>0.0</td>\n",
       "      <td>0.0</td>\n",
       "      <td>0.0</td>\n",
       "      <td>0.0</td>\n",
       "      <td>Cardiovascular</td>\n",
       "      <td>Cardiovascular</td>\n",
       "    </tr>\n",
       "    <tr>\n",
       "      <th>4</th>\n",
       "      <td>92056</td>\n",
       "      <td>34377</td>\n",
       "      <td>33</td>\n",
       "      <td>0</td>\n",
       "      <td>19.0</td>\n",
       "      <td>NaN</td>\n",
       "      <td>0</td>\n",
       "      <td>Caucasian</td>\n",
       "      <td>M</td>\n",
       "      <td>188.0</td>\n",
       "      <td>...</td>\n",
       "      <td>0.0</td>\n",
       "      <td>0.0</td>\n",
       "      <td>0.0</td>\n",
       "      <td>0.0</td>\n",
       "      <td>0.0</td>\n",
       "      <td>0.0</td>\n",
       "      <td>0.0</td>\n",
       "      <td>0.0</td>\n",
       "      <td>Trauma</td>\n",
       "      <td>Trauma</td>\n",
       "    </tr>\n",
       "  </tbody>\n",
       "</table>\n",
       "<p>5 rows × 186 columns</p>\n",
       "</div>"
      ],
      "text/plain": [
       "   encounter_id  patient_id  hospital_id  hospital_death   age    bmi  \\\n",
       "0         66154       25312          118               0  68.0  22.73   \n",
       "1        114252       59342           81               0  77.0  27.42   \n",
       "2        119783       50777          118               0  25.0  31.95   \n",
       "3         79267       46918          118               0  81.0  22.64   \n",
       "4         92056       34377           33               0  19.0    NaN   \n",
       "\n",
       "   elective_surgery  ethnicity gender  height  ... aids cirrhosis  \\\n",
       "0                 0  Caucasian      M   180.3  ...  0.0       0.0   \n",
       "1                 0  Caucasian      F   160.0  ...  0.0       0.0   \n",
       "2                 0  Caucasian      F   172.7  ...  0.0       0.0   \n",
       "3                 1  Caucasian      F   165.1  ...  0.0       0.0   \n",
       "4                 0  Caucasian      M   188.0  ...  0.0       0.0   \n",
       "\n",
       "   diabetes_mellitus hepatic_failure immunosuppression  leukemia  lymphoma  \\\n",
       "0                1.0             0.0               0.0       0.0       0.0   \n",
       "1                1.0             0.0               0.0       0.0       0.0   \n",
       "2                0.0             0.0               0.0       0.0       0.0   \n",
       "3                0.0             0.0               0.0       0.0       0.0   \n",
       "4                0.0             0.0               0.0       0.0       0.0   \n",
       "\n",
       "   solid_tumor_with_metastasis  apache_3j_bodysystem  apache_2_bodysystem  \n",
       "0                          0.0                Sepsis       Cardiovascular  \n",
       "1                          0.0           Respiratory          Respiratory  \n",
       "2                          0.0             Metabolic            Metabolic  \n",
       "3                          0.0        Cardiovascular       Cardiovascular  \n",
       "4                          0.0                Trauma               Trauma  \n",
       "\n",
       "[5 rows x 186 columns]"
      ]
     },
     "execution_count": 3,
     "metadata": {},
     "output_type": "execute_result"
    }
   ],
   "source": [
    "print(data.shape)\n",
    "print(data.dropna().shape)\n",
    "data.head()"
   ]
  },
  {
   "cell_type": "code",
   "execution_count": 4,
   "metadata": {},
   "outputs": [],
   "source": [
    "variables = \"age, creatinine_apache, heart_rate_apache, hematocrit_apache, map_apache, pao2_apache, ph_apache, sodium_apache, temp_apache, wbc_apache, aids, cirrhosis, diabetes_mellitus, hepatic_failure, immunosuppression, leukemia, lymphoma, solid_tumor_with_metastasis\"\n",
    "variablesL = variables.split(\", \")\n",
    "variablesL.append(\"hospital_death\")"
   ]
  },
  {
   "cell_type": "code",
   "execution_count": 5,
   "metadata": {},
   "outputs": [],
   "source": [
    "datam = data[variablesL]"
   ]
  },
  {
   "cell_type": "code",
   "execution_count": 6,
   "metadata": {},
   "outputs": [
    {
     "data": {
      "text/html": [
       "<div>\n",
       "<style scoped>\n",
       "    .dataframe tbody tr th:only-of-type {\n",
       "        vertical-align: middle;\n",
       "    }\n",
       "\n",
       "    .dataframe tbody tr th {\n",
       "        vertical-align: top;\n",
       "    }\n",
       "\n",
       "    .dataframe thead th {\n",
       "        text-align: right;\n",
       "    }\n",
       "</style>\n",
       "<table border=\"1\" class=\"dataframe\">\n",
       "  <thead>\n",
       "    <tr style=\"text-align: right;\">\n",
       "      <th></th>\n",
       "      <th>age</th>\n",
       "      <th>creatinine_apache</th>\n",
       "      <th>heart_rate_apache</th>\n",
       "      <th>hematocrit_apache</th>\n",
       "      <th>map_apache</th>\n",
       "      <th>pao2_apache</th>\n",
       "      <th>ph_apache</th>\n",
       "      <th>sodium_apache</th>\n",
       "      <th>temp_apache</th>\n",
       "      <th>wbc_apache</th>\n",
       "      <th>aids</th>\n",
       "      <th>cirrhosis</th>\n",
       "      <th>diabetes_mellitus</th>\n",
       "      <th>hepatic_failure</th>\n",
       "      <th>immunosuppression</th>\n",
       "      <th>leukemia</th>\n",
       "      <th>lymphoma</th>\n",
       "      <th>solid_tumor_with_metastasis</th>\n",
       "      <th>hospital_death</th>\n",
       "    </tr>\n",
       "  </thead>\n",
       "  <tbody>\n",
       "  </tbody>\n",
       "</table>\n",
       "</div>"
      ],
      "text/plain": [
       "Empty DataFrame\n",
       "Columns: [age, creatinine_apache, heart_rate_apache, hematocrit_apache, map_apache, pao2_apache, ph_apache, sodium_apache, temp_apache, wbc_apache, aids, cirrhosis, diabetes_mellitus, hepatic_failure, immunosuppression, leukemia, lymphoma, solid_tumor_with_metastasis, hospital_death]\n",
       "Index: []"
      ]
     },
     "execution_count": 6,
     "metadata": {},
     "output_type": "execute_result"
    }
   ],
   "source": [
    "datam[datam[\"hospital_death\"].isnull()]#todas estan predichas"
   ]
  },
  {
   "cell_type": "code",
   "execution_count": 7,
   "metadata": {},
   "outputs": [],
   "source": [
    "## Imputacion con mediana cuando la districucion de las variables no se asemeja a la normal, sesgada"
   ]
  },
  {
   "cell_type": "code",
   "execution_count": 8,
   "metadata": {},
   "outputs": [],
   "source": [
    "from sklearn.impute import SimpleImputer\n",
    "variables_mediana =['gcs_motor_apache', 'gcs_eyes_apache', 'gcs_verbal_apache', 'weight', \"bmi\"\n",
    ", 'bun_apache', 'creatinine_apache', 'sodium_apache', 'temp_apache', 'wbc_apache', 'd1_diasbp_max', 'd1_diasbp_min', 'd1_diasbp_min', \"d1_diasbp_noninvasive_min\", \"d1_heartrate_max\", \"d1_heartrate_min\", \"d1_mbp_max\", \"d1_mbp_noninvasive_max\",  \"d1_mbp_noninvasive_min\", \"d1_resprate_max\", \"d1_resprate_min\", \"d1_spo2_max\", \"d1_spo2_min\", \"d1_sysbp_max\", \"d1_sysbp_min\", \"d1_sysbp_noninvasive_max\", \"d1_sysbp_noninvasive_min\", \"d1_temp_max\", \"d1_temp_min\", \"h1_diasbp_max\", \"h1_diasbp_min\", \"h1_diasbp_noninvasive_max\", \"h1_diasbp_noninvasive_min\", \"h1_heartrate_max\", \"h1_heartrate_min\", \"h1_mbp_max\", \"h1_mbp_min\", \"h1_mbp_noninvasive_max\", \"h1_mbp_noninvasive_min\", \"h1_resprate_max\", \"h1_spo2_max\", \"h1_spo2_min\", \"h1_sysbp_max\", \"h1_sysbp_min\", \"h1_sysbp_noninvasive_max\", \"h1_sysbp_noninvasive_min\", \"h1_temp_max\", \"h1_temp_min\", \"d1_bun_max\", \"d1_bun_min\", \"d1_calcium_max\", \"d1_calcium_min\", \"d1_creatinine_max\", \"d1_creatinine_min\", \"d1_glucose_max\", \"d1_glucose_min\", \"d1_hco3_max\", \"d1_hco3_min\", \"d1_hemaglobin_min\", \"d1_platelets_max\", \"d1_platelets_min\", \"d1_potassium_max\", \"d1_potassium_min\", \"d1_sodium_min\", \"d1_wbc_max\", \"d1_wbc_min\", \"apache_4a_hospital_death_prob\", \"apache_4a_icu_death_prob\"]"
   ]
  },
  {
   "cell_type": "code",
   "execution_count": 9,
   "metadata": {},
   "outputs": [
    {
     "data": {
      "text/plain": [
       "{'age',\n",
       " 'aids',\n",
       " 'cirrhosis',\n",
       " 'diabetes_mellitus',\n",
       " 'heart_rate_apache',\n",
       " 'hematocrit_apache',\n",
       " 'hepatic_failure',\n",
       " 'hospital_death',\n",
       " 'immunosuppression',\n",
       " 'leukemia',\n",
       " 'lymphoma',\n",
       " 'map_apache',\n",
       " 'pao2_apache',\n",
       " 'ph_apache',\n",
       " 'solid_tumor_with_metastasis'}"
      ]
     },
     "execution_count": 9,
     "metadata": {},
     "output_type": "execute_result"
    }
   ],
   "source": [
    "diferencia_mediana = set(variablesL) - set(variables_mediana)\n",
    "diferencia_mediana"
   ]
  },
  {
   "cell_type": "markdown",
   "metadata": {},
   "source": [
    "# datam"
   ]
  },
  {
   "cell_type": "code",
   "execution_count": 10,
   "metadata": {},
   "outputs": [
    {
     "name": "stdout",
     "output_type": "stream",
     "text": [
      "(15, 91713)\n"
     ]
    },
    {
     "name": "stderr",
     "output_type": "stream",
     "text": [
      "/home/eagalvez/.local/lib/python3.6/site-packages/ipykernel_launcher.py:7: SettingWithCopyWarning: \n",
      "A value is trying to be set on a copy of a slice from a DataFrame.\n",
      "Try using .loc[row_indexer,col_indexer] = value instead\n",
      "\n",
      "See the caveats in the documentation: http://pandas.pydata.org/pandas-docs/stable/user_guide/indexing.html#returning-a-view-versus-a-copy\n",
      "  import sys\n"
     ]
    }
   ],
   "source": [
    "imp = SimpleImputer(missing_values=np.nan, strategy='median')\n",
    "data_nueva = imp.fit_transform(datam[diferencia_mediana]).T\n",
    "print(data_nueva.shape)\n",
    "contador = 0\n",
    "for i in diferencia_mediana:\n",
    "    if i in variablesL:\n",
    "        datam[i] = data_nueva[contador]\n",
    "        contador\n",
    "        contador=contador+1"
   ]
  },
  {
   "cell_type": "code",
   "execution_count": 11,
   "metadata": {},
   "outputs": [],
   "source": [
    "## Imputacion con media cuando la districucion de las variables se asemeja a la normal"
   ]
  },
  {
   "cell_type": "code",
   "execution_count": 12,
   "metadata": {},
   "outputs": [],
   "source": [
    "variables_mean =['age', 'height',  'hematocrit_apache','map_apache', \"d1_mbp_min\", \"d1_hemaglobin_max\", \"d1_hematocrit_max\", \"d1_hematocrit_min\", \"d1_sodium_max\"]\n"
   ]
  },
  {
   "cell_type": "markdown",
   "metadata": {},
   "source": [
    "## datam"
   ]
  },
  {
   "cell_type": "code",
   "execution_count": 13,
   "metadata": {},
   "outputs": [
    {
     "data": {
      "text/plain": [
       "{'aids',\n",
       " 'cirrhosis',\n",
       " 'creatinine_apache',\n",
       " 'diabetes_mellitus',\n",
       " 'heart_rate_apache',\n",
       " 'hepatic_failure',\n",
       " 'hospital_death',\n",
       " 'immunosuppression',\n",
       " 'leukemia',\n",
       " 'lymphoma',\n",
       " 'pao2_apache',\n",
       " 'ph_apache',\n",
       " 'sodium_apache',\n",
       " 'solid_tumor_with_metastasis',\n",
       " 'temp_apache',\n",
       " 'wbc_apache'}"
      ]
     },
     "execution_count": 13,
     "metadata": {},
     "output_type": "execute_result"
    }
   ],
   "source": [
    "diferencia_promedio = set(variablesL) - set(variables_mean)\n",
    "diferencia_promedio"
   ]
  },
  {
   "cell_type": "code",
   "execution_count": null,
   "metadata": {},
   "outputs": [],
   "source": []
  },
  {
   "cell_type": "code",
   "execution_count": 14,
   "metadata": {},
   "outputs": [
    {
     "name": "stdout",
     "output_type": "stream",
     "text": [
      "(16, 91713)\n"
     ]
    },
    {
     "name": "stderr",
     "output_type": "stream",
     "text": [
      "/home/eagalvez/.local/lib/python3.6/site-packages/ipykernel_launcher.py:6: SettingWithCopyWarning: \n",
      "A value is trying to be set on a copy of a slice from a DataFrame.\n",
      "Try using .loc[row_indexer,col_indexer] = value instead\n",
      "\n",
      "See the caveats in the documentation: http://pandas.pydata.org/pandas-docs/stable/user_guide/indexing.html#returning-a-view-versus-a-copy\n",
      "  \n"
     ]
    }
   ],
   "source": [
    "imp = SimpleImputer(strategy='mean')\n",
    "data_nueva = imp.fit_transform(datam[diferencia_promedio]).T\n",
    "print(data_nueva.shape)\n",
    "contador = 0\n",
    "for i in diferencia_promedio:\n",
    "    datam[i] = data_nueva[contador]\n",
    "    contador=contador+1"
   ]
  },
  {
   "cell_type": "code",
   "execution_count": 15,
   "metadata": {},
   "outputs": [],
   "source": [
    "## Imputacion en variables categoricas con el mas frecuente"
   ]
  },
  {
   "cell_type": "code",
   "execution_count": 16,
   "metadata": {},
   "outputs": [],
   "source": [
    "variables_categoricas =[ 'elective_surgery',\"ethnicity\",'readmission_status', 'apache_post_operative',\n",
    " 'arf_apache',\n",
    " 'gcs_unable_apache',\n",
    " 'intubated_apache',\n",
    " 'ventilated_apache',\n",
    " 'aids',\n",
    " 'cirrhosis',\n",
    " 'diabetes_mellitus',\n",
    " 'hepatic_failure',\n",
    " 'immunosuppression',\n",
    " 'leukemia',\n",
    " 'lymphoma',\n",
    " 'solid_tumor_with_metastasis',\n",
    " 'ethnicity',\n",
    " 'gender',\n",
    " 'hospital_admit_source',\n",
    " 'icu_admit_source',\n",
    " 'icu_stay_type',\n",
    " 'icu_type',\n",
    " 'apache_3j_bodysystem',\n",
    " 'apache_2_bodysystem',\n",
    " 'apache_2_diagnosis', 'apache_3j_diagnosis']\n",
    "categorias = ['ethnicity','gender',\"hospital_admit_source\", \"icu_admit_source\", \"solid_tumor_with_metastasis\", \"icu_stay_type\",\"icu_type\", \"apache_3j_bodysystem\", \"apache_2_bodysystem\"]\n"
   ]
  },
  {
   "cell_type": "code",
   "execution_count": 17,
   "metadata": {},
   "outputs": [
    {
     "data": {
      "text/plain": [
       "{'age',\n",
       " 'creatinine_apache',\n",
       " 'heart_rate_apache',\n",
       " 'hematocrit_apache',\n",
       " 'hospital_death',\n",
       " 'map_apache',\n",
       " 'pao2_apache',\n",
       " 'ph_apache',\n",
       " 'sodium_apache',\n",
       " 'temp_apache',\n",
       " 'wbc_apache'}"
      ]
     },
     "execution_count": 17,
     "metadata": {},
     "output_type": "execute_result"
    }
   ],
   "source": [
    "diferencia_categoricas = set(variablesL) - set(variables_categoricas)\n",
    "diferencia_categoricas"
   ]
  },
  {
   "cell_type": "code",
   "execution_count": 18,
   "metadata": {},
   "outputs": [
    {
     "name": "stdout",
     "output_type": "stream",
     "text": [
      "(11, 91713)\n"
     ]
    },
    {
     "name": "stderr",
     "output_type": "stream",
     "text": [
      "/home/eagalvez/.local/lib/python3.6/site-packages/ipykernel_launcher.py:7: SettingWithCopyWarning: \n",
      "A value is trying to be set on a copy of a slice from a DataFrame.\n",
      "Try using .loc[row_indexer,col_indexer] = value instead\n",
      "\n",
      "See the caveats in the documentation: http://pandas.pydata.org/pandas-docs/stable/user_guide/indexing.html#returning-a-view-versus-a-copy\n",
      "  import sys\n"
     ]
    }
   ],
   "source": [
    "imp = SimpleImputer(strategy=\"most_frequent\")\n",
    "\n",
    "data_nueva = imp.fit_transform(datam[diferencia_categoricas]).T \n",
    "print(data_nueva.shape)\n",
    "contador = 0\n",
    "for i in diferencia_categoricas:\n",
    "    datam[i] = data_nueva[contador]\n",
    "    contador\n",
    "    contador=contador+1"
   ]
  },
  {
   "cell_type": "code",
   "execution_count": 19,
   "metadata": {},
   "outputs": [],
   "source": [
    "n_samples = datam.shape[0]"
   ]
  },
  {
   "cell_type": "code",
   "execution_count": 20,
   "metadata": {},
   "outputs": [],
   "source": [
    "result = datam.isnull().sum() / n_samples \n",
    "#el porcentaje de las variables nulas con respecto a toda mi data por columna\n",
    "r = result.sort_values(ascending=True) "
   ]
  },
  {
   "cell_type": "code",
   "execution_count": 21,
   "metadata": {},
   "outputs": [
    {
     "data": {
      "text/plain": [
       "Index(['age', 'creatinine_apache', 'heart_rate_apache', 'hematocrit_apache',\n",
       "       'map_apache', 'pao2_apache', 'ph_apache', 'sodium_apache',\n",
       "       'temp_apache', 'wbc_apache', 'aids', 'cirrhosis', 'diabetes_mellitus',\n",
       "       'hepatic_failure', 'immunosuppression', 'leukemia', 'lymphoma',\n",
       "       'solid_tumor_with_metastasis', 'hospital_death'],\n",
       "      dtype='object')"
      ]
     },
     "execution_count": 21,
     "metadata": {},
     "output_type": "execute_result"
    }
   ],
   "source": [
    "datam.columns"
   ]
  },
  {
   "cell_type": "code",
   "execution_count": 22,
   "metadata": {},
   "outputs": [
    {
     "data": {
      "text/plain": [
       "['ethnicity',\n",
       " 'gender',\n",
       " 'hospital_admit_source',\n",
       " 'icu_admit_source',\n",
       " 'solid_tumor_with_metastasis',\n",
       " 'icu_stay_type',\n",
       " 'icu_type',\n",
       " 'apache_3j_bodysystem',\n",
       " 'apache_2_bodysystem']"
      ]
     },
     "execution_count": 22,
     "metadata": {},
     "output_type": "execute_result"
    }
   ],
   "source": [
    "categorias"
   ]
  },
  {
   "cell_type": "code",
   "execution_count": 23,
   "metadata": {},
   "outputs": [
    {
     "data": {
      "text/plain": [
       "{'solid_tumor_with_metastasis'}"
      ]
     },
     "execution_count": 23,
     "metadata": {},
     "output_type": "execute_result"
    }
   ],
   "source": [
    "intersection_cats = set(categorias) & set(datam.columns)\n",
    "intersection_cats"
   ]
  },
  {
   "cell_type": "code",
   "execution_count": 24,
   "metadata": {},
   "outputs": [
    {
     "data": {
      "text/html": [
       "<div>\n",
       "<style scoped>\n",
       "    .dataframe tbody tr th:only-of-type {\n",
       "        vertical-align: middle;\n",
       "    }\n",
       "\n",
       "    .dataframe tbody tr th {\n",
       "        vertical-align: top;\n",
       "    }\n",
       "\n",
       "    .dataframe thead th {\n",
       "        text-align: right;\n",
       "    }\n",
       "</style>\n",
       "<table border=\"1\" class=\"dataframe\">\n",
       "  <thead>\n",
       "    <tr style=\"text-align: right;\">\n",
       "      <th></th>\n",
       "      <th>age</th>\n",
       "      <th>lymphoma</th>\n",
       "      <th>leukemia</th>\n",
       "      <th>immunosuppression</th>\n",
       "      <th>hepatic_failure</th>\n",
       "      <th>diabetes_mellitus</th>\n",
       "      <th>cirrhosis</th>\n",
       "      <th>aids</th>\n",
       "      <th>solid_tumor_with_metastasis</th>\n",
       "      <th>wbc_apache</th>\n",
       "      <th>sodium_apache</th>\n",
       "      <th>ph_apache</th>\n",
       "      <th>pao2_apache</th>\n",
       "      <th>map_apache</th>\n",
       "      <th>hematocrit_apache</th>\n",
       "      <th>heart_rate_apache</th>\n",
       "      <th>creatinine_apache</th>\n",
       "      <th>temp_apache</th>\n",
       "      <th>hospital_death</th>\n",
       "    </tr>\n",
       "  </thead>\n",
       "  <tbody>\n",
       "    <tr>\n",
       "      <th>0</th>\n",
       "      <td>68.0</td>\n",
       "      <td>0.0</td>\n",
       "      <td>0.0</td>\n",
       "      <td>0.0</td>\n",
       "      <td>0.0</td>\n",
       "      <td>1.0</td>\n",
       "      <td>0.0</td>\n",
       "      <td>0.0</td>\n",
       "      <td>0.0</td>\n",
       "      <td>14.100000</td>\n",
       "      <td>134.000000</td>\n",
       "      <td>7.36</td>\n",
       "      <td>103.5</td>\n",
       "      <td>40.0</td>\n",
       "      <td>27.4</td>\n",
       "      <td>118.0</td>\n",
       "      <td>2.510000</td>\n",
       "      <td>39.3</td>\n",
       "      <td>0.0</td>\n",
       "    </tr>\n",
       "    <tr>\n",
       "      <th>1</th>\n",
       "      <td>77.0</td>\n",
       "      <td>0.0</td>\n",
       "      <td>0.0</td>\n",
       "      <td>0.0</td>\n",
       "      <td>0.0</td>\n",
       "      <td>1.0</td>\n",
       "      <td>0.0</td>\n",
       "      <td>0.0</td>\n",
       "      <td>0.0</td>\n",
       "      <td>12.700000</td>\n",
       "      <td>145.000000</td>\n",
       "      <td>7.45</td>\n",
       "      <td>51.0</td>\n",
       "      <td>46.0</td>\n",
       "      <td>36.9</td>\n",
       "      <td>120.0</td>\n",
       "      <td>0.560000</td>\n",
       "      <td>35.1</td>\n",
       "      <td>0.0</td>\n",
       "    </tr>\n",
       "    <tr>\n",
       "      <th>2</th>\n",
       "      <td>25.0</td>\n",
       "      <td>0.0</td>\n",
       "      <td>0.0</td>\n",
       "      <td>0.0</td>\n",
       "      <td>0.0</td>\n",
       "      <td>0.0</td>\n",
       "      <td>0.0</td>\n",
       "      <td>0.0</td>\n",
       "      <td>0.0</td>\n",
       "      <td>12.133333</td>\n",
       "      <td>137.966373</td>\n",
       "      <td>7.36</td>\n",
       "      <td>103.5</td>\n",
       "      <td>68.0</td>\n",
       "      <td>33.2</td>\n",
       "      <td>102.0</td>\n",
       "      <td>1.480014</td>\n",
       "      <td>36.7</td>\n",
       "      <td>0.0</td>\n",
       "    </tr>\n",
       "    <tr>\n",
       "      <th>3</th>\n",
       "      <td>81.0</td>\n",
       "      <td>0.0</td>\n",
       "      <td>0.0</td>\n",
       "      <td>0.0</td>\n",
       "      <td>0.0</td>\n",
       "      <td>0.0</td>\n",
       "      <td>0.0</td>\n",
       "      <td>0.0</td>\n",
       "      <td>0.0</td>\n",
       "      <td>8.000000</td>\n",
       "      <td>137.966373</td>\n",
       "      <td>7.39</td>\n",
       "      <td>142.0</td>\n",
       "      <td>60.0</td>\n",
       "      <td>25.9</td>\n",
       "      <td>114.0</td>\n",
       "      <td>1.480014</td>\n",
       "      <td>34.8</td>\n",
       "      <td>0.0</td>\n",
       "    </tr>\n",
       "    <tr>\n",
       "      <th>4</th>\n",
       "      <td>19.0</td>\n",
       "      <td>0.0</td>\n",
       "      <td>0.0</td>\n",
       "      <td>0.0</td>\n",
       "      <td>0.0</td>\n",
       "      <td>0.0</td>\n",
       "      <td>0.0</td>\n",
       "      <td>0.0</td>\n",
       "      <td>0.0</td>\n",
       "      <td>12.133333</td>\n",
       "      <td>137.966373</td>\n",
       "      <td>7.36</td>\n",
       "      <td>103.5</td>\n",
       "      <td>103.0</td>\n",
       "      <td>33.2</td>\n",
       "      <td>60.0</td>\n",
       "      <td>1.480014</td>\n",
       "      <td>36.7</td>\n",
       "      <td>0.0</td>\n",
       "    </tr>\n",
       "    <tr>\n",
       "      <th>...</th>\n",
       "      <td>...</td>\n",
       "      <td>...</td>\n",
       "      <td>...</td>\n",
       "      <td>...</td>\n",
       "      <td>...</td>\n",
       "      <td>...</td>\n",
       "      <td>...</td>\n",
       "      <td>...</td>\n",
       "      <td>...</td>\n",
       "      <td>...</td>\n",
       "      <td>...</td>\n",
       "      <td>...</td>\n",
       "      <td>...</td>\n",
       "      <td>...</td>\n",
       "      <td>...</td>\n",
       "      <td>...</td>\n",
       "      <td>...</td>\n",
       "      <td>...</td>\n",
       "      <td>...</td>\n",
       "    </tr>\n",
       "    <tr>\n",
       "      <th>91708</th>\n",
       "      <td>75.0</td>\n",
       "      <td>0.0</td>\n",
       "      <td>0.0</td>\n",
       "      <td>0.0</td>\n",
       "      <td>0.0</td>\n",
       "      <td>1.0</td>\n",
       "      <td>0.0</td>\n",
       "      <td>0.0</td>\n",
       "      <td>1.0</td>\n",
       "      <td>12.133333</td>\n",
       "      <td>137.966373</td>\n",
       "      <td>7.36</td>\n",
       "      <td>103.5</td>\n",
       "      <td>48.0</td>\n",
       "      <td>33.2</td>\n",
       "      <td>115.0</td>\n",
       "      <td>1.480014</td>\n",
       "      <td>36.6</td>\n",
       "      <td>0.0</td>\n",
       "    </tr>\n",
       "    <tr>\n",
       "      <th>91709</th>\n",
       "      <td>56.0</td>\n",
       "      <td>0.0</td>\n",
       "      <td>0.0</td>\n",
       "      <td>0.0</td>\n",
       "      <td>0.0</td>\n",
       "      <td>0.0</td>\n",
       "      <td>0.0</td>\n",
       "      <td>0.0</td>\n",
       "      <td>0.0</td>\n",
       "      <td>4.220000</td>\n",
       "      <td>136.000000</td>\n",
       "      <td>7.36</td>\n",
       "      <td>103.5</td>\n",
       "      <td>62.0</td>\n",
       "      <td>33.0</td>\n",
       "      <td>100.0</td>\n",
       "      <td>2.300000</td>\n",
       "      <td>37.4</td>\n",
       "      <td>0.0</td>\n",
       "    </tr>\n",
       "    <tr>\n",
       "      <th>91710</th>\n",
       "      <td>48.0</td>\n",
       "      <td>0.0</td>\n",
       "      <td>0.0</td>\n",
       "      <td>0.0</td>\n",
       "      <td>0.0</td>\n",
       "      <td>1.0</td>\n",
       "      <td>0.0</td>\n",
       "      <td>0.0</td>\n",
       "      <td>0.0</td>\n",
       "      <td>17.550000</td>\n",
       "      <td>135.000000</td>\n",
       "      <td>7.36</td>\n",
       "      <td>103.5</td>\n",
       "      <td>57.0</td>\n",
       "      <td>36.0</td>\n",
       "      <td>158.0</td>\n",
       "      <td>2.300000</td>\n",
       "      <td>35.8</td>\n",
       "      <td>0.0</td>\n",
       "    </tr>\n",
       "    <tr>\n",
       "      <th>91711</th>\n",
       "      <td>65.0</td>\n",
       "      <td>0.0</td>\n",
       "      <td>0.0</td>\n",
       "      <td>0.0</td>\n",
       "      <td>0.0</td>\n",
       "      <td>0.0</td>\n",
       "      <td>0.0</td>\n",
       "      <td>0.0</td>\n",
       "      <td>0.0</td>\n",
       "      <td>12.133333</td>\n",
       "      <td>137.966373</td>\n",
       "      <td>7.36</td>\n",
       "      <td>103.5</td>\n",
       "      <td>54.0</td>\n",
       "      <td>33.2</td>\n",
       "      <td>60.0</td>\n",
       "      <td>1.480014</td>\n",
       "      <td>36.3</td>\n",
       "      <td>0.0</td>\n",
       "    </tr>\n",
       "    <tr>\n",
       "      <th>91712</th>\n",
       "      <td>82.0</td>\n",
       "      <td>0.0</td>\n",
       "      <td>0.0</td>\n",
       "      <td>0.0</td>\n",
       "      <td>0.0</td>\n",
       "      <td>0.0</td>\n",
       "      <td>0.0</td>\n",
       "      <td>0.0</td>\n",
       "      <td>0.0</td>\n",
       "      <td>24.400000</td>\n",
       "      <td>132.000000</td>\n",
       "      <td>7.36</td>\n",
       "      <td>103.5</td>\n",
       "      <td>56.0</td>\n",
       "      <td>36.0</td>\n",
       "      <td>101.0</td>\n",
       "      <td>1.500000</td>\n",
       "      <td>36.0</td>\n",
       "      <td>0.0</td>\n",
       "    </tr>\n",
       "  </tbody>\n",
       "</table>\n",
       "<p>91713 rows × 19 columns</p>\n",
       "</div>"
      ],
      "text/plain": [
       "        age  lymphoma  leukemia  immunosuppression  hepatic_failure  \\\n",
       "0      68.0       0.0       0.0                0.0              0.0   \n",
       "1      77.0       0.0       0.0                0.0              0.0   \n",
       "2      25.0       0.0       0.0                0.0              0.0   \n",
       "3      81.0       0.0       0.0                0.0              0.0   \n",
       "4      19.0       0.0       0.0                0.0              0.0   \n",
       "...     ...       ...       ...                ...              ...   \n",
       "91708  75.0       0.0       0.0                0.0              0.0   \n",
       "91709  56.0       0.0       0.0                0.0              0.0   \n",
       "91710  48.0       0.0       0.0                0.0              0.0   \n",
       "91711  65.0       0.0       0.0                0.0              0.0   \n",
       "91712  82.0       0.0       0.0                0.0              0.0   \n",
       "\n",
       "       diabetes_mellitus  cirrhosis  aids  solid_tumor_with_metastasis  \\\n",
       "0                    1.0        0.0   0.0                          0.0   \n",
       "1                    1.0        0.0   0.0                          0.0   \n",
       "2                    0.0        0.0   0.0                          0.0   \n",
       "3                    0.0        0.0   0.0                          0.0   \n",
       "4                    0.0        0.0   0.0                          0.0   \n",
       "...                  ...        ...   ...                          ...   \n",
       "91708                1.0        0.0   0.0                          1.0   \n",
       "91709                0.0        0.0   0.0                          0.0   \n",
       "91710                1.0        0.0   0.0                          0.0   \n",
       "91711                0.0        0.0   0.0                          0.0   \n",
       "91712                0.0        0.0   0.0                          0.0   \n",
       "\n",
       "       wbc_apache  sodium_apache  ph_apache  pao2_apache  map_apache  \\\n",
       "0       14.100000     134.000000       7.36        103.5        40.0   \n",
       "1       12.700000     145.000000       7.45         51.0        46.0   \n",
       "2       12.133333     137.966373       7.36        103.5        68.0   \n",
       "3        8.000000     137.966373       7.39        142.0        60.0   \n",
       "4       12.133333     137.966373       7.36        103.5       103.0   \n",
       "...           ...            ...        ...          ...         ...   \n",
       "91708   12.133333     137.966373       7.36        103.5        48.0   \n",
       "91709    4.220000     136.000000       7.36        103.5        62.0   \n",
       "91710   17.550000     135.000000       7.36        103.5        57.0   \n",
       "91711   12.133333     137.966373       7.36        103.5        54.0   \n",
       "91712   24.400000     132.000000       7.36        103.5        56.0   \n",
       "\n",
       "       hematocrit_apache  heart_rate_apache  creatinine_apache  temp_apache  \\\n",
       "0                   27.4              118.0           2.510000         39.3   \n",
       "1                   36.9              120.0           0.560000         35.1   \n",
       "2                   33.2              102.0           1.480014         36.7   \n",
       "3                   25.9              114.0           1.480014         34.8   \n",
       "4                   33.2               60.0           1.480014         36.7   \n",
       "...                  ...                ...                ...          ...   \n",
       "91708               33.2              115.0           1.480014         36.6   \n",
       "91709               33.0              100.0           2.300000         37.4   \n",
       "91710               36.0              158.0           2.300000         35.8   \n",
       "91711               33.2               60.0           1.480014         36.3   \n",
       "91712               36.0              101.0           1.500000         36.0   \n",
       "\n",
       "       hospital_death  \n",
       "0                 0.0  \n",
       "1                 0.0  \n",
       "2                 0.0  \n",
       "3                 0.0  \n",
       "4                 0.0  \n",
       "...               ...  \n",
       "91708             0.0  \n",
       "91709             0.0  \n",
       "91710             0.0  \n",
       "91711             0.0  \n",
       "91712             0.0  \n",
       "\n",
       "[91713 rows x 19 columns]"
      ]
     },
     "execution_count": 24,
     "metadata": {},
     "output_type": "execute_result"
    }
   ],
   "source": [
    "## Se quitan algunas columnas y se deja solo aquellas columnas que no tienen missing value \n",
    "#df.dropna(axis='columns') elimina las columnas que tienen mas de un elementofaltante\n",
    "data2m = datam[r[r<=0.00].reset_index()[\"index\"]]\n",
    "data2m"
   ]
  },
  {
   "cell_type": "code",
   "execution_count": 25,
   "metadata": {},
   "outputs": [
    {
     "data": {
      "text/plain": [
       "0        0.0\n",
       "1        0.0\n",
       "2        0.0\n",
       "3        0.0\n",
       "4        0.0\n",
       "        ... \n",
       "91708    1.0\n",
       "91709    0.0\n",
       "91710    0.0\n",
       "91711    0.0\n",
       "91712    0.0\n",
       "Name: solid_tumor_with_metastasis, Length: 91713, dtype: float64"
      ]
     },
     "execution_count": 25,
     "metadata": {},
     "output_type": "execute_result"
    }
   ],
   "source": [
    "data2m['solid_tumor_with_metastasis']"
   ]
  },
  {
   "cell_type": "code",
   "execution_count": 26,
   "metadata": {},
   "outputs": [
    {
     "name": "stderr",
     "output_type": "stream",
     "text": [
      "/home/eagalvez/.local/lib/python3.6/site-packages/ipykernel_launcher.py:7: SettingWithCopyWarning: \n",
      "A value is trying to be set on a copy of a slice from a DataFrame.\n",
      "Try using .loc[row_indexer,col_indexer] = value instead\n",
      "\n",
      "See the caveats in the documentation: http://pandas.pydata.org/pandas-docs/stable/user_guide/indexing.html#returning-a-view-versus-a-copy\n",
      "  import sys\n"
     ]
    }
   ],
   "source": [
    "#categorias = ['gender']\n",
    "from sklearn.preprocessing import LabelEncoder\n",
    "from sklearn.preprocessing import OneHotEncoder\n",
    "data = data2m\n",
    "for i in intersection_cats:\n",
    "    categoria = LabelEncoder()\n",
    "    data[i + \"_encoded\"] = categoria.fit_transform(data[i])\n",
    "    ohe = OneHotEncoder()\n",
    "    X = ohe.fit_transform(data[i+\"_encoded\"].values.reshape(-1,1)).toarray()\n",
    "    dfOneHot = pandas.DataFrame(X, columns = [ i + \"_\"+str(int(j)) for j in range(X.shape[1])])\n",
    "    data2 = pandas.concat([data, dfOneHot], axis=1)\n",
    "data2 = data.drop(columns=list(intersection_cats))    # luego sacar icu_type, icu_stay_type"
   ]
  },
  {
   "cell_type": "code",
   "execution_count": 27,
   "metadata": {},
   "outputs": [],
   "source": [
    "data2m =data"
   ]
  },
  {
   "cell_type": "code",
   "execution_count": 28,
   "metadata": {},
   "outputs": [],
   "source": [
    "from sklearn.model_selection import train_test_split\n",
    "train_x, test_x, train_y, test_y = train_test_split( data2m,  data2m[\"hospital_death\"], test_size=0.3, random_state=0)"
   ]
  },
  {
   "cell_type": "code",
   "execution_count": 29,
   "metadata": {},
   "outputs": [
    {
     "data": {
      "text/plain": [
       "GaussianNB(priors=None, var_smoothing=1e-09)"
      ]
     },
     "execution_count": 29,
     "metadata": {},
     "output_type": "execute_result"
    }
   ],
   "source": [
    "from sklearn import datasets\n",
    "\n",
    "from sklearn import metrics\n",
    "\n",
    "from sklearn.naive_bayes import GaussianNB\n",
    "\n",
    "model = GaussianNB()\n",
    "\n",
    "model.fit(train_x, train_y)"
   ]
  },
  {
   "cell_type": "code",
   "execution_count": 30,
   "metadata": {},
   "outputs": [
    {
     "data": {
      "text/html": [
       "<div>\n",
       "<style scoped>\n",
       "    .dataframe tbody tr th:only-of-type {\n",
       "        vertical-align: middle;\n",
       "    }\n",
       "\n",
       "    .dataframe tbody tr th {\n",
       "        vertical-align: top;\n",
       "    }\n",
       "\n",
       "    .dataframe thead th {\n",
       "        text-align: right;\n",
       "    }\n",
       "</style>\n",
       "<table border=\"1\" class=\"dataframe\">\n",
       "  <thead>\n",
       "    <tr style=\"text-align: right;\">\n",
       "      <th></th>\n",
       "      <th>age</th>\n",
       "      <th>lymphoma</th>\n",
       "      <th>leukemia</th>\n",
       "      <th>immunosuppression</th>\n",
       "      <th>hepatic_failure</th>\n",
       "      <th>diabetes_mellitus</th>\n",
       "      <th>cirrhosis</th>\n",
       "      <th>aids</th>\n",
       "      <th>solid_tumor_with_metastasis</th>\n",
       "      <th>wbc_apache</th>\n",
       "      <th>sodium_apache</th>\n",
       "      <th>ph_apache</th>\n",
       "      <th>pao2_apache</th>\n",
       "      <th>map_apache</th>\n",
       "      <th>hematocrit_apache</th>\n",
       "      <th>heart_rate_apache</th>\n",
       "      <th>creatinine_apache</th>\n",
       "      <th>temp_apache</th>\n",
       "      <th>solid_tumor_with_metastasis_encoded</th>\n",
       "    </tr>\n",
       "    <tr>\n",
       "      <th>hospital_death</th>\n",
       "      <th></th>\n",
       "      <th></th>\n",
       "      <th></th>\n",
       "      <th></th>\n",
       "      <th></th>\n",
       "      <th></th>\n",
       "      <th></th>\n",
       "      <th></th>\n",
       "      <th></th>\n",
       "      <th></th>\n",
       "      <th></th>\n",
       "      <th></th>\n",
       "      <th></th>\n",
       "      <th></th>\n",
       "      <th></th>\n",
       "      <th></th>\n",
       "      <th></th>\n",
       "      <th></th>\n",
       "      <th></th>\n",
       "    </tr>\n",
       "  </thead>\n",
       "  <tbody>\n",
       "    <tr>\n",
       "      <th>0.0</th>\n",
       "      <td>83798</td>\n",
       "      <td>83798</td>\n",
       "      <td>83798</td>\n",
       "      <td>83798</td>\n",
       "      <td>83798</td>\n",
       "      <td>83798</td>\n",
       "      <td>83798</td>\n",
       "      <td>83798</td>\n",
       "      <td>83798</td>\n",
       "      <td>83798</td>\n",
       "      <td>83798</td>\n",
       "      <td>83798</td>\n",
       "      <td>83798</td>\n",
       "      <td>83798</td>\n",
       "      <td>83798</td>\n",
       "      <td>83798</td>\n",
       "      <td>83798</td>\n",
       "      <td>83798</td>\n",
       "      <td>83798</td>\n",
       "    </tr>\n",
       "    <tr>\n",
       "      <th>1.0</th>\n",
       "      <td>7915</td>\n",
       "      <td>7915</td>\n",
       "      <td>7915</td>\n",
       "      <td>7915</td>\n",
       "      <td>7915</td>\n",
       "      <td>7915</td>\n",
       "      <td>7915</td>\n",
       "      <td>7915</td>\n",
       "      <td>7915</td>\n",
       "      <td>7915</td>\n",
       "      <td>7915</td>\n",
       "      <td>7915</td>\n",
       "      <td>7915</td>\n",
       "      <td>7915</td>\n",
       "      <td>7915</td>\n",
       "      <td>7915</td>\n",
       "      <td>7915</td>\n",
       "      <td>7915</td>\n",
       "      <td>7915</td>\n",
       "    </tr>\n",
       "  </tbody>\n",
       "</table>\n",
       "</div>"
      ],
      "text/plain": [
       "                  age  lymphoma  leukemia  immunosuppression  hepatic_failure  \\\n",
       "hospital_death                                                                  \n",
       "0.0             83798     83798     83798              83798            83798   \n",
       "1.0              7915      7915      7915               7915             7915   \n",
       "\n",
       "                diabetes_mellitus  cirrhosis   aids  \\\n",
       "hospital_death                                        \n",
       "0.0                         83798      83798  83798   \n",
       "1.0                          7915       7915   7915   \n",
       "\n",
       "                solid_tumor_with_metastasis  wbc_apache  sodium_apache  \\\n",
       "hospital_death                                                           \n",
       "0.0                                   83798       83798          83798   \n",
       "1.0                                    7915        7915           7915   \n",
       "\n",
       "                ph_apache  pao2_apache  map_apache  hematocrit_apache  \\\n",
       "hospital_death                                                          \n",
       "0.0                 83798        83798       83798              83798   \n",
       "1.0                  7915         7915        7915               7915   \n",
       "\n",
       "                heart_rate_apache  creatinine_apache  temp_apache  \\\n",
       "hospital_death                                                      \n",
       "0.0                         83798              83798        83798   \n",
       "1.0                          7915               7915         7915   \n",
       "\n",
       "                solid_tumor_with_metastasis_encoded  \n",
       "hospital_death                                       \n",
       "0.0                                           83798  \n",
       "1.0                                            7915  "
      ]
     },
     "execution_count": 30,
     "metadata": {},
     "output_type": "execute_result"
    }
   ],
   "source": [
    "data.groupby(\"hospital_death\").count()"
   ]
  },
  {
   "cell_type": "code",
   "execution_count": 31,
   "metadata": {},
   "outputs": [],
   "source": [
    "expected = test_y\n",
    "\n",
    "predicted = model.predict(test_x)"
   ]
  },
  {
   "cell_type": "code",
   "execution_count": 32,
   "metadata": {},
   "outputs": [
    {
     "name": "stdout",
     "output_type": "stream",
     "text": [
      "              precision    recall  f1-score   support\n",
      "\n",
      "         0.0       1.00      1.00      1.00     25082\n",
      "         1.0       1.00      1.00      1.00      2432\n",
      "\n",
      "    accuracy                           1.00     27514\n",
      "   macro avg       1.00      1.00      1.00     27514\n",
      "weighted avg       1.00      1.00      1.00     27514\n",
      "\n",
      "[[25082     0]\n",
      " [    0  2432]]\n"
     ]
    }
   ],
   "source": [
    "print(metrics.classification_report(expected, predicted))\n",
    "\n",
    "print(metrics.confusion_matrix(expected, predicted))"
   ]
  },
  {
   "cell_type": "code",
   "execution_count": null,
   "metadata": {},
   "outputs": [],
   "source": []
  },
  {
   "cell_type": "code",
   "execution_count": null,
   "metadata": {},
   "outputs": [],
   "source": []
  },
  {
   "cell_type": "code",
   "execution_count": null,
   "metadata": {},
   "outputs": [],
   "source": []
  },
  {
   "cell_type": "code",
   "execution_count": null,
   "metadata": {},
   "outputs": [],
   "source": []
  },
  {
   "cell_type": "code",
   "execution_count": null,
   "metadata": {},
   "outputs": [],
   "source": []
  },
  {
   "cell_type": "code",
   "execution_count": null,
   "metadata": {},
   "outputs": [],
   "source": []
  },
  {
   "cell_type": "code",
   "execution_count": null,
   "metadata": {},
   "outputs": [],
   "source": []
  },
  {
   "cell_type": "code",
   "execution_count": null,
   "metadata": {},
   "outputs": [],
   "source": []
  },
  {
   "cell_type": "raw",
   "metadata": {},
   "source": [
    "The Naive Bayes classifier assumes that the presence of a feature in a class is unrelated to any other feature.\n",
    "describes the probability of an event, based on prior knowledge of conditions that might be related to the event\n",
    "https://dzone.com/articles/naive-bayes-tutorial-naive-bayes-classifier-in-pyt"
   ]
  }
 ],
 "metadata": {
  "kernelspec": {
   "display_name": "Python 3",
   "language": "python",
   "name": "python3"
  },
  "language_info": {
   "codemirror_mode": {
    "name": "ipython",
    "version": 3
   },
   "file_extension": ".py",
   "mimetype": "text/x-python",
   "name": "python",
   "nbconvert_exporter": "python",
   "pygments_lexer": "ipython3",
   "version": "3.5.2"
  }
 },
 "nbformat": 4,
 "nbformat_minor": 2
}
