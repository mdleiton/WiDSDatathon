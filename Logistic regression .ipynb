{
 "cells": [
  {
   "cell_type": "code",
   "execution_count": 17,
   "metadata": {},
   "outputs": [],
   "source": [
    "import pandas as pd\n",
    "import csv\n",
    "import matplotlib.pyplot as plt\n",
    "import numpy as np\n",
    "#from sklearn.decomposition import PCA\n",
    "#from sklearn.preprocessing import StandardScaler\n",
    "#from sklearn.model_selection import train_test_split\n",
    "#from sklearn.impute import SimpleImputer"
   ]
  },
  {
   "cell_type": "markdown",
   "metadata": {},
   "source": [
    "### todo es con data imputada, y con variables categoricas en funcion de la mas comun "
   ]
  },
  {
   "cell_type": "code",
   "execution_count": 3,
   "metadata": {},
   "outputs": [],
   "source": [
    "archivo= pandas.read_csv(\"dataimputada2.csv\", decimal=\".\")"
   ]
  },
  {
   "cell_type": "code",
   "execution_count": 4,
   "metadata": {},
   "outputs": [
    {
     "data": {
      "text/plain": [
       "(91713, 200)"
      ]
     },
     "execution_count": 4,
     "metadata": {},
     "output_type": "execute_result"
    }
   ],
   "source": [
    "archivo.shape"
   ]
  },
  {
   "cell_type": "code",
   "execution_count": 34,
   "metadata": {},
   "outputs": [
    {
     "data": {
      "text/plain": [
       "(91713, 119)"
      ]
     },
     "execution_count": 34,
     "metadata": {},
     "output_type": "execute_result"
    }
   ],
   "source": [
    "result = archivo.isnull().sum()/91713\n",
    "r = result.sort_values(ascending=True) \n",
    "data2 = archivo[r[r<=0.00].reset_index()[\"index\"]].drop(columns=[\"encounter_id\", \"readmission_status\"]) \n",
    "data2.shape"
   ]
  },
  {
   "cell_type": "code",
   "execution_count": 35,
   "metadata": {},
   "outputs": [
    {
     "data": {
      "text/plain": [
       "(91713, 118)"
      ]
     },
     "execution_count": 35,
     "metadata": {},
     "output_type": "execute_result"
    }
   ],
   "source": [
    "data3 =data2.drop(columns=[\"hospital_death\"])\n",
    "data3.shape"
   ]
  },
  {
   "cell_type": "markdown",
   "metadata": {},
   "source": [
    "## NORMALIZAR LOS DATOS"
   ]
  },
  {
   "cell_type": "code",
   "execution_count": 36,
   "metadata": {},
   "outputs": [],
   "source": [
    "variables_1=['gcs_motor_apache', 'gcs_eyes_apache', 'gcs_verbal_apache', 'weight', \"bmi\"\n",
    ", 'bun_apache', 'creatinine_apache', 'sodium_apache', 'temp_apache', 'wbc_apache', 'd1_diasbp_max', 'd1_diasbp_min', 'd1_diasbp_min', \"d1_diasbp_noninvasive_min\", \"d1_heartrate_max\", \"d1_heartrate_min\", \"d1_mbp_max\", \"d1_mbp_noninvasive_max\",  \"d1_mbp_noninvasive_min\", \"d1_resprate_max\", \"d1_resprate_min\", \"d1_spo2_max\", \"d1_spo2_min\", \"d1_sysbp_max\", \"d1_sysbp_min\", \"d1_sysbp_noninvasive_max\", \"d1_sysbp_noninvasive_min\", \"d1_temp_max\", \"d1_temp_min\", \"h1_diasbp_max\", \"h1_diasbp_min\", \"h1_diasbp_noninvasive_max\", \"h1_diasbp_noninvasive_min\", \"h1_heartrate_max\", \"h1_heartrate_min\", \"h1_mbp_max\", \"h1_mbp_min\", \"h1_mbp_noninvasive_max\", \"h1_mbp_noninvasive_min\", \"h1_resprate_max\", \"h1_spo2_max\", \"h1_spo2_min\", \"h1_sysbp_max\", \"h1_sysbp_min\", \"h1_sysbp_noninvasive_max\", \"h1_sysbp_noninvasive_min\", \"h1_temp_max\", \"h1_temp_min\", \"d1_bun_max\", \"d1_bun_min\", \"d1_calcium_max\", \"d1_calcium_min\", \"d1_creatinine_max\", \"d1_creatinine_min\", \"d1_glucose_max\", \"d1_glucose_min\", \"d1_hco3_max\", \"d1_hco3_min\", \"d1_hemaglobin_min\", \"d1_platelets_max\", \"d1_platelets_min\", \"d1_potassium_max\", \"d1_potassium_min\", \"d1_sodium_min\", \"d1_wbc_max\", \"d1_wbc_min\", \"apache_4a_hospital_death_prob\", \"apache_4a_icu_death_prob\"]\n",
    "variables_2=['age', 'height',  'hematocrit_apache','map_apache', \"d1_mbp_min\", \"d1_hemaglobin_max\", \"d1_hematocrit_max\", \"d1_hematocrit_min\", \"d1_sodium_max\"]\n",
    "\n",
    "variables_continuas= variables_1+variables_2\n",
    "\n",
    "# solo las columnas continuas\n",
    "continuas=[]\n",
    "for var in variables_continuas:\n",
    "    if var in list(data2.columns):\n",
    "        continuas.append(var)\n",
    "            \n",
    "from sklearn.preprocessing import StandardScaler\n",
    "scaler = StandardScaler()# Fit on training set only.\n",
    "dataNorm= scaler.fit_transform(data2[continuas]) \n",
    "norm= pd.DataFrame(dataNorm, columns= continuas)\n",
    "\n",
    "\n",
    "# sin continuas\n",
    "data_otros= data2.drop(columns= continuas)\n",
    "        "
   ]
  },
  {
   "cell_type": "code",
   "execution_count": 57,
   "metadata": {},
   "outputs": [],
   "source": [
    "result = pd.merge(data_otros.reset_index(),\n",
    "                  norm.reset_index(), \n",
    "                  left_index=True, \n",
    "                  right_index=True)\n",
    "\n",
    "data_norm=result.drop(columns=[\"index_x\",\"patient_id\" ])"
   ]
  },
  {
   "cell_type": "code",
   "execution_count": 58,
   "metadata": {},
   "outputs": [],
   "source": [
    "for var in list(result.columns):\n",
    "    if var not in list(data2.columns):\n",
    "        result.drop(columns= var)"
   ]
  },
  {
   "cell_type": "markdown",
   "metadata": {},
   "source": [
    "### LOGISTIC REGRESSION "
   ]
  },
  {
   "cell_type": "code",
   "execution_count": 60,
   "metadata": {},
   "outputs": [
    {
     "data": {
      "text/plain": [
       "(91713, 119)"
      ]
     },
     "execution_count": 60,
     "metadata": {},
     "output_type": "execute_result"
    }
   ],
   "source": [
    "data3 =data_norm.drop(columns=[\"hospital_death\"])\n",
    "data3.shape"
   ]
  },
  {
   "cell_type": "code",
   "execution_count": 61,
   "metadata": {},
   "outputs": [
    {
     "name": "stdout",
     "output_type": "stream",
     "text": [
      "Mean recall: 0.732\n"
     ]
    }
   ],
   "source": [
    "from numpy import mean\n",
    "from sklearn.model_selection import cross_val_score\n",
    "from sklearn.model_selection import RepeatedStratifiedKFold\n",
    "from sklearn.linear_model import LogisticRegression\n",
    "model = LogisticRegression(solver='lbfgs', class_weight='balanced')\n",
    "# define evaluation procedure\n",
    "cv = RepeatedStratifiedKFold(n_splits=10, n_repeats=3, random_state=1)\n",
    "# evaluate model\n",
    "scores = cross_val_score(model, data3, data_norm[\"hospital_death\"], scoring='recall', cv=cv, n_jobs=-1)\n",
    "# summarize performance\n",
    "print('Mean recall: %.3f' % mean(scores))"
   ]
  },
  {
   "cell_type": "code",
   "execution_count": 111,
   "metadata": {},
   "outputs": [
    {
     "name": "stdout",
     "output_type": "stream",
     "text": [
      "Mean recall: 0.749\n"
     ]
    }
   ],
   "source": [
    "# con data normalizda\n",
    "from numpy import mean\n",
    "from sklearn.model_selection import cross_val_score\n",
    "from sklearn.model_selection import RepeatedStratifiedKFold\n",
    "from sklearn.linear_model import LogisticRegression\n",
    "model = LogisticRegression(solver='lbfgs', class_weight='balanced')\n",
    "# define evaluation procedure\n",
    "cv = RepeatedStratifiedKFold(n_splits=10, n_repeats=3, random_state=1)\n",
    "# evaluate model\n",
    "scores = cross_val_score(model, data_norm, data2[\"hospital_death\"], scoring='recall', cv=cv, n_jobs=-1)\n",
    "# summarize performance\n",
    "print('Mean recall: %.3f' % mean(scores))"
   ]
  },
  {
   "cell_type": "markdown",
   "metadata": {},
   "source": [
    "## Regularizacion"
   ]
  },
  {
   "cell_type": "code",
   "execution_count": 101,
   "metadata": {},
   "outputs": [
    {
     "name": "stderr",
     "output_type": "stream",
     "text": [
      "c:\\users\\inspiron\\appdata\\local\\programs\\python\\python37\\lib\\site-packages\\sklearn\\linear_model\\_logistic.py:939: ConvergenceWarning: lbfgs failed to converge (status=1):\n",
      "STOP: TOTAL NO. of ITERATIONS REACHED LIMIT.\n",
      "\n",
      "Increase the number of iterations (max_iter) or scale the data as shown in:\n",
      "    https://scikit-learn.org/stable/modules/preprocessing.html.\n",
      "Please also refer to the documentation for alternative solver options:\n",
      "    https://scikit-learn.org/stable/modules/linear_model.html#logistic-regression\n",
      "  extra_warning_msg=_LOGISTIC_SOLVER_CONVERGENCE_MSG)\n"
     ]
    },
    {
     "data": {
      "text/plain": [
       "array([[233., 233.,  15., ..., 119.,  37.,  73.],\n",
       "       [487., 557.,  26., ..., 118.,  31.,  67.],\n",
       "       [187., 196.,  23., ...,  96.,  48., 105.],\n",
       "       ...,\n",
       "       [187., 196.,  23., ..., 103.,  89., 158.],\n",
       "       [116., 116.,  23., ...,  77.,  52.,  95.],\n",
       "       [182., 182.,  12., ..., 145.,  81., 125.]])"
      ]
     },
     "execution_count": 101,
     "metadata": {},
     "output_type": "execute_result"
    }
   ],
   "source": [
    "from sklearn.feature_selection import SelectFromModel\n",
    "\n",
    "train, valid, _ = get_data_splits(data2)\n",
    "\n",
    "X, y = train[train.columns.drop(\"hospital_death\")], train['hospital_death']\n",
    "\n",
    "# Set the regularization parameter C=1\n",
    "alphas= [1e-10, 1e-9,1e-8, 1e-7, 1e-6, 1e-5, 1e-4, 1,2,3,4]\n",
    "for a in alphas: \n",
    "    logistic = LogisticRegression(C=1, penalty=\"l2\", random_state=7).fit(X, y)\n",
    "    model = SelectFromModel(logistic, prefit=True)\n",
    "    coefs.append(ridge.coef_)\n",
    "\n",
    "\n",
    "\n",
    "\n",
    "\n",
    "logistic = LogisticRegression(C=1, penalty=\"l2\", random_state=7).fit(X, y)\n",
    "model = SelectFromModel(logistic, prefit=True)\n",
    "\n",
    "X_new = model.transform(X)\n",
    "X_new"
   ]
  },
  {
   "cell_type": "code",
   "execution_count": 102,
   "metadata": {},
   "outputs": [],
   "source": [
    "selected_features = pd.DataFrame(model.inverse_transform(X_new), \n",
    "                                 index=X.index,\n",
    "                                 columns=X.columns)\n",
    "\n",
    "# Dropped columns have values of all 0s, keep other columns \n",
    "selected_columns = selected_features.columns[selected_features.var() != 0]"
   ]
  },
  {
   "cell_type": "code",
   "execution_count": null,
   "metadata": {},
   "outputs": [],
   "source": [
    "beta = cp.Variable(n)\n",
    "lambd = cp.Parameter(nonneg=True)\n",
    "problem = cp.Problem(cp.Minimize(objective_fn(X_train, Y_train, beta, lambd)))\n",
    "\n",
    "lambd_values = np.logspace(-2, 3, 50)\n",
    "train_errors = []\n",
    "test_errors = []\n",
    "beta_values = []\n",
    "for v in lambd_values:\n",
    "    lambd.value = v\n",
    "    problem.solve()\n",
    "    train_errors.append(mse(X_train, Y_train, beta))\n",
    "    test_errors.append(mse(X_test, Y_test, beta))\n",
    "    beta_values.append(beta.value)"
   ]
  },
  {
   "cell_type": "code",
   "execution_count": null,
   "metadata": {},
   "outputs": [],
   "source": [
    "def plot_regularization_path(lambd_values, beta_values):\n",
    "    num_coeffs = len(beta_values[0])\n",
    "    for i in range(num_coeffs):\n",
    "        plt.plot(lambd_values, [wi[i] for wi in beta_values])\n",
    "    plt.xlabel(r\"$\\lambda$\", fontsize=16)\n",
    "    plt.xscale(\"log\")\n",
    "    plt.title(\"Regularization Path\")\n",
    "    plt.show()\n",
    "\n",
    "plot_regularization_path(lambd_values, beta_values"
   ]
  },
  {
   "cell_type": "markdown",
   "metadata": {},
   "source": [
    "### recall con las variables seleccionadas   de regularizacion"
   ]
  },
  {
   "cell_type": "code",
   "execution_count": 116,
   "metadata": {},
   "outputs": [
    {
     "name": "stdout",
     "output_type": "stream",
     "text": [
      "Mean recall: 0.695\n"
     ]
    }
   ],
   "source": [
    "variables_selecc=list(selected_columns)\n",
    "matriz= data_norm[variables_selecc]\n",
    "\n",
    "\n",
    "from numpy import mean\n",
    "from sklearn.model_selection import cross_val_score\n",
    "from sklearn.model_selection import RepeatedStratifiedKFold\n",
    "from sklearn.linear_model import LogisticRegression\n",
    "model = LogisticRegression(solver='lbfgs', class_weight='balanced')\n",
    "# define evaluation procedure\n",
    "cv = RepeatedStratifiedKFold(n_splits=10, n_repeats=3, random_state=1)\n",
    "# evaluate model\n",
    "scores = cross_val_score(model, matriz, data2[\"hospital_death\"], scoring='recall', cv=cv, n_jobs=-1)\n",
    "# summarize performance\n",
    "print('Mean recall: %.3f' % mean(scores))\n"
   ]
  },
  {
   "cell_type": "code",
   "execution_count": 134,
   "metadata": {},
   "outputs": [
    {
     "data": {
      "text/plain": [
       "['d1_platelets_min',\n",
       " 'd1_platelets_max',\n",
       " 'd1_hco3_min',\n",
       " 'd1_bun_min',\n",
       " 'd1_bun_max',\n",
       " 'h1_heartrate_max',\n",
       " 'h1_heartrate_min',\n",
       " 'h1_mbp_min',\n",
       " 'h1_mbp_noninvasive_min',\n",
       " 'h1_resprate_max',\n",
       " 'h1_spo2_min',\n",
       " 'h1_sysbp_min',\n",
       " 'h1_sysbp_noninvasive_min',\n",
       " 'h1_diasbp_noninvasive_min',\n",
       " 'd1_wbc_max',\n",
       " 'd1_wbc_min',\n",
       " 'wbc_apache',\n",
       " 'h1_diasbp_min',\n",
       " 'bun_apache',\n",
       " 'apache_2_diagnosis',\n",
       " 'weight',\n",
       " 'age',\n",
       " 'd1_diasbp_min',\n",
       " 'd1_mbp_noninvasive_min',\n",
       " 'd1_resprate_max',\n",
       " 'd1_spo2_min',\n",
       " 'd1_mbp_min',\n",
       " 'd1_sysbp_min',\n",
       " 'd1_heartrate_max',\n",
       " 'd1_diasbp_noninvasive_min',\n",
       " 'd1_sysbp_noninvasive_min']"
      ]
     },
     "execution_count": 134,
     "metadata": {},
     "output_type": "execute_result"
    }
   ],
   "source": [
    "variables_selecc"
   ]
  },
  {
   "cell_type": "code",
   "execution_count": null,
   "metadata": {},
   "outputs": [],
   "source": [
    "import numpy as np\n",
    "import matplotlib.pyplot as plt\n",
    "from sklearn import linear_model\n",
    "# X es la 10x10 matrix de Hilbert\n",
    "X = data3\n",
    "y = data2[\"hospital_death\"]\n",
    "n_alphas = 200\n",
    "alphas = np.logspace(-10, -2, n_alphas)\n",
    "coefs = []\n",
    "for a in alphas: \n",
    "    ridge = linear_model.Ridge(alpha=a, fit_intercept=False)\n",
    "    ridge.fit(X, y)\n",
    "    coefs.append(ridge.coef_)\n",
    "# mostramos resultados\n",
    "ax = plt.gca()\n",
    "ax.plot(alphas, coefs)\n",
    "ax.set_xscale('log')\n",
    "ax.set_xlim(ax.get_xlim()[::-1]) # reverse axis\n",
    "plt.xlabel('alpha')\n",
    "plt.ylabel('weights')\n",
    "plt.title('Coeficientes de cresta en función de la regularización')\n",
    "plt.axis('tight')\n"
   ]
  },
  {
   "cell_type": "code",
   "execution_count": 98,
   "metadata": {},
   "outputs": [
    {
     "name": "stderr",
     "output_type": "stream",
     "text": [
      "c:\\users\\inspiron\\appdata\\local\\programs\\python\\python37\\lib\\site-packages\\sklearn\\linear_model\\_ridge.py:148: LinAlgWarning: Ill-conditioned matrix (rcond=1.62843e-25): result may not be accurate.\n",
      "  overwrite_a=True).T\n",
      "c:\\users\\inspiron\\appdata\\local\\programs\\python\\python37\\lib\\site-packages\\sklearn\\linear_model\\_ridge.py:148: LinAlgWarning: Ill-conditioned matrix (rcond=1.78527e-25): result may not be accurate.\n",
      "  overwrite_a=True).T\n",
      "c:\\users\\inspiron\\appdata\\local\\programs\\python\\python37\\lib\\site-packages\\sklearn\\linear_model\\_ridge.py:148: LinAlgWarning: Ill-conditioned matrix (rcond=2.01652e-25): result may not be accurate.\n",
      "  overwrite_a=True).T\n",
      "c:\\users\\inspiron\\appdata\\local\\programs\\python\\python37\\lib\\site-packages\\sklearn\\linear_model\\_ridge.py:148: LinAlgWarning: Ill-conditioned matrix (rcond=2.17462e-25): result may not be accurate.\n",
      "  overwrite_a=True).T\n",
      "c:\\users\\inspiron\\appdata\\local\\programs\\python\\python37\\lib\\site-packages\\sklearn\\linear_model\\_ridge.py:148: LinAlgWarning: Ill-conditioned matrix (rcond=2.87979e-25): result may not be accurate.\n",
      "  overwrite_a=True).T\n",
      "c:\\users\\inspiron\\appdata\\local\\programs\\python\\python37\\lib\\site-packages\\sklearn\\linear_model\\_ridge.py:148: LinAlgWarning: Ill-conditioned matrix (rcond=2.60962e-25): result may not be accurate.\n",
      "  overwrite_a=True).T\n",
      "c:\\users\\inspiron\\appdata\\local\\programs\\python\\python37\\lib\\site-packages\\sklearn\\linear_model\\_ridge.py:148: LinAlgWarning: Ill-conditioned matrix (rcond=2.89595e-25): result may not be accurate.\n",
      "  overwrite_a=True).T\n",
      "c:\\users\\inspiron\\appdata\\local\\programs\\python\\python37\\lib\\site-packages\\sklearn\\linear_model\\_ridge.py:148: LinAlgWarning: Ill-conditioned matrix (rcond=3.14793e-25): result may not be accurate.\n",
      "  overwrite_a=True).T\n",
      "c:\\users\\inspiron\\appdata\\local\\programs\\python\\python37\\lib\\site-packages\\sklearn\\linear_model\\_ridge.py:148: LinAlgWarning: Ill-conditioned matrix (rcond=3.3706e-25): result may not be accurate.\n",
      "  overwrite_a=True).T\n",
      "c:\\users\\inspiron\\appdata\\local\\programs\\python\\python37\\lib\\site-packages\\sklearn\\linear_model\\_ridge.py:148: LinAlgWarning: Ill-conditioned matrix (rcond=3.77649e-25): result may not be accurate.\n",
      "  overwrite_a=True).T\n",
      "c:\\users\\inspiron\\appdata\\local\\programs\\python\\python37\\lib\\site-packages\\sklearn\\linear_model\\_ridge.py:148: LinAlgWarning: Ill-conditioned matrix (rcond=4.96385e-25): result may not be accurate.\n",
      "  overwrite_a=True).T\n",
      "c:\\users\\inspiron\\appdata\\local\\programs\\python\\python37\\lib\\site-packages\\sklearn\\linear_model\\_ridge.py:148: LinAlgWarning: Ill-conditioned matrix (rcond=5.46234e-25): result may not be accurate.\n",
      "  overwrite_a=True).T\n",
      "c:\\users\\inspiron\\appdata\\local\\programs\\python\\python37\\lib\\site-packages\\sklearn\\linear_model\\_ridge.py:148: LinAlgWarning: Ill-conditioned matrix (rcond=5.99913e-25): result may not be accurate.\n",
      "  overwrite_a=True).T\n",
      "c:\\users\\inspiron\\appdata\\local\\programs\\python\\python37\\lib\\site-packages\\sklearn\\linear_model\\_ridge.py:148: LinAlgWarning: Ill-conditioned matrix (rcond=6.56102e-25): result may not be accurate.\n",
      "  overwrite_a=True).T\n",
      "c:\\users\\inspiron\\appdata\\local\\programs\\python\\python37\\lib\\site-packages\\sklearn\\linear_model\\_ridge.py:148: LinAlgWarning: Ill-conditioned matrix (rcond=7.23937e-25): result may not be accurate.\n",
      "  overwrite_a=True).T\n",
      "c:\\users\\inspiron\\appdata\\local\\programs\\python\\python37\\lib\\site-packages\\sklearn\\linear_model\\_ridge.py:148: LinAlgWarning: Ill-conditioned matrix (rcond=6.60764e-25): result may not be accurate.\n",
      "  overwrite_a=True).T\n",
      "c:\\users\\inspiron\\appdata\\local\\programs\\python\\python37\\lib\\site-packages\\sklearn\\linear_model\\_ridge.py:148: LinAlgWarning: Ill-conditioned matrix (rcond=7.25613e-25): result may not be accurate.\n",
      "  overwrite_a=True).T\n",
      "c:\\users\\inspiron\\appdata\\local\\programs\\python\\python37\\lib\\site-packages\\sklearn\\linear_model\\_ridge.py:148: LinAlgWarning: Ill-conditioned matrix (rcond=7.99081e-25): result may not be accurate.\n",
      "  overwrite_a=True).T\n",
      "c:\\users\\inspiron\\appdata\\local\\programs\\python\\python37\\lib\\site-packages\\sklearn\\linear_model\\_ridge.py:148: LinAlgWarning: Ill-conditioned matrix (rcond=1.04309e-24): result may not be accurate.\n",
      "  overwrite_a=True).T\n",
      "c:\\users\\inspiron\\appdata\\local\\programs\\python\\python37\\lib\\site-packages\\sklearn\\linear_model\\_ridge.py:148: LinAlgWarning: Ill-conditioned matrix (rcond=1.14201e-24): result may not be accurate.\n",
      "  overwrite_a=True).T\n",
      "c:\\users\\inspiron\\appdata\\local\\programs\\python\\python37\\lib\\site-packages\\sklearn\\linear_model\\_ridge.py:148: LinAlgWarning: Ill-conditioned matrix (rcond=1.25181e-24): result may not be accurate.\n",
      "  overwrite_a=True).T\n",
      "c:\\users\\inspiron\\appdata\\local\\programs\\python\\python37\\lib\\site-packages\\sklearn\\linear_model\\_ridge.py:148: LinAlgWarning: Ill-conditioned matrix (rcond=1.37673e-24): result may not be accurate.\n",
      "  overwrite_a=True).T\n",
      "c:\\users\\inspiron\\appdata\\local\\programs\\python\\python37\\lib\\site-packages\\sklearn\\linear_model\\_ridge.py:148: LinAlgWarning: Ill-conditioned matrix (rcond=1.51161e-24): result may not be accurate.\n",
      "  overwrite_a=True).T\n",
      "c:\\users\\inspiron\\appdata\\local\\programs\\python\\python37\\lib\\site-packages\\sklearn\\linear_model\\_ridge.py:148: LinAlgWarning: Ill-conditioned matrix (rcond=1.65715e-24): result may not be accurate.\n",
      "  overwrite_a=True).T\n",
      "c:\\users\\inspiron\\appdata\\local\\programs\\python\\python37\\lib\\site-packages\\sklearn\\linear_model\\_ridge.py:148: LinAlgWarning: Ill-conditioned matrix (rcond=1.81808e-24): result may not be accurate.\n",
      "  overwrite_a=True).T\n",
      "c:\\users\\inspiron\\appdata\\local\\programs\\python\\python37\\lib\\site-packages\\sklearn\\linear_model\\_ridge.py:148: LinAlgWarning: Ill-conditioned matrix (rcond=1.99585e-24): result may not be accurate.\n",
      "  overwrite_a=True).T\n",
      "c:\\users\\inspiron\\appdata\\local\\programs\\python\\python37\\lib\\site-packages\\sklearn\\linear_model\\_ridge.py:148: LinAlgWarning: Ill-conditioned matrix (rcond=1.83471e-24): result may not be accurate.\n",
      "  overwrite_a=True).T\n",
      "c:\\users\\inspiron\\appdata\\local\\programs\\python\\python37\\lib\\site-packages\\sklearn\\linear_model\\_ridge.py:148: LinAlgWarning: Ill-conditioned matrix (rcond=2.39853e-24): result may not be accurate.\n",
      "  overwrite_a=True).T\n",
      "c:\\users\\inspiron\\appdata\\local\\programs\\python\\python37\\lib\\site-packages\\sklearn\\linear_model\\_ridge.py:148: LinAlgWarning: Ill-conditioned matrix (rcond=2.63745e-24): result may not be accurate.\n",
      "  overwrite_a=True).T\n",
      "c:\\users\\inspiron\\appdata\\local\\programs\\python\\python37\\lib\\site-packages\\sklearn\\linear_model\\_ridge.py:148: LinAlgWarning: Ill-conditioned matrix (rcond=2.8855e-24): result may not be accurate.\n",
      "  overwrite_a=True).T\n",
      "c:\\users\\inspiron\\appdata\\local\\programs\\python\\python37\\lib\\site-packages\\sklearn\\linear_model\\_ridge.py:148: LinAlgWarning: Ill-conditioned matrix (rcond=3.16556e-24): result may not be accurate.\n",
      "  overwrite_a=True).T\n",
      "c:\\users\\inspiron\\appdata\\local\\programs\\python\\python37\\lib\\site-packages\\sklearn\\linear_model\\_ridge.py:148: LinAlgWarning: Ill-conditioned matrix (rcond=3.4755e-24): result may not be accurate.\n",
      "  overwrite_a=True).T\n",
      "c:\\users\\inspiron\\appdata\\local\\programs\\python\\python37\\lib\\site-packages\\sklearn\\linear_model\\_ridge.py:148: LinAlgWarning: Ill-conditioned matrix (rcond=3.81017e-24): result may not be accurate.\n",
      "  overwrite_a=True).T\n",
      "c:\\users\\inspiron\\appdata\\local\\programs\\python\\python37\\lib\\site-packages\\sklearn\\linear_model\\_ridge.py:148: LinAlgWarning: Ill-conditioned matrix (rcond=4.18459e-24): result may not be accurate.\n",
      "  overwrite_a=True).T\n",
      "c:\\users\\inspiron\\appdata\\local\\programs\\python\\python37\\lib\\site-packages\\sklearn\\linear_model\\_ridge.py:148: LinAlgWarning: Ill-conditioned matrix (rcond=4.59055e-24): result may not be accurate.\n",
      "  overwrite_a=True).T\n",
      "c:\\users\\inspiron\\appdata\\local\\programs\\python\\python37\\lib\\site-packages\\sklearn\\linear_model\\_ridge.py:148: LinAlgWarning: Ill-conditioned matrix (rcond=5.03482e-24): result may not be accurate.\n",
      "  overwrite_a=True).T\n",
      "c:\\users\\inspiron\\appdata\\local\\programs\\python\\python37\\lib\\site-packages\\sklearn\\linear_model\\_ridge.py:148: LinAlgWarning: Ill-conditioned matrix (rcond=5.52162e-24): result may not be accurate.\n",
      "  overwrite_a=True).T\n",
      "c:\\users\\inspiron\\appdata\\local\\programs\\python\\python37\\lib\\site-packages\\sklearn\\linear_model\\_ridge.py:148: LinAlgWarning: Ill-conditioned matrix (rcond=6.05885e-24): result may not be accurate.\n",
      "  overwrite_a=True).T\n"
     ]
    },
    {
     "name": "stderr",
     "output_type": "stream",
     "text": [
      "c:\\users\\inspiron\\appdata\\local\\programs\\python\\python37\\lib\\site-packages\\sklearn\\linear_model\\_ridge.py:148: LinAlgWarning: Ill-conditioned matrix (rcond=6.64663e-24): result may not be accurate.\n",
      "  overwrite_a=True).T\n",
      "c:\\users\\inspiron\\appdata\\local\\programs\\python\\python37\\lib\\site-packages\\sklearn\\linear_model\\_ridge.py:148: LinAlgWarning: Ill-conditioned matrix (rcond=7.29299e-24): result may not be accurate.\n",
      "  overwrite_a=True).T\n",
      "c:\\users\\inspiron\\appdata\\local\\programs\\python\\python37\\lib\\site-packages\\sklearn\\linear_model\\_ridge.py:148: LinAlgWarning: Ill-conditioned matrix (rcond=7.99719e-24): result may not be accurate.\n",
      "  overwrite_a=True).T\n",
      "c:\\users\\inspiron\\appdata\\local\\programs\\python\\python37\\lib\\site-packages\\sklearn\\linear_model\\_ridge.py:148: LinAlgWarning: Ill-conditioned matrix (rcond=8.77391e-24): result may not be accurate.\n",
      "  overwrite_a=True).T\n",
      "c:\\users\\inspiron\\appdata\\local\\programs\\python\\python37\\lib\\site-packages\\sklearn\\linear_model\\_ridge.py:148: LinAlgWarning: Ill-conditioned matrix (rcond=9.62385e-24): result may not be accurate.\n",
      "  overwrite_a=True).T\n",
      "c:\\users\\inspiron\\appdata\\local\\programs\\python\\python37\\lib\\site-packages\\sklearn\\linear_model\\_ridge.py:148: LinAlgWarning: Ill-conditioned matrix (rcond=1.05599e-23): result may not be accurate.\n",
      "  overwrite_a=True).T\n",
      "c:\\users\\inspiron\\appdata\\local\\programs\\python\\python37\\lib\\site-packages\\sklearn\\linear_model\\_ridge.py:148: LinAlgWarning: Ill-conditioned matrix (rcond=1.15822e-23): result may not be accurate.\n",
      "  overwrite_a=True).T\n",
      "c:\\users\\inspiron\\appdata\\local\\programs\\python\\python37\\lib\\site-packages\\sklearn\\linear_model\\_ridge.py:148: LinAlgWarning: Ill-conditioned matrix (rcond=1.27074e-23): result may not be accurate.\n",
      "  overwrite_a=True).T\n",
      "c:\\users\\inspiron\\appdata\\local\\programs\\python\\python37\\lib\\site-packages\\sklearn\\linear_model\\_ridge.py:148: LinAlgWarning: Ill-conditioned matrix (rcond=1.39353e-23): result may not be accurate.\n",
      "  overwrite_a=True).T\n",
      "c:\\users\\inspiron\\appdata\\local\\programs\\python\\python37\\lib\\site-packages\\sklearn\\linear_model\\_ridge.py:148: LinAlgWarning: Ill-conditioned matrix (rcond=1.52873e-23): result may not be accurate.\n",
      "  overwrite_a=True).T\n",
      "c:\\users\\inspiron\\appdata\\local\\programs\\python\\python37\\lib\\site-packages\\sklearn\\linear_model\\_ridge.py:148: LinAlgWarning: Ill-conditioned matrix (rcond=1.67744e-23): result may not be accurate.\n",
      "  overwrite_a=True).T\n",
      "c:\\users\\inspiron\\appdata\\local\\programs\\python\\python37\\lib\\site-packages\\sklearn\\linear_model\\_ridge.py:148: LinAlgWarning: Ill-conditioned matrix (rcond=1.83991e-23): result may not be accurate.\n",
      "  overwrite_a=True).T\n",
      "c:\\users\\inspiron\\appdata\\local\\programs\\python\\python37\\lib\\site-packages\\sklearn\\linear_model\\_ridge.py:148: LinAlgWarning: Ill-conditioned matrix (rcond=2.01789e-23): result may not be accurate.\n",
      "  overwrite_a=True).T\n",
      "c:\\users\\inspiron\\appdata\\local\\programs\\python\\python37\\lib\\site-packages\\sklearn\\linear_model\\_ridge.py:148: LinAlgWarning: Ill-conditioned matrix (rcond=2.21377e-23): result may not be accurate.\n",
      "  overwrite_a=True).T\n",
      "c:\\users\\inspiron\\appdata\\local\\programs\\python\\python37\\lib\\site-packages\\sklearn\\linear_model\\_ridge.py:148: LinAlgWarning: Ill-conditioned matrix (rcond=2.42903e-23): result may not be accurate.\n",
      "  overwrite_a=True).T\n",
      "c:\\users\\inspiron\\appdata\\local\\programs\\python\\python37\\lib\\site-packages\\sklearn\\linear_model\\_ridge.py:148: LinAlgWarning: Ill-conditioned matrix (rcond=2.66437e-23): result may not be accurate.\n",
      "  overwrite_a=True).T\n",
      "c:\\users\\inspiron\\appdata\\local\\programs\\python\\python37\\lib\\site-packages\\sklearn\\linear_model\\_ridge.py:148: LinAlgWarning: Ill-conditioned matrix (rcond=2.92286e-23): result may not be accurate.\n",
      "  overwrite_a=True).T\n",
      "c:\\users\\inspiron\\appdata\\local\\programs\\python\\python37\\lib\\site-packages\\sklearn\\linear_model\\_ridge.py:148: LinAlgWarning: Ill-conditioned matrix (rcond=3.20659e-23): result may not be accurate.\n",
      "  overwrite_a=True).T\n",
      "c:\\users\\inspiron\\appdata\\local\\programs\\python\\python37\\lib\\site-packages\\sklearn\\linear_model\\_ridge.py:148: LinAlgWarning: Ill-conditioned matrix (rcond=3.51738e-23): result may not be accurate.\n",
      "  overwrite_a=True).T\n",
      "c:\\users\\inspiron\\appdata\\local\\programs\\python\\python37\\lib\\site-packages\\sklearn\\linear_model\\_ridge.py:148: LinAlgWarning: Ill-conditioned matrix (rcond=3.85793e-23): result may not be accurate.\n",
      "  overwrite_a=True).T\n",
      "c:\\users\\inspiron\\appdata\\local\\programs\\python\\python37\\lib\\site-packages\\sklearn\\linear_model\\_ridge.py:148: LinAlgWarning: Ill-conditioned matrix (rcond=4.23267e-23): result may not be accurate.\n",
      "  overwrite_a=True).T\n",
      "c:\\users\\inspiron\\appdata\\local\\programs\\python\\python37\\lib\\site-packages\\sklearn\\linear_model\\_ridge.py:148: LinAlgWarning: Ill-conditioned matrix (rcond=4.64286e-23): result may not be accurate.\n",
      "  overwrite_a=True).T\n",
      "c:\\users\\inspiron\\appdata\\local\\programs\\python\\python37\\lib\\site-packages\\sklearn\\linear_model\\_ridge.py:148: LinAlgWarning: Ill-conditioned matrix (rcond=5.0937e-23): result may not be accurate.\n",
      "  overwrite_a=True).T\n",
      "c:\\users\\inspiron\\appdata\\local\\programs\\python\\python37\\lib\\site-packages\\sklearn\\linear_model\\_ridge.py:148: LinAlgWarning: Ill-conditioned matrix (rcond=5.5872e-23): result may not be accurate.\n",
      "  overwrite_a=True).T\n",
      "c:\\users\\inspiron\\appdata\\local\\programs\\python\\python37\\lib\\site-packages\\sklearn\\linear_model\\_ridge.py:148: LinAlgWarning: Ill-conditioned matrix (rcond=6.12911e-23): result may not be accurate.\n",
      "  overwrite_a=True).T\n",
      "c:\\users\\inspiron\\appdata\\local\\programs\\python\\python37\\lib\\site-packages\\sklearn\\linear_model\\_ridge.py:148: LinAlgWarning: Ill-conditioned matrix (rcond=6.7238e-23): result may not be accurate.\n",
      "  overwrite_a=True).T\n",
      "c:\\users\\inspiron\\appdata\\local\\programs\\python\\python37\\lib\\site-packages\\sklearn\\linear_model\\_ridge.py:148: LinAlgWarning: Ill-conditioned matrix (rcond=7.37643e-23): result may not be accurate.\n",
      "  overwrite_a=True).T\n",
      "c:\\users\\inspiron\\appdata\\local\\programs\\python\\python37\\lib\\site-packages\\sklearn\\linear_model\\_ridge.py:148: LinAlgWarning: Ill-conditioned matrix (rcond=8.09109e-23): result may not be accurate.\n",
      "  overwrite_a=True).T\n",
      "c:\\users\\inspiron\\appdata\\local\\programs\\python\\python37\\lib\\site-packages\\sklearn\\linear_model\\_ridge.py:148: LinAlgWarning: Ill-conditioned matrix (rcond=8.87602e-23): result may not be accurate.\n",
      "  overwrite_a=True).T\n",
      "c:\\users\\inspiron\\appdata\\local\\programs\\python\\python37\\lib\\site-packages\\sklearn\\linear_model\\_ridge.py:148: LinAlgWarning: Ill-conditioned matrix (rcond=9.73671e-23): result may not be accurate.\n",
      "  overwrite_a=True).T\n",
      "c:\\users\\inspiron\\appdata\\local\\programs\\python\\python37\\lib\\site-packages\\sklearn\\linear_model\\_ridge.py:148: LinAlgWarning: Ill-conditioned matrix (rcond=1.06814e-22): result may not be accurate.\n",
      "  overwrite_a=True).T\n",
      "c:\\users\\inspiron\\appdata\\local\\programs\\python\\python37\\lib\\site-packages\\sklearn\\linear_model\\_ridge.py:148: LinAlgWarning: Ill-conditioned matrix (rcond=1.17169e-22): result may not be accurate.\n",
      "  overwrite_a=True).T\n",
      "c:\\users\\inspiron\\appdata\\local\\programs\\python\\python37\\lib\\site-packages\\sklearn\\linear_model\\_ridge.py:148: LinAlgWarning: Ill-conditioned matrix (rcond=1.28533e-22): result may not be accurate.\n",
      "  overwrite_a=True).T\n",
      "c:\\users\\inspiron\\appdata\\local\\programs\\python\\python37\\lib\\site-packages\\sklearn\\linear_model\\_ridge.py:148: LinAlgWarning: Ill-conditioned matrix (rcond=1.41e-22): result may not be accurate.\n",
      "  overwrite_a=True).T\n",
      "c:\\users\\inspiron\\appdata\\local\\programs\\python\\python37\\lib\\site-packages\\sklearn\\linear_model\\_ridge.py:148: LinAlgWarning: Ill-conditioned matrix (rcond=1.54677e-22): result may not be accurate.\n",
      "  overwrite_a=True).T\n",
      "c:\\users\\inspiron\\appdata\\local\\programs\\python\\python37\\lib\\site-packages\\sklearn\\linear_model\\_ridge.py:148: LinAlgWarning: Ill-conditioned matrix (rcond=1.69678e-22): result may not be accurate.\n",
      "  overwrite_a=True).T\n",
      "c:\\users\\inspiron\\appdata\\local\\programs\\python\\python37\\lib\\site-packages\\sklearn\\linear_model\\_ridge.py:148: LinAlgWarning: Ill-conditioned matrix (rcond=1.86135e-22): result may not be accurate.\n",
      "  overwrite_a=True).T\n",
      "c:\\users\\inspiron\\appdata\\local\\programs\\python\\python37\\lib\\site-packages\\sklearn\\linear_model\\_ridge.py:148: LinAlgWarning: Ill-conditioned matrix (rcond=2.04184e-22): result may not be accurate.\n",
      "  overwrite_a=True).T\n"
     ]
    },
    {
     "name": "stderr",
     "output_type": "stream",
     "text": [
      "c:\\users\\inspiron\\appdata\\local\\programs\\python\\python37\\lib\\site-packages\\sklearn\\linear_model\\_ridge.py:148: LinAlgWarning: Ill-conditioned matrix (rcond=2.23991e-22): result may not be accurate.\n",
      "  overwrite_a=True).T\n",
      "c:\\users\\inspiron\\appdata\\local\\programs\\python\\python37\\lib\\site-packages\\sklearn\\linear_model\\_ridge.py:148: LinAlgWarning: Ill-conditioned matrix (rcond=2.45711e-22): result may not be accurate.\n",
      "  overwrite_a=True).T\n",
      "c:\\users\\inspiron\\appdata\\local\\programs\\python\\python37\\lib\\site-packages\\sklearn\\linear_model\\_ridge.py:148: LinAlgWarning: Ill-conditioned matrix (rcond=2.69547e-22): result may not be accurate.\n",
      "  overwrite_a=True).T\n",
      "c:\\users\\inspiron\\appdata\\local\\programs\\python\\python37\\lib\\site-packages\\sklearn\\linear_model\\_ridge.py:148: LinAlgWarning: Ill-conditioned matrix (rcond=2.95683e-22): result may not be accurate.\n",
      "  overwrite_a=True).T\n",
      "c:\\users\\inspiron\\appdata\\local\\programs\\python\\python37\\lib\\site-packages\\sklearn\\linear_model\\_ridge.py:148: LinAlgWarning: Ill-conditioned matrix (rcond=3.24366e-22): result may not be accurate.\n",
      "  overwrite_a=True).T\n",
      "c:\\users\\inspiron\\appdata\\local\\programs\\python\\python37\\lib\\site-packages\\sklearn\\linear_model\\_ridge.py:148: LinAlgWarning: Ill-conditioned matrix (rcond=3.55826e-22): result may not be accurate.\n",
      "  overwrite_a=True).T\n",
      "c:\\users\\inspiron\\appdata\\local\\programs\\python\\python37\\lib\\site-packages\\sklearn\\linear_model\\_ridge.py:148: LinAlgWarning: Ill-conditioned matrix (rcond=3.90331e-22): result may not be accurate.\n",
      "  overwrite_a=True).T\n",
      "c:\\users\\inspiron\\appdata\\local\\programs\\python\\python37\\lib\\site-packages\\sklearn\\linear_model\\_ridge.py:148: LinAlgWarning: Ill-conditioned matrix (rcond=4.28187e-22): result may not be accurate.\n",
      "  overwrite_a=True).T\n",
      "c:\\users\\inspiron\\appdata\\local\\programs\\python\\python37\\lib\\site-packages\\sklearn\\linear_model\\_ridge.py:148: LinAlgWarning: Ill-conditioned matrix (rcond=4.69719e-22): result may not be accurate.\n",
      "  overwrite_a=True).T\n",
      "c:\\users\\inspiron\\appdata\\local\\programs\\python\\python37\\lib\\site-packages\\sklearn\\linear_model\\_ridge.py:148: LinAlgWarning: Ill-conditioned matrix (rcond=5.15274e-22): result may not be accurate.\n",
      "  overwrite_a=True).T\n",
      "c:\\users\\inspiron\\appdata\\local\\programs\\python\\python37\\lib\\site-packages\\sklearn\\linear_model\\_ridge.py:148: LinAlgWarning: Ill-conditioned matrix (rcond=5.65247e-22): result may not be accurate.\n",
      "  overwrite_a=True).T\n",
      "c:\\users\\inspiron\\appdata\\local\\programs\\python\\python37\\lib\\site-packages\\sklearn\\linear_model\\_ridge.py:148: LinAlgWarning: Ill-conditioned matrix (rcond=6.20067e-22): result may not be accurate.\n",
      "  overwrite_a=True).T\n",
      "c:\\users\\inspiron\\appdata\\local\\programs\\python\\python37\\lib\\site-packages\\sklearn\\linear_model\\_ridge.py:148: LinAlgWarning: Ill-conditioned matrix (rcond=6.80205e-22): result may not be accurate.\n",
      "  overwrite_a=True).T\n",
      "c:\\users\\inspiron\\appdata\\local\\programs\\python\\python37\\lib\\site-packages\\sklearn\\linear_model\\_ridge.py:148: LinAlgWarning: Ill-conditioned matrix (rcond=7.46176e-22): result may not be accurate.\n",
      "  overwrite_a=True).T\n",
      "c:\\users\\inspiron\\appdata\\local\\programs\\python\\python37\\lib\\site-packages\\sklearn\\linear_model\\_ridge.py:148: LinAlgWarning: Ill-conditioned matrix (rcond=8.18549e-22): result may not be accurate.\n",
      "  overwrite_a=True).T\n",
      "c:\\users\\inspiron\\appdata\\local\\programs\\python\\python37\\lib\\site-packages\\sklearn\\linear_model\\_ridge.py:148: LinAlgWarning: Ill-conditioned matrix (rcond=8.97933e-22): result may not be accurate.\n",
      "  overwrite_a=True).T\n",
      "c:\\users\\inspiron\\appdata\\local\\programs\\python\\python37\\lib\\site-packages\\sklearn\\linear_model\\_ridge.py:148: LinAlgWarning: Ill-conditioned matrix (rcond=9.85018e-22): result may not be accurate.\n",
      "  overwrite_a=True).T\n",
      "c:\\users\\inspiron\\appdata\\local\\programs\\python\\python37\\lib\\site-packages\\sklearn\\linear_model\\_ridge.py:148: LinAlgWarning: Ill-conditioned matrix (rcond=1.08055e-21): result may not be accurate.\n",
      "  overwrite_a=True).T\n",
      "c:\\users\\inspiron\\appdata\\local\\programs\\python\\python37\\lib\\site-packages\\sklearn\\linear_model\\_ridge.py:148: LinAlgWarning: Ill-conditioned matrix (rcond=1.18535e-21): result may not be accurate.\n",
      "  overwrite_a=True).T\n",
      "c:\\users\\inspiron\\appdata\\local\\programs\\python\\python37\\lib\\site-packages\\sklearn\\linear_model\\_ridge.py:148: LinAlgWarning: Ill-conditioned matrix (rcond=1.30031e-21): result may not be accurate.\n",
      "  overwrite_a=True).T\n",
      "c:\\users\\inspiron\\appdata\\local\\programs\\python\\python37\\lib\\site-packages\\sklearn\\linear_model\\_ridge.py:148: LinAlgWarning: Ill-conditioned matrix (rcond=1.42642e-21): result may not be accurate.\n",
      "  overwrite_a=True).T\n",
      "c:\\users\\inspiron\\appdata\\local\\programs\\python\\python37\\lib\\site-packages\\sklearn\\linear_model\\_ridge.py:148: LinAlgWarning: Ill-conditioned matrix (rcond=1.56477e-21): result may not be accurate.\n",
      "  overwrite_a=True).T\n",
      "c:\\users\\inspiron\\appdata\\local\\programs\\python\\python37\\lib\\site-packages\\sklearn\\linear_model\\_ridge.py:148: LinAlgWarning: Ill-conditioned matrix (rcond=1.71652e-21): result may not be accurate.\n",
      "  overwrite_a=True).T\n",
      "c:\\users\\inspiron\\appdata\\local\\programs\\python\\python37\\lib\\site-packages\\sklearn\\linear_model\\_ridge.py:148: LinAlgWarning: Ill-conditioned matrix (rcond=1.88301e-21): result may not be accurate.\n",
      "  overwrite_a=True).T\n",
      "c:\\users\\inspiron\\appdata\\local\\programs\\python\\python37\\lib\\site-packages\\sklearn\\linear_model\\_ridge.py:148: LinAlgWarning: Ill-conditioned matrix (rcond=2.06563e-21): result may not be accurate.\n",
      "  overwrite_a=True).T\n",
      "c:\\users\\inspiron\\appdata\\local\\programs\\python\\python37\\lib\\site-packages\\sklearn\\linear_model\\_ridge.py:148: LinAlgWarning: Ill-conditioned matrix (rcond=2.26597e-21): result may not be accurate.\n",
      "  overwrite_a=True).T\n",
      "c:\\users\\inspiron\\appdata\\local\\programs\\python\\python37\\lib\\site-packages\\sklearn\\linear_model\\_ridge.py:148: LinAlgWarning: Ill-conditioned matrix (rcond=2.48574e-21): result may not be accurate.\n",
      "  overwrite_a=True).T\n",
      "c:\\users\\inspiron\\appdata\\local\\programs\\python\\python37\\lib\\site-packages\\sklearn\\linear_model\\_ridge.py:148: LinAlgWarning: Ill-conditioned matrix (rcond=2.72682e-21): result may not be accurate.\n",
      "  overwrite_a=True).T\n",
      "c:\\users\\inspiron\\appdata\\local\\programs\\python\\python37\\lib\\site-packages\\sklearn\\linear_model\\_ridge.py:148: LinAlgWarning: Ill-conditioned matrix (rcond=2.99128e-21): result may not be accurate.\n",
      "  overwrite_a=True).T\n",
      "c:\\users\\inspiron\\appdata\\local\\programs\\python\\python37\\lib\\site-packages\\sklearn\\linear_model\\_ridge.py:148: LinAlgWarning: Ill-conditioned matrix (rcond=3.28139e-21): result may not be accurate.\n",
      "  overwrite_a=True).T\n",
      "c:\\users\\inspiron\\appdata\\local\\programs\\python\\python37\\lib\\site-packages\\sklearn\\linear_model\\_ridge.py:148: LinAlgWarning: Ill-conditioned matrix (rcond=3.59964e-21): result may not be accurate.\n",
      "  overwrite_a=True).T\n",
      "c:\\users\\inspiron\\appdata\\local\\programs\\python\\python37\\lib\\site-packages\\sklearn\\linear_model\\_ridge.py:148: LinAlgWarning: Ill-conditioned matrix (rcond=3.94875e-21): result may not be accurate.\n",
      "  overwrite_a=True).T\n",
      "c:\\users\\inspiron\\appdata\\local\\programs\\python\\python37\\lib\\site-packages\\sklearn\\linear_model\\_ridge.py:148: LinAlgWarning: Ill-conditioned matrix (rcond=4.33173e-21): result may not be accurate.\n",
      "  overwrite_a=True).T\n",
      "c:\\users\\inspiron\\appdata\\local\\programs\\python\\python37\\lib\\site-packages\\sklearn\\linear_model\\_ridge.py:148: LinAlgWarning: Ill-conditioned matrix (rcond=4.75184e-21): result may not be accurate.\n",
      "  overwrite_a=True).T\n",
      "c:\\users\\inspiron\\appdata\\local\\programs\\python\\python37\\lib\\site-packages\\sklearn\\linear_model\\_ridge.py:148: LinAlgWarning: Ill-conditioned matrix (rcond=5.2127e-21): result may not be accurate.\n",
      "  overwrite_a=True).T\n",
      "c:\\users\\inspiron\\appdata\\local\\programs\\python\\python37\\lib\\site-packages\\sklearn\\linear_model\\_ridge.py:148: LinAlgWarning: Ill-conditioned matrix (rcond=5.71826e-21): result may not be accurate.\n",
      "  overwrite_a=True).T\n",
      "c:\\users\\inspiron\\appdata\\local\\programs\\python\\python37\\lib\\site-packages\\sklearn\\linear_model\\_ridge.py:148: LinAlgWarning: Ill-conditioned matrix (rcond=6.27285e-21): result may not be accurate.\n",
      "  overwrite_a=True).T\n",
      "c:\\users\\inspiron\\appdata\\local\\programs\\python\\python37\\lib\\site-packages\\sklearn\\linear_model\\_ridge.py:148: LinAlgWarning: Ill-conditioned matrix (rcond=6.88123e-21): result may not be accurate.\n",
      "  overwrite_a=True).T\n"
     ]
    },
    {
     "name": "stderr",
     "output_type": "stream",
     "text": [
      "c:\\users\\inspiron\\appdata\\local\\programs\\python\\python37\\lib\\site-packages\\sklearn\\linear_model\\_ridge.py:148: LinAlgWarning: Ill-conditioned matrix (rcond=7.54861e-21): result may not be accurate.\n",
      "  overwrite_a=True).T\n",
      "c:\\users\\inspiron\\appdata\\local\\programs\\python\\python37\\lib\\site-packages\\sklearn\\linear_model\\_ridge.py:148: LinAlgWarning: Ill-conditioned matrix (rcond=8.28071e-21): result may not be accurate.\n",
      "  overwrite_a=True).T\n",
      "c:\\users\\inspiron\\appdata\\local\\programs\\python\\python37\\lib\\site-packages\\sklearn\\linear_model\\_ridge.py:148: LinAlgWarning: Ill-conditioned matrix (rcond=9.08383e-21): result may not be accurate.\n",
      "  overwrite_a=True).T\n",
      "c:\\users\\inspiron\\appdata\\local\\programs\\python\\python37\\lib\\site-packages\\sklearn\\linear_model\\_ridge.py:148: LinAlgWarning: Ill-conditioned matrix (rcond=9.96483e-21): result may not be accurate.\n",
      "  overwrite_a=True).T\n",
      "c:\\users\\inspiron\\appdata\\local\\programs\\python\\python37\\lib\\site-packages\\sklearn\\linear_model\\_ridge.py:148: LinAlgWarning: Ill-conditioned matrix (rcond=1.09313e-20): result may not be accurate.\n",
      "  overwrite_a=True).T\n",
      "c:\\users\\inspiron\\appdata\\local\\programs\\python\\python37\\lib\\site-packages\\sklearn\\linear_model\\_ridge.py:148: LinAlgWarning: Ill-conditioned matrix (rcond=1.19915e-20): result may not be accurate.\n",
      "  overwrite_a=True).T\n",
      "c:\\users\\inspiron\\appdata\\local\\programs\\python\\python37\\lib\\site-packages\\sklearn\\linear_model\\_ridge.py:148: LinAlgWarning: Ill-conditioned matrix (rcond=1.31545e-20): result may not be accurate.\n",
      "  overwrite_a=True).T\n",
      "c:\\users\\inspiron\\appdata\\local\\programs\\python\\python37\\lib\\site-packages\\sklearn\\linear_model\\_ridge.py:148: LinAlgWarning: Ill-conditioned matrix (rcond=1.44303e-20): result may not be accurate.\n",
      "  overwrite_a=True).T\n",
      "c:\\users\\inspiron\\appdata\\local\\programs\\python\\python37\\lib\\site-packages\\sklearn\\linear_model\\_ridge.py:148: LinAlgWarning: Ill-conditioned matrix (rcond=1.58298e-20): result may not be accurate.\n",
      "  overwrite_a=True).T\n",
      "c:\\users\\inspiron\\appdata\\local\\programs\\python\\python37\\lib\\site-packages\\sklearn\\linear_model\\_ridge.py:148: LinAlgWarning: Ill-conditioned matrix (rcond=1.7365e-20): result may not be accurate.\n",
      "  overwrite_a=True).T\n",
      "c:\\users\\inspiron\\appdata\\local\\programs\\python\\python37\\lib\\site-packages\\sklearn\\linear_model\\_ridge.py:148: LinAlgWarning: Ill-conditioned matrix (rcond=1.90492e-20): result may not be accurate.\n",
      "  overwrite_a=True).T\n",
      "c:\\users\\inspiron\\appdata\\local\\programs\\python\\python37\\lib\\site-packages\\sklearn\\linear_model\\_ridge.py:148: LinAlgWarning: Ill-conditioned matrix (rcond=2.08967e-20): result may not be accurate.\n",
      "  overwrite_a=True).T\n",
      "c:\\users\\inspiron\\appdata\\local\\programs\\python\\python37\\lib\\site-packages\\sklearn\\linear_model\\_ridge.py:148: LinAlgWarning: Ill-conditioned matrix (rcond=2.29234e-20): result may not be accurate.\n",
      "  overwrite_a=True).T\n",
      "c:\\users\\inspiron\\appdata\\local\\programs\\python\\python37\\lib\\site-packages\\sklearn\\linear_model\\_ridge.py:148: LinAlgWarning: Ill-conditioned matrix (rcond=2.51466e-20): result may not be accurate.\n",
      "  overwrite_a=True).T\n",
      "c:\\users\\inspiron\\appdata\\local\\programs\\python\\python37\\lib\\site-packages\\sklearn\\linear_model\\_ridge.py:148: LinAlgWarning: Ill-conditioned matrix (rcond=2.75855e-20): result may not be accurate.\n",
      "  overwrite_a=True).T\n",
      "c:\\users\\inspiron\\appdata\\local\\programs\\python\\python37\\lib\\site-packages\\sklearn\\linear_model\\_ridge.py:148: LinAlgWarning: Ill-conditioned matrix (rcond=3.02609e-20): result may not be accurate.\n",
      "  overwrite_a=True).T\n",
      "c:\\users\\inspiron\\appdata\\local\\programs\\python\\python37\\lib\\site-packages\\sklearn\\linear_model\\_ridge.py:148: LinAlgWarning: Ill-conditioned matrix (rcond=3.31958e-20): result may not be accurate.\n",
      "  overwrite_a=True).T\n",
      "c:\\users\\inspiron\\appdata\\local\\programs\\python\\python37\\lib\\site-packages\\sklearn\\linear_model\\_ridge.py:148: LinAlgWarning: Ill-conditioned matrix (rcond=3.64153e-20): result may not be accurate.\n",
      "  overwrite_a=True).T\n",
      "c:\\users\\inspiron\\appdata\\local\\programs\\python\\python37\\lib\\site-packages\\sklearn\\linear_model\\_ridge.py:148: LinAlgWarning: Ill-conditioned matrix (rcond=3.99471e-20): result may not be accurate.\n",
      "  overwrite_a=True).T\n",
      "c:\\users\\inspiron\\appdata\\local\\programs\\python\\python37\\lib\\site-packages\\sklearn\\linear_model\\_ridge.py:148: LinAlgWarning: Ill-conditioned matrix (rcond=4.38214e-20): result may not be accurate.\n",
      "  overwrite_a=True).T\n",
      "c:\\users\\inspiron\\appdata\\local\\programs\\python\\python37\\lib\\site-packages\\sklearn\\linear_model\\_ridge.py:148: LinAlgWarning: Ill-conditioned matrix (rcond=4.80714e-20): result may not be accurate.\n",
      "  overwrite_a=True).T\n",
      "c:\\users\\inspiron\\appdata\\local\\programs\\python\\python37\\lib\\site-packages\\sklearn\\linear_model\\_ridge.py:148: LinAlgWarning: Ill-conditioned matrix (rcond=5.27337e-20): result may not be accurate.\n",
      "  overwrite_a=True).T\n",
      "c:\\users\\inspiron\\appdata\\local\\programs\\python\\python37\\lib\\site-packages\\sklearn\\linear_model\\_ridge.py:148: LinAlgWarning: Ill-conditioned matrix (rcond=5.78481e-20): result may not be accurate.\n",
      "  overwrite_a=True).T\n",
      "c:\\users\\inspiron\\appdata\\local\\programs\\python\\python37\\lib\\site-packages\\sklearn\\linear_model\\_ridge.py:148: LinAlgWarning: Ill-conditioned matrix (rcond=6.34585e-20): result may not be accurate.\n",
      "  overwrite_a=True).T\n",
      "c:\\users\\inspiron\\appdata\\local\\programs\\python\\python37\\lib\\site-packages\\sklearn\\linear_model\\_ridge.py:148: LinAlgWarning: Ill-conditioned matrix (rcond=6.96131e-20): result may not be accurate.\n",
      "  overwrite_a=True).T\n",
      "c:\\users\\inspiron\\appdata\\local\\programs\\python\\python37\\lib\\site-packages\\sklearn\\linear_model\\_ridge.py:148: LinAlgWarning: Ill-conditioned matrix (rcond=7.63646e-20): result may not be accurate.\n",
      "  overwrite_a=True).T\n",
      "c:\\users\\inspiron\\appdata\\local\\programs\\python\\python37\\lib\\site-packages\\sklearn\\linear_model\\_ridge.py:148: LinAlgWarning: Ill-conditioned matrix (rcond=8.37709e-20): result may not be accurate.\n",
      "  overwrite_a=True).T\n",
      "c:\\users\\inspiron\\appdata\\local\\programs\\python\\python37\\lib\\site-packages\\sklearn\\linear_model\\_ridge.py:148: LinAlgWarning: Ill-conditioned matrix (rcond=9.18955e-20): result may not be accurate.\n",
      "  overwrite_a=True).T\n",
      "c:\\users\\inspiron\\appdata\\local\\programs\\python\\python37\\lib\\site-packages\\sklearn\\linear_model\\_ridge.py:148: LinAlgWarning: Ill-conditioned matrix (rcond=1.00808e-19): result may not be accurate.\n",
      "  overwrite_a=True).T\n",
      "c:\\users\\inspiron\\appdata\\local\\programs\\python\\python37\\lib\\site-packages\\sklearn\\linear_model\\_ridge.py:148: LinAlgWarning: Ill-conditioned matrix (rcond=1.10585e-19): result may not be accurate.\n",
      "  overwrite_a=True).T\n",
      "c:\\users\\inspiron\\appdata\\local\\programs\\python\\python37\\lib\\site-packages\\sklearn\\linear_model\\_ridge.py:148: LinAlgWarning: Ill-conditioned matrix (rcond=1.2131e-19): result may not be accurate.\n",
      "  overwrite_a=True).T\n",
      "c:\\users\\inspiron\\appdata\\local\\programs\\python\\python37\\lib\\site-packages\\sklearn\\linear_model\\_ridge.py:148: LinAlgWarning: Ill-conditioned matrix (rcond=1.33075e-19): result may not be accurate.\n",
      "  overwrite_a=True).T\n",
      "c:\\users\\inspiron\\appdata\\local\\programs\\python\\python37\\lib\\site-packages\\sklearn\\linear_model\\_ridge.py:148: LinAlgWarning: Ill-conditioned matrix (rcond=1.45982e-19): result may not be accurate.\n",
      "  overwrite_a=True).T\n",
      "c:\\users\\inspiron\\appdata\\local\\programs\\python\\python37\\lib\\site-packages\\sklearn\\linear_model\\_ridge.py:148: LinAlgWarning: Ill-conditioned matrix (rcond=1.6014e-19): result may not be accurate.\n",
      "  overwrite_a=True).T\n",
      "c:\\users\\inspiron\\appdata\\local\\programs\\python\\python37\\lib\\site-packages\\sklearn\\linear_model\\_ridge.py:148: LinAlgWarning: Ill-conditioned matrix (rcond=1.75671e-19): result may not be accurate.\n",
      "  overwrite_a=True).T\n",
      "c:\\users\\inspiron\\appdata\\local\\programs\\python\\python37\\lib\\site-packages\\sklearn\\linear_model\\_ridge.py:148: LinAlgWarning: Ill-conditioned matrix (rcond=1.92709e-19): result may not be accurate.\n",
      "  overwrite_a=True).T\n",
      "c:\\users\\inspiron\\appdata\\local\\programs\\python\\python37\\lib\\site-packages\\sklearn\\linear_model\\_ridge.py:148: LinAlgWarning: Ill-conditioned matrix (rcond=2.11399e-19): result may not be accurate.\n",
      "  overwrite_a=True).T\n",
      "c:\\users\\inspiron\\appdata\\local\\programs\\python\\python37\\lib\\site-packages\\sklearn\\linear_model\\_ridge.py:148: LinAlgWarning: Ill-conditioned matrix (rcond=2.31902e-19): result may not be accurate.\n",
      "  overwrite_a=True).T\n"
     ]
    },
    {
     "name": "stderr",
     "output_type": "stream",
     "text": [
      "c:\\users\\inspiron\\appdata\\local\\programs\\python\\python37\\lib\\site-packages\\sklearn\\linear_model\\_ridge.py:148: LinAlgWarning: Ill-conditioned matrix (rcond=2.54393e-19): result may not be accurate.\n",
      "  overwrite_a=True).T\n",
      "c:\\users\\inspiron\\appdata\\local\\programs\\python\\python37\\lib\\site-packages\\sklearn\\linear_model\\_ridge.py:148: LinAlgWarning: Ill-conditioned matrix (rcond=2.79065e-19): result may not be accurate.\n",
      "  overwrite_a=True).T\n",
      "c:\\users\\inspiron\\appdata\\local\\programs\\python\\python37\\lib\\site-packages\\sklearn\\linear_model\\_ridge.py:148: LinAlgWarning: Ill-conditioned matrix (rcond=3.06131e-19): result may not be accurate.\n",
      "  overwrite_a=True).T\n",
      "c:\\users\\inspiron\\appdata\\local\\programs\\python\\python37\\lib\\site-packages\\sklearn\\linear_model\\_ridge.py:148: LinAlgWarning: Ill-conditioned matrix (rcond=3.35821e-19): result may not be accurate.\n",
      "  overwrite_a=True).T\n",
      "c:\\users\\inspiron\\appdata\\local\\programs\\python\\python37\\lib\\site-packages\\sklearn\\linear_model\\_ridge.py:148: LinAlgWarning: Ill-conditioned matrix (rcond=3.68391e-19): result may not be accurate.\n",
      "  overwrite_a=True).T\n",
      "c:\\users\\inspiron\\appdata\\local\\programs\\python\\python37\\lib\\site-packages\\sklearn\\linear_model\\_ridge.py:148: LinAlgWarning: Ill-conditioned matrix (rcond=4.0412e-19): result may not be accurate.\n",
      "  overwrite_a=True).T\n",
      "c:\\users\\inspiron\\appdata\\local\\programs\\python\\python37\\lib\\site-packages\\sklearn\\linear_model\\_ridge.py:148: LinAlgWarning: Ill-conditioned matrix (rcond=4.43314e-19): result may not be accurate.\n",
      "  overwrite_a=True).T\n",
      "c:\\users\\inspiron\\appdata\\local\\programs\\python\\python37\\lib\\site-packages\\sklearn\\linear_model\\_ridge.py:148: LinAlgWarning: Ill-conditioned matrix (rcond=4.86309e-19): result may not be accurate.\n",
      "  overwrite_a=True).T\n",
      "c:\\users\\inspiron\\appdata\\local\\programs\\python\\python37\\lib\\site-packages\\sklearn\\linear_model\\_ridge.py:148: LinAlgWarning: Ill-conditioned matrix (rcond=5.33474e-19): result may not be accurate.\n",
      "  overwrite_a=True).T\n",
      "c:\\users\\inspiron\\appdata\\local\\programs\\python\\python37\\lib\\site-packages\\sklearn\\linear_model\\_ridge.py:148: LinAlgWarning: Ill-conditioned matrix (rcond=5.85213e-19): result may not be accurate.\n",
      "  overwrite_a=True).T\n",
      "c:\\users\\inspiron\\appdata\\local\\programs\\python\\python37\\lib\\site-packages\\sklearn\\linear_model\\_ridge.py:148: LinAlgWarning: Ill-conditioned matrix (rcond=6.4197e-19): result may not be accurate.\n",
      "  overwrite_a=True).T\n",
      "c:\\users\\inspiron\\appdata\\local\\programs\\python\\python37\\lib\\site-packages\\sklearn\\linear_model\\_ridge.py:148: LinAlgWarning: Ill-conditioned matrix (rcond=7.04232e-19): result may not be accurate.\n",
      "  overwrite_a=True).T\n",
      "c:\\users\\inspiron\\appdata\\local\\programs\\python\\python37\\lib\\site-packages\\sklearn\\linear_model\\_ridge.py:148: LinAlgWarning: Ill-conditioned matrix (rcond=7.72533e-19): result may not be accurate.\n",
      "  overwrite_a=True).T\n",
      "c:\\users\\inspiron\\appdata\\local\\programs\\python\\python37\\lib\\site-packages\\sklearn\\linear_model\\_ridge.py:148: LinAlgWarning: Ill-conditioned matrix (rcond=8.47457e-19): result may not be accurate.\n",
      "  overwrite_a=True).T\n",
      "c:\\users\\inspiron\\appdata\\local\\programs\\python\\python37\\lib\\site-packages\\sklearn\\linear_model\\_ridge.py:148: LinAlgWarning: Ill-conditioned matrix (rcond=9.29649e-19): result may not be accurate.\n",
      "  overwrite_a=True).T\n",
      "c:\\users\\inspiron\\appdata\\local\\programs\\python\\python37\\lib\\site-packages\\sklearn\\linear_model\\_ridge.py:148: LinAlgWarning: Ill-conditioned matrix (rcond=1.01981e-18): result may not be accurate.\n",
      "  overwrite_a=True).T\n",
      "c:\\users\\inspiron\\appdata\\local\\programs\\python\\python37\\lib\\site-packages\\sklearn\\linear_model\\_ridge.py:148: LinAlgWarning: Ill-conditioned matrix (rcond=1.11872e-18): result may not be accurate.\n",
      "  overwrite_a=True).T\n",
      "c:\\users\\inspiron\\appdata\\local\\programs\\python\\python37\\lib\\site-packages\\sklearn\\linear_model\\_ridge.py:148: LinAlgWarning: Ill-conditioned matrix (rcond=1.22722e-18): result may not be accurate.\n",
      "  overwrite_a=True).T\n",
      "c:\\users\\inspiron\\appdata\\local\\programs\\python\\python37\\lib\\site-packages\\sklearn\\linear_model\\_ridge.py:148: LinAlgWarning: Ill-conditioned matrix (rcond=1.34624e-18): result may not be accurate.\n",
      "  overwrite_a=True).T\n",
      "c:\\users\\inspiron\\appdata\\local\\programs\\python\\python37\\lib\\site-packages\\sklearn\\linear_model\\_ridge.py:148: LinAlgWarning: Ill-conditioned matrix (rcond=1.47681e-18): result may not be accurate.\n",
      "  overwrite_a=True).T\n",
      "c:\\users\\inspiron\\appdata\\local\\programs\\python\\python37\\lib\\site-packages\\sklearn\\linear_model\\_ridge.py:148: LinAlgWarning: Ill-conditioned matrix (rcond=1.62004e-18): result may not be accurate.\n",
      "  overwrite_a=True).T\n",
      "c:\\users\\inspiron\\appdata\\local\\programs\\python\\python37\\lib\\site-packages\\sklearn\\linear_model\\_ridge.py:148: LinAlgWarning: Ill-conditioned matrix (rcond=1.77716e-18): result may not be accurate.\n",
      "  overwrite_a=True).T\n",
      "c:\\users\\inspiron\\appdata\\local\\programs\\python\\python37\\lib\\site-packages\\sklearn\\linear_model\\_ridge.py:148: LinAlgWarning: Ill-conditioned matrix (rcond=1.94951e-18): result may not be accurate.\n",
      "  overwrite_a=True).T\n",
      "c:\\users\\inspiron\\appdata\\local\\programs\\python\\python37\\lib\\site-packages\\sklearn\\linear_model\\_ridge.py:148: LinAlgWarning: Ill-conditioned matrix (rcond=2.13859e-18): result may not be accurate.\n",
      "  overwrite_a=True).T\n",
      "c:\\users\\inspiron\\appdata\\local\\programs\\python\\python37\\lib\\site-packages\\sklearn\\linear_model\\_ridge.py:148: LinAlgWarning: Ill-conditioned matrix (rcond=2.346e-18): result may not be accurate.\n",
      "  overwrite_a=True).T\n",
      "c:\\users\\inspiron\\appdata\\local\\programs\\python\\python37\\lib\\site-packages\\sklearn\\linear_model\\_ridge.py:148: LinAlgWarning: Ill-conditioned matrix (rcond=2.57353e-18): result may not be accurate.\n",
      "  overwrite_a=True).T\n",
      "c:\\users\\inspiron\\appdata\\local\\programs\\python\\python37\\lib\\site-packages\\sklearn\\linear_model\\_ridge.py:148: LinAlgWarning: Ill-conditioned matrix (rcond=2.82312e-18): result may not be accurate.\n",
      "  overwrite_a=True).T\n",
      "c:\\users\\inspiron\\appdata\\local\\programs\\python\\python37\\lib\\site-packages\\sklearn\\linear_model\\_ridge.py:148: LinAlgWarning: Ill-conditioned matrix (rcond=3.09693e-18): result may not be accurate.\n",
      "  overwrite_a=True).T\n",
      "c:\\users\\inspiron\\appdata\\local\\programs\\python\\python37\\lib\\site-packages\\sklearn\\linear_model\\_ridge.py:148: LinAlgWarning: Ill-conditioned matrix (rcond=3.39728e-18): result may not be accurate.\n",
      "  overwrite_a=True).T\n",
      "c:\\users\\inspiron\\appdata\\local\\programs\\python\\python37\\lib\\site-packages\\sklearn\\linear_model\\_ridge.py:148: LinAlgWarning: Ill-conditioned matrix (rcond=3.72677e-18): result may not be accurate.\n",
      "  overwrite_a=True).T\n",
      "c:\\users\\inspiron\\appdata\\local\\programs\\python\\python37\\lib\\site-packages\\sklearn\\linear_model\\_ridge.py:148: LinAlgWarning: Ill-conditioned matrix (rcond=4.08821e-18): result may not be accurate.\n",
      "  overwrite_a=True).T\n",
      "c:\\users\\inspiron\\appdata\\local\\programs\\python\\python37\\lib\\site-packages\\sklearn\\linear_model\\_ridge.py:148: LinAlgWarning: Ill-conditioned matrix (rcond=4.48471e-18): result may not be accurate.\n",
      "  overwrite_a=True).T\n",
      "c:\\users\\inspiron\\appdata\\local\\programs\\python\\python37\\lib\\site-packages\\sklearn\\linear_model\\_ridge.py:148: LinAlgWarning: Ill-conditioned matrix (rcond=4.91966e-18): result may not be accurate.\n",
      "  overwrite_a=True).T\n",
      "c:\\users\\inspiron\\appdata\\local\\programs\\python\\python37\\lib\\site-packages\\sklearn\\linear_model\\_ridge.py:148: LinAlgWarning: Ill-conditioned matrix (rcond=5.3968e-18): result may not be accurate.\n",
      "  overwrite_a=True).T\n",
      "c:\\users\\inspiron\\appdata\\local\\programs\\python\\python37\\lib\\site-packages\\sklearn\\linear_model\\_ridge.py:148: LinAlgWarning: Ill-conditioned matrix (rcond=5.9202e-18): result may not be accurate.\n",
      "  overwrite_a=True).T\n",
      "c:\\users\\inspiron\\appdata\\local\\programs\\python\\python37\\lib\\site-packages\\sklearn\\linear_model\\_ridge.py:148: LinAlgWarning: Ill-conditioned matrix (rcond=6.49438e-18): result may not be accurate.\n",
      "  overwrite_a=True).T\n",
      "c:\\users\\inspiron\\appdata\\local\\programs\\python\\python37\\lib\\site-packages\\sklearn\\linear_model\\_ridge.py:148: LinAlgWarning: Ill-conditioned matrix (rcond=7.12423e-18): result may not be accurate.\n",
      "  overwrite_a=True).T\n",
      "c:\\users\\inspiron\\appdata\\local\\programs\\python\\python37\\lib\\site-packages\\sklearn\\linear_model\\_ridge.py:148: LinAlgWarning: Ill-conditioned matrix (rcond=7.81518e-18): result may not be accurate.\n",
      "  overwrite_a=True).T\n"
     ]
    },
    {
     "name": "stderr",
     "output_type": "stream",
     "text": [
      "c:\\users\\inspiron\\appdata\\local\\programs\\python\\python37\\lib\\site-packages\\sklearn\\linear_model\\_ridge.py:148: LinAlgWarning: Ill-conditioned matrix (rcond=8.57313e-18): result may not be accurate.\n",
      "  overwrite_a=True).T\n",
      "c:\\users\\inspiron\\appdata\\local\\programs\\python\\python37\\lib\\site-packages\\sklearn\\linear_model\\_ridge.py:148: LinAlgWarning: Ill-conditioned matrix (rcond=9.4046e-18): result may not be accurate.\n",
      "  overwrite_a=True).T\n",
      "c:\\users\\inspiron\\appdata\\local\\programs\\python\\python37\\lib\\site-packages\\sklearn\\linear_model\\_ridge.py:148: LinAlgWarning: Ill-conditioned matrix (rcond=1.03167e-17): result may not be accurate.\n",
      "  overwrite_a=True).T\n",
      "c:\\users\\inspiron\\appdata\\local\\programs\\python\\python37\\lib\\site-packages\\sklearn\\linear_model\\_ridge.py:148: LinAlgWarning: Ill-conditioned matrix (rcond=1.13173e-17): result may not be accurate.\n",
      "  overwrite_a=True).T\n",
      "c:\\users\\inspiron\\appdata\\local\\programs\\python\\python37\\lib\\site-packages\\sklearn\\linear_model\\_ridge.py:148: LinAlgWarning: Ill-conditioned matrix (rcond=1.24149e-17): result may not be accurate.\n",
      "  overwrite_a=True).T\n",
      "c:\\users\\inspiron\\appdata\\local\\programs\\python\\python37\\lib\\site-packages\\sklearn\\linear_model\\_ridge.py:148: LinAlgWarning: Ill-conditioned matrix (rcond=1.36189e-17): result may not be accurate.\n",
      "  overwrite_a=True).T\n",
      "c:\\users\\inspiron\\appdata\\local\\programs\\python\\python37\\lib\\site-packages\\sklearn\\linear_model\\_ridge.py:148: LinAlgWarning: Ill-conditioned matrix (rcond=1.49397e-17): result may not be accurate.\n",
      "  overwrite_a=True).T\n",
      "c:\\users\\inspiron\\appdata\\local\\programs\\python\\python37\\lib\\site-packages\\sklearn\\linear_model\\_ridge.py:148: LinAlgWarning: Ill-conditioned matrix (rcond=1.63886e-17): result may not be accurate.\n",
      "  overwrite_a=True).T\n",
      "c:\\users\\inspiron\\appdata\\local\\programs\\python\\python37\\lib\\site-packages\\sklearn\\linear_model\\_ridge.py:148: LinAlgWarning: Ill-conditioned matrix (rcond=1.79781e-17): result may not be accurate.\n",
      "  overwrite_a=True).T\n",
      "c:\\users\\inspiron\\appdata\\local\\programs\\python\\python37\\lib\\site-packages\\sklearn\\linear_model\\_ridge.py:148: LinAlgWarning: Ill-conditioned matrix (rcond=1.97217e-17): result may not be accurate.\n",
      "  overwrite_a=True).T\n"
     ]
    },
    {
     "data": {
      "text/plain": [
       "(0.025118864315095794,\n",
       " 3.9810717055349695e-11,\n",
       " -0.2294903377930254,\n",
       " 0.13893041045974475)"
      ]
     },
     "execution_count": 98,
     "metadata": {},
     "output_type": "execute_result"
    },
    {
     "data": {
      "image/png": "[encoded data removed]",
      "text/plain": [
       "<Figure size 432x288 with 1 Axes>"
      ]
     },
     "metadata": {
      "needs_background": "light"
     },
     "output_type": "display_data"
    }
   ],
   "source": [
    "import numpy as np\n",
    "import matplotlib.pyplot as plt\n",
    "from sklearn import linear_model\n",
    "# X es la 10x10 matrix de Hilbert\n",
    "X = data3\n",
    "y = data2[\"hospital_death\"]\n",
    "n_alphas = 200\n",
    "alphas = np.logspace(-10, -2, n_alphas)\n",
    "coefs = []\n",
    "for a in alphas: \n",
    "    ridge = linear_model.Ridge(alpha=a, fit_intercept=False)\n",
    "    ridge.fit(X, y)\n",
    "    coefs.append(ridge.coef_)\n",
    "# mostramos resultados\n",
    "ax = plt.gca()\n",
    "ax.plot(alphas, coefs)\n",
    "ax.set_xscale('log')\n",
    "ax.set_xlim(ax.get_xlim()[::-1]) # reverse axis\n",
    "plt.xlabel('alpha')\n",
    "plt.ylabel('weights')\n",
    "plt.title('Coeficientes de cresta en función de la regularización')\n",
    "plt.axis('tight')\n"
   ]
  },
  {
   "cell_type": "markdown",
   "metadata": {},
   "source": [
    "### otro metodo de regularizacion"
   ]
  },
  {
   "cell_type": "code",
   "execution_count": 150,
   "metadata": {},
   "outputs": [],
   "source": [
    "from sklearn import datasets\n",
    "import numpy as np\n",
    "X = data3\n",
    "y = data2[\"hospital_death\"]\n",
    "\n",
    "from sklearn.model_selection import train_test_split\n",
    "X_train, X_test, y_train, y_test = train_test_split(X, y, test_size=0.3, random_state=0)\n",
    "\n",
    "from sklearn.preprocessing import StandardScaler\n",
    "sc = StandardScaler()\n",
    "sc.fit(X_train)\n",
    "X_train_std = sc.transform(X_train)\n",
    "X_test_std = sc.transform(X_test)\n"
   ]
  },
  {
   "cell_type": "code",
   "execution_count": 160,
   "metadata": {},
   "outputs": [
    {
     "name": "stderr",
     "output_type": "stream",
     "text": [
      "c:\\users\\inspiron\\appdata\\local\\programs\\python\\python37\\lib\\site-packages\\sklearn\\linear_model\\_logistic.py:939: ConvergenceWarning: lbfgs failed to converge (status=1):\n",
      "STOP: TOTAL NO. of ITERATIONS REACHED LIMIT.\n",
      "\n",
      "Increase the number of iterations (max_iter) or scale the data as shown in:\n",
      "    https://scikit-learn.org/stable/modules/preprocessing.html.\n",
      "Please also refer to the documentation for alternative solver options:\n",
      "    https://scikit-learn.org/stable/modules/linear_model.html#logistic-regression\n",
      "  extra_warning_msg=_LOGISTIC_SOLVER_CONVERGENCE_MSG)\n",
      "c:\\users\\inspiron\\appdata\\local\\programs\\python\\python37\\lib\\site-packages\\sklearn\\linear_model\\_logistic.py:939: ConvergenceWarning: lbfgs failed to converge (status=1):\n",
      "STOP: TOTAL NO. of ITERATIONS REACHED LIMIT.\n",
      "\n",
      "Increase the number of iterations (max_iter) or scale the data as shown in:\n",
      "    https://scikit-learn.org/stable/modules/preprocessing.html.\n",
      "Please also refer to the documentation for alternative solver options:\n",
      "    https://scikit-learn.org/stable/modules/linear_model.html#logistic-regression\n",
      "  extra_warning_msg=_LOGISTIC_SOLVER_CONVERGENCE_MSG)\n",
      "c:\\users\\inspiron\\appdata\\local\\programs\\python\\python37\\lib\\site-packages\\sklearn\\linear_model\\_logistic.py:939: ConvergenceWarning: lbfgs failed to converge (status=1):\n",
      "STOP: TOTAL NO. of ITERATIONS REACHED LIMIT.\n",
      "\n",
      "Increase the number of iterations (max_iter) or scale the data as shown in:\n",
      "    https://scikit-learn.org/stable/modules/preprocessing.html.\n",
      "Please also refer to the documentation for alternative solver options:\n",
      "    https://scikit-learn.org/stable/modules/linear_model.html#logistic-regression\n",
      "  extra_warning_msg=_LOGISTIC_SOLVER_CONVERGENCE_MSG)\n",
      "c:\\users\\inspiron\\appdata\\local\\programs\\python\\python37\\lib\\site-packages\\sklearn\\linear_model\\_logistic.py:939: ConvergenceWarning: lbfgs failed to converge (status=1):\n",
      "STOP: TOTAL NO. of ITERATIONS REACHED LIMIT.\n",
      "\n",
      "Increase the number of iterations (max_iter) or scale the data as shown in:\n",
      "    https://scikit-learn.org/stable/modules/preprocessing.html.\n",
      "Please also refer to the documentation for alternative solver options:\n",
      "    https://scikit-learn.org/stable/modules/linear_model.html#logistic-regression\n",
      "  extra_warning_msg=_LOGISTIC_SOLVER_CONVERGENCE_MSG)\n"
     ]
    },
    {
     "data": {
      "image/png": "[encoded data removed]",
      "text/plain": [
       "<Figure size 432x288 with 1 Axes>"
      ]
     },
     "metadata": {
      "needs_background": "light"
     },
     "output_type": "display_data"
    }
   ],
   "source": [
    "from sklearn.linear_model import LogisticRegression\n",
    "\n",
    "weights, params = [], []\n",
    "for c in np.arange(1e-15,5):\n",
    "    lr = LogisticRegression(C=c, random_state=0)\n",
    "    lr.fit(X_train_std, y_train)\n",
    "    weights.append((lr.coef_)[0])\n",
    "    params.append(10**c)\n",
    "\n",
    "weights = np.array(weights)\n",
    "\n",
    "# Decision region drawing\n",
    "import matplotlib.pyplot as plt\n",
    "\n",
    "plt.plot(params, weights[:, 0], color='blue', marker='x', label='vive')\n",
    "plt.plot(params, weights[:, 1], color='green',  marker='o', label='muere')\n",
    "plt.ylabel('weight coefficient')\n",
    "plt.xlabel('C')\n",
    "plt.legend(loc='right')\n",
    "plt.xscale('log')\n",
    "plt.show()"
   ]
  },
  {
   "cell_type": "markdown",
   "metadata": {},
   "source": [
    "## REGULARIZACION 2 "
   ]
  },
  {
   "cell_type": "code",
   "execution_count": 166,
   "metadata": {},
   "outputs": [],
   "source": [
    "import pandas as pd\n",
    "import numpy as np\n",
    "import matplotlib.pyplot as plt\n",
    "import seaborn as sns\n",
    "%matplotlib inline\n",
    "from sklearn.model_selection import train_test_split\n",
    "from sklearn.linear_model import Lasso, LogisticRegression\n",
    "from sklearn.feature_selection import SelectFromModel\n",
    "from sklearn.preprocessing import StandardScaler"
   ]
  },
  {
   "cell_type": "code",
   "execution_count": 183,
   "metadata": {},
   "outputs": [],
   "source": [
    "data4= data_norm"
   ]
  },
  {
   "cell_type": "code",
   "execution_count": 184,
   "metadata": {},
   "outputs": [
    {
     "data": {
      "text/plain": [
       "(91713, 120)"
      ]
     },
     "execution_count": 184,
     "metadata": {},
     "output_type": "execute_result"
    }
   ],
   "source": [
    "data_norm.shape"
   ]
  },
  {
   "cell_type": "markdown",
   "metadata": {},
   "source": [
    "## 3. Selecting Numerical Columns"
   ]
  },
  {
   "cell_type": "code",
   "execution_count": 185,
   "metadata": {},
   "outputs": [
    {
     "data": {
      "text/plain": [
       "(91713, 120)"
      ]
     },
     "execution_count": 185,
     "metadata": {},
     "output_type": "execute_result"
    }
   ],
   "source": [
    "data4.shape"
   ]
  },
  {
   "cell_type": "code",
   "execution_count": 187,
   "metadata": {},
   "outputs": [
    {
     "data": {
      "text/plain": [
       "(91713, 122)"
      ]
     },
     "execution_count": 187,
     "metadata": {},
     "output_type": "execute_result"
    }
   ],
   "source": [
    "numerics = ['int16','int32','int64','float16','float32','float64']\n",
    "numerical_vars = list(data4.select_dtypes(include=numerics).columns)\n",
    "data5 = data4[numerical_vars]\n",
    "data5.shape"
   ]
  },
  {
   "cell_type": "code",
   "execution_count": 189,
   "metadata": {},
   "outputs": [
    {
     "data": {
      "text/plain": [
       "((64199, 121), (27514, 121))"
      ]
     },
     "execution_count": 189,
     "metadata": {},
     "output_type": "execute_result"
    }
   ],
   "source": [
    "X_train, X_test, y_train, y_test = train_test_split(\n",
    "    data5.drop(labels=['hospital_death'], axis=1),\n",
    "    data5['hospital_death'],\n",
    "    test_size=0.3,\n",
    "    random_state=0)\n",
    "X_train.shape, X_test.shape"
   ]
  },
  {
   "cell_type": "code",
   "execution_count": 190,
   "metadata": {},
   "outputs": [
    {
     "data": {
      "text/plain": [
       "StandardScaler(copy=True, with_mean=True, with_std=True)"
      ]
     },
     "execution_count": 190,
     "metadata": {},
     "output_type": "execute_result"
    }
   ],
   "source": [
    "scaler = StandardScaler()\n",
    "scaler.fit(X_train.fillna(0))"
   ]
  },
  {
   "cell_type": "code",
   "execution_count": 197,
   "metadata": {},
   "outputs": [
    {
     "name": "stderr",
     "output_type": "stream",
     "text": [
      "c:\\users\\inspiron\\appdata\\local\\programs\\python\\python37\\lib\\site-packages\\sklearn\\linear_model\\_logistic.py:939: ConvergenceWarning: lbfgs failed to converge (status=1):\n",
      "STOP: TOTAL NO. of ITERATIONS REACHED LIMIT.\n",
      "\n",
      "Increase the number of iterations (max_iter) or scale the data as shown in:\n",
      "    https://scikit-learn.org/stable/modules/preprocessing.html.\n",
      "Please also refer to the documentation for alternative solver options:\n",
      "    https://scikit-learn.org/stable/modules/linear_model.html#logistic-regression\n",
      "  extra_warning_msg=_LOGISTIC_SOLVER_CONVERGENCE_MSG)\n"
     ]
    },
    {
     "data": {
      "text/plain": [
       "SelectFromModel(estimator=LogisticRegression(C=1, class_weight='balanced',\n",
       "                                             dual=False, fit_intercept=True,\n",
       "                                             intercept_scaling=1, l1_ratio=None,\n",
       "                                             max_iter=100, multi_class='auto',\n",
       "                                             n_jobs=None, penalty='l2',\n",
       "                                             random_state=None, solver='lbfgs',\n",
       "                                             tol=0.0001, verbose=0,\n",
       "                                             warm_start=False),\n",
       "                max_features=None, norm_order=1, prefit=False, threshold=None)"
      ]
     },
     "execution_count": 197,
     "metadata": {},
     "output_type": "execute_result"
    }
   ],
   "source": [
    "sel_ = SelectFromModel(LogisticRegression(C=1, penalty='l2', class_weight=\"balanced\"))\n",
    "sel_.fit(scaler.transform(X_train.fillna(0)), y_train)\n",
    "\n",
    "cv = RepeatedStratifiedKFold(n_splits=10, n_repeats=3, random_state=1)\n",
    "scores = cross_val_score(model, matriz, data2[\"hospital_death\"], scoring='recall', cv=cv, n_jobs=-1)\n"
   ]
  },
  {
   "cell_type": "markdown",
   "metadata": {},
   "source": [
    "### Selecc the fratures"
   ]
  },
  {
   "cell_type": "code",
   "execution_count": 193,
   "metadata": {},
   "outputs": [
    {
     "name": "stdout",
     "output_type": "stream",
     "text": [
      "total features: 121\n",
      "selected features: 37\n",
      "features with coefficients shrank to zero: 0\n"
     ]
    }
   ],
   "source": [
    "selected_feat = X_train.columns[(sel_.get_support())]\n",
    "print('total features: {}'.format((X_train.shape[1])))\n",
    "print('selected features: {}'.format(len(selected_feat)))\n",
    "print('features with coefficients shrank to zero: {}'.format(\n",
    "      np.sum(sel_.estimator_.coef_ == 0)))"
   ]
  },
  {
   "cell_type": "code",
   "execution_count": 195,
   "metadata": {},
   "outputs": [
    {
     "data": {
      "text/plain": [
       "0"
      ]
     },
     "execution_count": 195,
     "metadata": {},
     "output_type": "execute_result"
    }
   ],
   "source": [
    "np.sum(sel_.estimator_.coef_ == 0)"
   ]
  },
  {
   "cell_type": "code",
   "execution_count": null,
   "metadata": {},
   "outputs": [],
   "source": [
    "scores = cross_val_score(model, matriz, data2[\"hospital_death\"], scoring='recall', cv=cv, n_jobs=-1)"
   ]
  }
 ],
 "metadata": {
  "kernelspec": {
   "display_name": "Python 3",
   "language": "python",
   "name": "python3"
  },
  "language_info": {
   "codemirror_mode": {
    "name": "ipython",
    "version": 3
   },
   "file_extension": ".py",
   "mimetype": "text/x-python",
   "name": "python",
   "nbconvert_exporter": "python",
   "pygments_lexer": "ipython3",
   "version": "3.7.5"
  }
 },
 "nbformat": 4,
 "nbformat_minor": 2
}
